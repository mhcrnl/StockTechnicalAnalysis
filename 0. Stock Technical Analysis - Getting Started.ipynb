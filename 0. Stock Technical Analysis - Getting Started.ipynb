{
 "cells": [
  {
   "cell_type": "markdown",
   "metadata": {},
   "source": [
    "# Stock Technical Analysis: Python Tutorial"
   ]
  },
  {
   "cell_type": "markdown",
   "metadata": {},
   "source": [
    "Getting Started\n",
    "\n",
    "Contact: andrewshamlet@gmail.com // @andrewshamlet"
   ]
  },
  {
   "cell_type": "markdown",
   "metadata": {},
   "source": [
    "Congratulations, and welcome to **Stock Technical Analysis in Python**! You have taken your first step towards making smarter, more disciplined trading decisions. "
   ]
  },
  {
   "cell_type": "markdown",
   "metadata": {},
   "source": [
    "Before diving in, let's make sure you have everything you may need."
   ]
  },
  {
   "cell_type": "markdown",
   "metadata": {},
   "source": [
    "We recommend downloading Anaconda 4.4.0, with Python 2.7, from Continuum Analytics. \n",
    "\n",
    "    Anaconda 4.4.0\n",
    "    - http://www.continuum.io/downloads"
   ]
  },
  {
   "cell_type": "markdown",
   "metadata": {},
   "source": [
    "Anaconda comes pre-loaded with the three modules you will use throughout the course.\n",
    "\n",
    "    Pandas\n",
    "    - http://www.pandas.pydata.org/\n",
    "    Numpy\n",
    "    - http://www.numpy.org/\n",
    "    MatPlotLib\n",
    "    - http://www.matplotlib.org/"
   ]
  },
  {
   "cell_type": "markdown",
   "metadata": {},
   "source": [
    "You will backtest your strategy using the Quantopian platform. "
   ]
  },
  {
   "cell_type": "markdown",
   "metadata": {},
   "source": [
    "    Quantopian\n",
    "    - http://www.quantopian.com/"
   ]
  },
  {
   "cell_type": "markdown",
   "metadata": {},
   "source": [
    "StockCharts, Investopedia, and Google Finance are great resources for financial knowledge. "
   ]
  },
  {
   "cell_type": "markdown",
   "metadata": {},
   "source": [
    "    StockCharts\n",
    "    - http://www.stockcharts.com\n",
    "    Investopedia\n",
    "    - http://www.investopedia.com/\n",
    "    Google Finance\n",
    "    - http://www.google.com/finance"
   ]
  },
  {
   "cell_type": "markdown",
   "metadata": {},
   "source": [
    "Stack Overflow is a great resource for coding questions.\n",
    "\n",
    "    Stack Overflow\n",
    "    - http://www.stackoverflow.com/"
   ]
  },
  {
   "cell_type": "markdown",
   "metadata": {},
   "source": [
    "With that, you are now ready to dive in!"
   ]
  }
 ],
 "metadata": {
  "anaconda-cloud": {},
  "kernelspec": {
   "display_name": "Python 3",
   "language": "python",
   "name": "python3"
  },
  "language_info": {
   "codemirror_mode": {
    "name": "ipython",
    "version": 3
   },
   "file_extension": ".py",
   "mimetype": "text/x-python",
   "name": "python",
   "nbconvert_exporter": "python",
   "pygments_lexer": "ipython3",
   "version": "3.7.4"
  }
 },
 "nbformat": 4,
 "nbformat_minor": 4
}
