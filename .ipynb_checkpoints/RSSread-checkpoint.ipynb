{
 "cells": [
  {
   "cell_type": "code",
   "execution_count": 1,
   "metadata": {},
   "outputs": [
    {
     "data": {
      "text/html": [
       "<a href='https://medium.com/@darshipatel/web-scrapping-rss-feed-using-python-fb82370562b3'>Articol</a>\n"
      ],
      "text/plain": [
       "<IPython.core.display.HTML object>"
      ]
     },
     "metadata": {},
     "output_type": "display_data"
    }
   ],
   "source": [
    "%%HTML\n",
    "<a href='https://medium.com/@darshipatel/web-scrapping-rss-feed-using-python-fb82370562b3'>Articol</a>"
   ]
  },
  {
   "cell_type": "code",
   "execution_count": 3,
   "metadata": {},
   "outputs": [
    {
     "data": {
      "text/html": [
       "<img src='https://miro.medium.com/max/1400/1*lovtN9ORhF0pdpePKlzwAg.png'/>\n"
      ],
      "text/plain": [
       "<IPython.core.display.HTML object>"
      ]
     },
     "metadata": {},
     "output_type": "display_data"
    }
   ],
   "source": [
    "%%HTML\n",
    "<img src='https://miro.medium.com/max/1400/1*lovtN9ORhF0pdpePKlzwAg.png'/>"
   ]
  },
  {
   "cell_type": "code",
   "execution_count": 15,
   "metadata": {},
   "outputs": [
    {
     "ename": "NameError",
     "evalue": "name 'xml' is not defined",
     "output_type": "error",
     "traceback": [
      "\u001b[1;31m---------------------------------------------------------------------------\u001b[0m",
      "\u001b[1;31mNameError\u001b[0m                                 Traceback (most recent call last)",
      "\u001b[1;32m<ipython-input-15-e7b5c8d5719b>\u001b[0m in \u001b[0;36m<module>\u001b[1;34m\u001b[0m\n\u001b[0;32m      5\u001b[0m \u001b[1;33m\u001b[0m\u001b[0m\n\u001b[0;32m      6\u001b[0m \u001b[0mresp\u001b[0m \u001b[1;33m=\u001b[0m \u001b[0murlopen\u001b[0m\u001b[1;33m(\u001b[0m\u001b[0murl\u001b[0m\u001b[1;33m)\u001b[0m\u001b[1;33m\u001b[0m\u001b[1;33m\u001b[0m\u001b[0m\n\u001b[1;32m----> 7\u001b[1;33m \u001b[0msoup\u001b[0m \u001b[1;33m=\u001b[0m \u001b[0mBeautifulSoup\u001b[0m\u001b[1;33m(\u001b[0m\u001b[0mxml\u001b[0m\u001b[1;33m)\u001b[0m\u001b[1;33m\u001b[0m\u001b[1;33m\u001b[0m\u001b[0m\n\u001b[0m\u001b[0;32m      8\u001b[0m \u001b[0mprint\u001b[0m\u001b[1;33m(\u001b[0m\u001b[0msoup\u001b[0m\u001b[1;33m.\u001b[0m\u001b[0mpritiffy\u001b[0m\u001b[1;33m(\u001b[0m\u001b[1;33m)\u001b[0m\u001b[1;33m)\u001b[0m\u001b[1;33m\u001b[0m\u001b[1;33m\u001b[0m\u001b[0m\n",
      "\u001b[1;31mNameError\u001b[0m: name 'xml' is not defined"
     ]
    }
   ],
   "source": [
    "from urllib.request import urlopen\n",
    "import bs4 as BeautifulSoup\n",
    "\n",
    "url='http://feeds.bbci.co.uk/news/world/rss.xml'\n",
    "\n",
    "resp = urlopen(url)\n",
    "soup = BeautifulSoup(xml)\n",
    "print(soup.pritiffy())"
   ]
  },
  {
   "cell_type": "code",
   "execution_count": 23,
   "metadata": {},
   "outputs": [
    {
     "data": {
      "text/plain": [
       "'BBC News - World'"
      ]
     },
     "execution_count": 23,
     "metadata": {},
     "output_type": "execute_result"
    }
   ],
   "source": [
    "#!pip install feedparser\n",
    "import feedparser\n",
    "world = feedparser.parse(url)\n",
    "world.feed.title"
   ]
  },
  {
   "cell_type": "code",
   "execution_count": 19,
   "metadata": {},
   "outputs": [
    {
     "data": {
      "text/html": [
       "<a href='https://pythonhosted.org/feedparser/common-rss-elements.html'>Documentation</a>\n"
      ],
      "text/plain": [
       "<IPython.core.display.HTML object>"
      ]
     },
     "metadata": {},
     "output_type": "display_data"
    }
   ],
   "source": [
    "%%HTML\n",
    "<a href='https://pythonhosted.org/feedparser/common-rss-elements.html'>Documentation</a>"
   ]
  },
  {
   "cell_type": "code",
   "execution_count": 24,
   "metadata": {},
   "outputs": [
    {
     "data": {
      "text/plain": [
       "'https://www.bbc.co.uk/news/'"
      ]
     },
     "execution_count": 24,
     "metadata": {},
     "output_type": "execute_result"
    }
   ],
   "source": [
    "world.feed.link"
   ]
  },
  {
   "cell_type": "code",
   "execution_count": 25,
   "metadata": {},
   "outputs": [
    {
     "data": {
      "text/plain": [
       "'BBC News - World'"
      ]
     },
     "execution_count": 25,
     "metadata": {},
     "output_type": "execute_result"
    }
   ],
   "source": [
    "world.feed.description"
   ]
  },
  {
   "cell_type": "code",
   "execution_count": 26,
   "metadata": {},
   "outputs": [
    {
     "ename": "AttributeError",
     "evalue": "object has no attribute 'published'",
     "output_type": "error",
     "traceback": [
      "\u001b[1;31m---------------------------------------------------------------------------\u001b[0m",
      "\u001b[1;31mKeyError\u001b[0m                                  Traceback (most recent call last)",
      "\u001b[1;32mC:\\ProgramData\\Anaconda3\\lib\\site-packages\\feedparser.py\u001b[0m in \u001b[0;36m__getattr__\u001b[1;34m(self, key)\u001b[0m\n\u001b[0;32m    397\u001b[0m         \u001b[1;32mtry\u001b[0m\u001b[1;33m:\u001b[0m\u001b[1;33m\u001b[0m\u001b[1;33m\u001b[0m\u001b[0m\n\u001b[1;32m--> 398\u001b[1;33m             \u001b[1;32mreturn\u001b[0m \u001b[0mself\u001b[0m\u001b[1;33m.\u001b[0m\u001b[0m__getitem__\u001b[0m\u001b[1;33m(\u001b[0m\u001b[0mkey\u001b[0m\u001b[1;33m)\u001b[0m\u001b[1;33m\u001b[0m\u001b[1;33m\u001b[0m\u001b[0m\n\u001b[0m\u001b[0;32m    399\u001b[0m         \u001b[1;32mexcept\u001b[0m \u001b[0mKeyError\u001b[0m\u001b[1;33m:\u001b[0m\u001b[1;33m\u001b[0m\u001b[1;33m\u001b[0m\u001b[0m\n",
      "\u001b[1;32mC:\\ProgramData\\Anaconda3\\lib\\site-packages\\feedparser.py\u001b[0m in \u001b[0;36m__getitem__\u001b[1;34m(self, key)\u001b[0m\n\u001b[0;32m    355\u001b[0m                 \u001b[1;32mreturn\u001b[0m \u001b[0mdict\u001b[0m\u001b[1;33m.\u001b[0m\u001b[0m__getitem__\u001b[0m\u001b[1;33m(\u001b[0m\u001b[0mself\u001b[0m\u001b[1;33m,\u001b[0m \u001b[0mrealkey\u001b[0m\u001b[1;33m)\u001b[0m\u001b[1;33m\u001b[0m\u001b[1;33m\u001b[0m\u001b[0m\n\u001b[1;32m--> 356\u001b[1;33m         \u001b[1;32mreturn\u001b[0m \u001b[0mdict\u001b[0m\u001b[1;33m.\u001b[0m\u001b[0m__getitem__\u001b[0m\u001b[1;33m(\u001b[0m\u001b[0mself\u001b[0m\u001b[1;33m,\u001b[0m \u001b[0mkey\u001b[0m\u001b[1;33m)\u001b[0m\u001b[1;33m\u001b[0m\u001b[1;33m\u001b[0m\u001b[0m\n\u001b[0m\u001b[0;32m    357\u001b[0m \u001b[1;33m\u001b[0m\u001b[0m\n",
      "\u001b[1;31mKeyError\u001b[0m: 'published'",
      "\nDuring handling of the above exception, another exception occurred:\n",
      "\u001b[1;31mAttributeError\u001b[0m                            Traceback (most recent call last)",
      "\u001b[1;32m<ipython-input-26-ef366b2e56a5>\u001b[0m in \u001b[0;36m<module>\u001b[1;34m\u001b[0m\n\u001b[1;32m----> 1\u001b[1;33m \u001b[0mworld\u001b[0m\u001b[1;33m.\u001b[0m\u001b[0mfeed\u001b[0m\u001b[1;33m.\u001b[0m\u001b[0mpublished\u001b[0m\u001b[1;33m\u001b[0m\u001b[1;33m\u001b[0m\u001b[0m\n\u001b[0m",
      "\u001b[1;32mC:\\ProgramData\\Anaconda3\\lib\\site-packages\\feedparser.py\u001b[0m in \u001b[0;36m__getattr__\u001b[1;34m(self, key)\u001b[0m\n\u001b[0;32m    398\u001b[0m             \u001b[1;32mreturn\u001b[0m \u001b[0mself\u001b[0m\u001b[1;33m.\u001b[0m\u001b[0m__getitem__\u001b[0m\u001b[1;33m(\u001b[0m\u001b[0mkey\u001b[0m\u001b[1;33m)\u001b[0m\u001b[1;33m\u001b[0m\u001b[1;33m\u001b[0m\u001b[0m\n\u001b[0;32m    399\u001b[0m         \u001b[1;32mexcept\u001b[0m \u001b[0mKeyError\u001b[0m\u001b[1;33m:\u001b[0m\u001b[1;33m\u001b[0m\u001b[1;33m\u001b[0m\u001b[0m\n\u001b[1;32m--> 400\u001b[1;33m             \u001b[1;32mraise\u001b[0m \u001b[0mAttributeError\u001b[0m\u001b[1;33m(\u001b[0m\u001b[1;34m\"object has no attribute '%s'\"\u001b[0m \u001b[1;33m%\u001b[0m \u001b[0mkey\u001b[0m\u001b[1;33m)\u001b[0m\u001b[1;33m\u001b[0m\u001b[1;33m\u001b[0m\u001b[0m\n\u001b[0m\u001b[0;32m    401\u001b[0m \u001b[1;33m\u001b[0m\u001b[0m\n\u001b[0;32m    402\u001b[0m     \u001b[1;32mdef\u001b[0m \u001b[0m__hash__\u001b[0m\u001b[1;33m(\u001b[0m\u001b[0mself\u001b[0m\u001b[1;33m)\u001b[0m\u001b[1;33m:\u001b[0m\u001b[1;33m\u001b[0m\u001b[1;33m\u001b[0m\u001b[0m\n",
      "\u001b[1;31mAttributeError\u001b[0m: object has no attribute 'published'"
     ]
    }
   ],
   "source": [
    "world.feed.published"
   ]
  },
  {
   "cell_type": "code",
   "execution_count": 27,
   "metadata": {},
   "outputs": [
    {
     "name": "stdout",
     "output_type": "stream",
     "text": [
      "{'feed': {'title': 'BBC News - World', 'title_detail': {'type': 'text/plain', 'language': None, 'base': 'http://feeds.bbci.co.uk/news/world/rss.xml', 'value': 'BBC News - World'}, 'subtitle': 'BBC News - World', 'subtitle_detail': {'type': 'text/html', 'language': None, 'base': 'http://feeds.bbci.co.uk/news/world/rss.xml', 'value': 'BBC News - World'}, 'links': [{'rel': 'alternate', 'type': 'text/html', 'href': 'https://www.bbc.co.uk/news/'}], 'link': 'https://www.bbc.co.uk/news/', 'image': {'href': 'https://news.bbcimg.co.uk/nol/shared/img/bbc_news_120x60.gif', 'title': 'BBC News - World', 'title_detail': {'type': 'text/plain', 'language': None, 'base': 'http://feeds.bbci.co.uk/news/world/rss.xml', 'value': 'BBC News - World'}, 'links': [{'rel': 'alternate', 'type': 'text/html', 'href': 'https://www.bbc.co.uk/news/'}], 'link': 'https://www.bbc.co.uk/news/'}, 'generator_detail': {'name': 'RSS for Node'}, 'generator': 'RSS for Node', 'updated': 'Sat, 25 Apr 2020 09:48:45 GMT', 'updated_parsed': time.struct_time(tm_year=2020, tm_mon=4, tm_mday=25, tm_hour=9, tm_min=48, tm_sec=45, tm_wday=5, tm_yday=116, tm_isdst=0), 'rights': 'Copyright: (C) British Broadcasting Corporation, see http://news.bbc.co.uk/2/hi/help/rss/4498287.stm for terms and conditions of reuse.', 'rights_detail': {'type': 'text/plain', 'language': None, 'base': 'http://feeds.bbci.co.uk/news/world/rss.xml', 'value': 'Copyright: (C) British Broadcasting Corporation, see http://news.bbc.co.uk/2/hi/help/rss/4498287.stm for terms and conditions of reuse.'}, 'language': 'en-gb', 'ttl': '15'}, 'entries': [{'title': 'Coronavirus: Some states begin to reopen as US death toll passes 50,000', 'title_detail': {'type': 'text/plain', 'language': None, 'base': 'http://feeds.bbci.co.uk/news/world/rss.xml', 'value': 'Coronavirus: Some states begin to reopen as US death toll passes 50,000'}, 'summary': 'Georgia, Oklahoma and Alaska lift some restrictions despite warnings that it may be too soon.', 'summary_detail': {'type': 'text/html', 'language': None, 'base': 'http://feeds.bbci.co.uk/news/world/rss.xml', 'value': 'Georgia, Oklahoma and Alaska lift some restrictions despite warnings that it may be too soon.'}, 'links': [{'rel': 'alternate', 'type': 'text/html', 'href': 'https://www.bbc.co.uk/news/world-us-canada-52421730'}], 'link': 'https://www.bbc.co.uk/news/world-us-canada-52421730', 'id': 'https://www.bbc.co.uk/news/world-us-canada-52421730', 'guidislink': False, 'published': 'Sat, 25 Apr 2020 04:39:19 GMT', 'published_parsed': time.struct_time(tm_year=2020, tm_mon=4, tm_mday=25, tm_hour=4, tm_min=39, tm_sec=19, tm_wday=5, tm_yday=116, tm_isdst=0)}, {'title': \"Coronavirus: Doctors dismantle Trump's treatment comments\", 'title_detail': {'type': 'text/plain', 'language': None, 'base': 'http://feeds.bbci.co.uk/news/world/rss.xml', 'value': \"Coronavirus: Doctors dismantle Trump's treatment comments\"}, 'summary': 'They warned that heeding his comments on using disinfectants or UV light could have fatal consequences.', 'summary_detail': {'type': 'text/html', 'language': None, 'base': 'http://feeds.bbci.co.uk/news/world/rss.xml', 'value': 'They warned that heeding his comments on using disinfectants or UV light could have fatal consequences.'}, 'links': [{'rel': 'alternate', 'type': 'text/html', 'href': 'https://www.bbc.co.uk/news/world-us-canada-52421673'}], 'link': 'https://www.bbc.co.uk/news/world-us-canada-52421673', 'id': 'https://www.bbc.co.uk/news/world-us-canada-52421673', 'guidislink': False, 'published': 'Sat, 25 Apr 2020 00:21:19 GMT', 'published_parsed': time.struct_time(tm_year=2020, tm_mon=4, tm_mday=25, tm_hour=0, tm_min=21, tm_sec=19, tm_wday=5, tm_yday=116, tm_isdst=0)}, {'title': 'Coronavirus: Belgium unveils plans to lift lockdown', 'title_detail': {'type': 'text/plain', 'language': None, 'base': 'http://feeds.bbci.co.uk/news/world/rss.xml', 'value': 'Coronavirus: Belgium unveils plans to lift lockdown'}, 'summary': 'Schools will be allowed to reopen from 11 May, but with no more than 10 pupils per class', 'summary_detail': {'type': 'text/html', 'language': None, 'base': 'http://feeds.bbci.co.uk/news/world/rss.xml', 'value': 'Schools will be allowed to reopen from 11 May, but with no more than 10 pupils per class'}, 'links': [{'rel': 'alternate', 'type': 'text/html', 'href': 'https://www.bbc.co.uk/news/world-europe-52421723'}], 'link': 'https://www.bbc.co.uk/news/world-europe-52421723', 'id': 'https://www.bbc.co.uk/news/world-europe-52421723', 'guidislink': False, 'published': 'Sat, 25 Apr 2020 03:51:58 GMT', 'published_parsed': time.struct_time(tm_year=2020, tm_mon=4, tm_mday=25, tm_hour=3, tm_min=51, tm_sec=58, tm_wday=5, tm_yday=116, tm_isdst=0)}, {'title': 'Australia and New Zealand mark Anzac Day in driveways', 'title_detail': {'type': 'text/plain', 'language': None, 'base': 'http://feeds.bbci.co.uk/news/world/rss.xml', 'value': 'Australia and New Zealand mark Anzac Day in driveways'}, 'summary': 'Citizens, many holding candles, stand in silence in driveways to pay a dawn tribute to wartime dead.', 'summary_detail': {'type': 'text/html', 'language': None, 'base': 'http://feeds.bbci.co.uk/news/world/rss.xml', 'value': 'Citizens, many holding candles, stand in silence in driveways to pay a dawn tribute to wartime dead.'}, 'links': [{'rel': 'alternate', 'type': 'text/html', 'href': 'https://www.bbc.co.uk/news/world-australia-52406944'}], 'link': 'https://www.bbc.co.uk/news/world-australia-52406944', 'id': 'https://www.bbc.co.uk/news/world-australia-52406944', 'guidislink': False, 'published': 'Sat, 25 Apr 2020 02:26:32 GMT', 'published_parsed': time.struct_time(tm_year=2020, tm_mon=4, tm_mday=25, tm_hour=2, tm_min=26, tm_sec=32, tm_wday=5, tm_yday=116, tm_isdst=0)}, {'title': \"Nova Scotia shooting: 'They had no idea the hell they were going to face'\", 'title_detail': {'type': 'text/plain', 'language': None, 'base': 'http://feeds.bbci.co.uk/news/world/rss.xml', 'value': \"Nova Scotia shooting: 'They had no idea the hell they were going to face'\"}, 'summary': \"Canada's deadliest shooting is pieced together by the people swept up in its path of terror.\", 'summary_detail': {'type': 'text/html', 'language': None, 'base': 'http://feeds.bbci.co.uk/news/world/rss.xml', 'value': \"Canada's deadliest shooting is pieced together by the people swept up in its path of terror.\"}, 'links': [{'rel': 'alternate', 'type': 'text/html', 'href': 'https://www.bbc.co.uk/news/world-us-canada-52373798'}], 'link': 'https://www.bbc.co.uk/news/world-us-canada-52373798', 'id': 'https://www.bbc.co.uk/news/world-us-canada-52373798', 'guidislink': False, 'published': 'Fri, 24 Apr 2020 21:47:25 GMT', 'published_parsed': time.struct_time(tm_year=2020, tm_mon=4, tm_mday=24, tm_hour=21, tm_min=47, tm_sec=25, tm_wday=4, tm_yday=115, tm_isdst=0)}, {'title': \"Sergio Moro: Brazil prosecutor requests Bolsonaro 'meddling' probe\", 'title_detail': {'type': 'text/plain', 'language': None, 'base': 'http://feeds.bbci.co.uk/news/world/rss.xml', 'value': \"Sergio Moro: Brazil prosecutor requests Bolsonaro 'meddling' probe\"}, 'summary': 'It comes after former justice minister Sergio Moro accused the president of political interference.', 'summary_detail': {'type': 'text/html', 'language': None, 'base': 'http://feeds.bbci.co.uk/news/world/rss.xml', 'value': 'It comes after former justice minister Sergio Moro accused the president of political interference.'}, 'links': [{'rel': 'alternate', 'type': 'text/html', 'href': 'https://www.bbc.co.uk/news/world-latin-america-52423473'}], 'link': 'https://www.bbc.co.uk/news/world-latin-america-52423473', 'id': 'https://www.bbc.co.uk/news/world-latin-america-52423473', 'guidislink': False, 'published': 'Sat, 25 Apr 2020 08:14:01 GMT', 'published_parsed': time.struct_time(tm_year=2020, tm_mon=4, tm_mday=25, tm_hour=8, tm_min=14, tm_sec=1, tm_wday=5, tm_yday=116, tm_isdst=0)}, {'title': 'Saving rare species in jungles once protected by war', 'title_detail': {'type': 'text/plain', 'language': None, 'base': 'http://feeds.bbci.co.uk/news/world/rss.xml', 'value': 'Saving rare species in jungles once protected by war'}, 'summary': 'Botanists from Kew are combing the forests of Colombia for new species threatened with extinction since peace accords were signed.', 'summary_detail': {'type': 'text/html', 'language': None, 'base': 'http://feeds.bbci.co.uk/news/world/rss.xml', 'value': 'Botanists from Kew are combing the forests of Colombia for new species threatened with extinction since peace accords were signed.'}, 'links': [{'rel': 'alternate', 'type': 'text/html', 'href': 'https://www.bbc.co.uk/news/world-latin-america-52405350'}], 'link': 'https://www.bbc.co.uk/news/world-latin-america-52405350', 'id': 'https://www.bbc.co.uk/news/world-latin-america-52405350', 'guidislink': False, 'published': 'Fri, 24 Apr 2020 23:01:41 GMT', 'published_parsed': time.struct_time(tm_year=2020, tm_mon=4, tm_mday=24, tm_hour=23, tm_min=1, tm_sec=41, tm_wday=4, tm_yday=115, tm_isdst=0)}, {'title': 'Coronavirus: Air France-KLM secures billions in government aid', 'title_detail': {'type': 'text/plain', 'language': None, 'base': 'http://feeds.bbci.co.uk/news/world/rss.xml', 'value': 'Coronavirus: Air France-KLM secures billions in government aid'}, 'summary': 'Like many other airlines, the Franco-Dutch group has been badly hit by the coronavirus outbreak.', 'summary_detail': {'type': 'text/html', 'language': None, 'base': 'http://feeds.bbci.co.uk/news/world/rss.xml', 'value': 'Like many other airlines, the Franco-Dutch group has been badly hit by the coronavirus outbreak.'}, 'links': [{'rel': 'alternate', 'type': 'text/html', 'href': 'https://www.bbc.co.uk/news/world-europe-52420312'}], 'link': 'https://www.bbc.co.uk/news/world-europe-52420312', 'id': 'https://www.bbc.co.uk/news/world-europe-52420312', 'guidislink': False, 'published': 'Fri, 24 Apr 2020 22:18:16 GMT', 'published_parsed': time.struct_time(tm_year=2020, tm_mon=4, tm_mday=24, tm_hour=22, tm_min=18, tm_sec=16, tm_wday=4, tm_yday=115, tm_isdst=0)}, {'title': 'Coronavirus: China rejects call for probe into origins of disease', 'title_detail': {'type': 'text/plain', 'language': None, 'base': 'http://feeds.bbci.co.uk/news/world/rss.xml', 'value': 'Coronavirus: China rejects call for probe into origins of disease'}, 'summary': \"Beijing's deputy ambassador to the UK tells the BBC the demands are politically motivated.\", 'summary_detail': {'type': 'text/html', 'language': None, 'base': 'http://feeds.bbci.co.uk/news/world/rss.xml', 'value': \"Beijing's deputy ambassador to the UK tells the BBC the demands are politically motivated.\"}, 'links': [{'rel': 'alternate', 'type': 'text/html', 'href': 'https://www.bbc.co.uk/news/world-asia-china-52420536'}], 'link': 'https://www.bbc.co.uk/news/world-asia-china-52420536', 'id': 'https://www.bbc.co.uk/news/world-asia-china-52420536', 'guidislink': False, 'published': 'Fri, 24 Apr 2020 19:59:50 GMT', 'published_parsed': time.struct_time(tm_year=2020, tm_mon=4, tm_mday=24, tm_hour=19, tm_min=59, tm_sec=50, tm_wday=4, tm_yday=115, tm_isdst=0)}, {'title': \"DR Congo's Virunga National Park hit by 'deadliest' attack\", 'title_detail': {'type': 'text/plain', 'language': None, 'base': 'http://feeds.bbci.co.uk/news/world/rss.xml', 'value': \"DR Congo's Virunga National Park hit by 'deadliest' attack\"}, 'summary': 'At least 12 rangers died in an ambush by suspected Rwandan rebels, the deadliest attack in recent years.', 'summary_detail': {'type': 'text/html', 'language': None, 'base': 'http://feeds.bbci.co.uk/news/world/rss.xml', 'value': 'At least 12 rangers died in an ambush by suspected Rwandan rebels, the deadliest attack in recent years.'}, 'links': [{'rel': 'alternate', 'type': 'text/html', 'href': 'https://www.bbc.co.uk/news/world-africa-52415798'}], 'link': 'https://www.bbc.co.uk/news/world-africa-52415798', 'id': 'https://www.bbc.co.uk/news/world-africa-52415798', 'guidislink': False, 'published': 'Fri, 24 Apr 2020 17:39:43 GMT', 'published_parsed': time.struct_time(tm_year=2020, tm_mon=4, tm_mday=24, tm_hour=17, tm_min=39, tm_sec=43, tm_wday=4, tm_yday=115, tm_isdst=0)}, {'title': \"Messenger Rooms: Facebook's new video calls let 50 people drop in\", 'title_detail': {'type': 'text/plain', 'language': None, 'base': 'http://feeds.bbci.co.uk/news/world/rss.xml', 'value': \"Messenger Rooms: Facebook's new video calls let 50 people drop in\"}, 'summary': 'The social media giant said it worked with cryptographers to devise ways of excluding unwanted guests.', 'summary_detail': {'type': 'text/html', 'language': None, 'base': 'http://feeds.bbci.co.uk/news/world/rss.xml', 'value': 'The social media giant said it worked with cryptographers to devise ways of excluding unwanted guests.'}, 'links': [{'rel': 'alternate', 'type': 'text/html', 'href': 'https://www.bbc.co.uk/news/technology-52406924'}], 'link': 'https://www.bbc.co.uk/news/technology-52406924', 'id': 'https://www.bbc.co.uk/news/technology-52406924', 'guidislink': False, 'published': 'Fri, 24 Apr 2020 18:14:40 GMT', 'published_parsed': time.struct_time(tm_year=2020, tm_mon=4, tm_mday=24, tm_hour=18, tm_min=14, tm_sec=40, tm_wday=4, tm_yday=115, tm_isdst=0)}, {'title': 'Has Sweden got its virus science right?', 'title_detail': {'type': 'text/plain', 'language': None, 'base': 'http://feeds.bbci.co.uk/news/world/rss.xml', 'value': 'Has Sweden got its virus science right?'}, 'summary': 'The strategy devised by scientists was to keep large parts of society open but not everyone is convinced.', 'summary_detail': {'type': 'text/html', 'language': None, 'base': 'http://feeds.bbci.co.uk/news/world/rss.xml', 'value': 'The strategy devised by scientists was to keep large parts of society open but not everyone is convinced.'}, 'links': [{'rel': 'alternate', 'type': 'text/html', 'href': 'https://www.bbc.co.uk/news/world-europe-52395866'}], 'link': 'https://www.bbc.co.uk/news/world-europe-52395866', 'id': 'https://www.bbc.co.uk/news/world-europe-52395866', 'guidislink': False, 'published': 'Fri, 24 Apr 2020 23:28:33 GMT', 'published_parsed': time.struct_time(tm_year=2020, tm_mon=4, tm_mday=24, tm_hour=23, tm_min=28, tm_sec=33, tm_wday=4, tm_yday=115, tm_isdst=0)}, {'title': 'Doctors share notes on hope, fear and longing', 'title_detail': {'type': 'text/plain', 'language': None, 'base': 'http://feeds.bbci.co.uk/news/world/rss.xml', 'value': 'Doctors share notes on hope, fear and longing'}, 'summary': 'Doctors across India, who are hailed as heroes, talk about their anxieties during the pandemic.', 'summary_detail': {'type': 'text/html', 'language': None, 'base': 'http://feeds.bbci.co.uk/news/world/rss.xml', 'value': 'Doctors across India, who are hailed as heroes, talk about their anxieties during the pandemic.'}, 'links': [{'rel': 'alternate', 'type': 'text/html', 'href': 'https://www.bbc.co.uk/news/world-asia-india-52377965'}], 'link': 'https://www.bbc.co.uk/news/world-asia-india-52377965', 'id': 'https://www.bbc.co.uk/news/world-asia-india-52377965', 'guidislink': False, 'published': 'Fri, 24 Apr 2020 23:13:39 GMT', 'published_parsed': time.struct_time(tm_year=2020, tm_mon=4, tm_mday=24, tm_hour=23, tm_min=13, tm_sec=39, tm_wday=4, tm_yday=115, tm_isdst=0)}, {'title': \"'If I can't work I can't feed my family'\", 'title_detail': {'type': 'text/plain', 'language': None, 'base': 'http://feeds.bbci.co.uk/news/world/rss.xml', 'value': \"'If I can't work I can't feed my family'\"}, 'summary': 'How the Covid-19 crisis has left many migrant workers stranded and without money for their families.', 'summary_detail': {'type': 'text/html', 'language': None, 'base': 'http://feeds.bbci.co.uk/news/world/rss.xml', 'value': 'How the Covid-19 crisis has left many migrant workers stranded and without money for their families.'}, 'links': [{'rel': 'alternate', 'type': 'text/html', 'href': 'https://www.bbc.co.uk/news/business-52388835'}], 'link': 'https://www.bbc.co.uk/news/business-52388835', 'id': 'https://www.bbc.co.uk/news/business-52388835', 'guidislink': False, 'published': 'Fri, 24 Apr 2020 21:04:42 GMT', 'published_parsed': time.struct_time(tm_year=2020, tm_mon=4, tm_mday=24, tm_hour=21, tm_min=4, tm_sec=42, tm_wday=4, tm_yday=115, tm_isdst=0)}, {'title': 'Tree kangaroos: How a joey in Australia is helping save his wild cousins', 'title_detail': {'type': 'text/plain', 'language': None, 'base': 'http://feeds.bbci.co.uk/news/world/rss.xml', 'value': 'Tree kangaroos: How a joey in Australia is helping save his wild cousins'}, 'summary': 'How a joey in an Australian zoo is helping his wild cousins in Papua New Guinea.', 'summary_detail': {'type': 'text/html', 'language': None, 'base': 'http://feeds.bbci.co.uk/news/world/rss.xml', 'value': 'How a joey in an Australian zoo is helping his wild cousins in Papua New Guinea.'}, 'links': [{'rel': 'alternate', 'type': 'text/html', 'href': 'https://www.bbc.co.uk/news/world-australia-52391742'}], 'link': 'https://www.bbc.co.uk/news/world-australia-52391742', 'id': 'https://www.bbc.co.uk/news/world-australia-52391742', 'guidislink': False, 'published': 'Fri, 24 Apr 2020 23:05:05 GMT', 'published_parsed': time.struct_time(tm_year=2020, tm_mon=4, tm_mday=24, tm_hour=23, tm_min=5, tm_sec=5, tm_wday=4, tm_yday=115, tm_isdst=0)}, {'title': 'With humans vulnerable: How about a digital helper?', 'title_detail': {'type': 'text/plain', 'language': None, 'base': 'http://feeds.bbci.co.uk/news/world/rss.xml', 'value': 'With humans vulnerable: How about a digital helper?'}, 'summary': 'Robots and digital assistants have proved useful during the Covid-19 pandemic but are still limited.', 'summary_detail': {'type': 'text/html', 'language': None, 'base': 'http://feeds.bbci.co.uk/news/world/rss.xml', 'value': 'Robots and digital assistants have proved useful during the Covid-19 pandemic but are still limited.'}, 'links': [{'rel': 'alternate', 'type': 'text/html', 'href': 'https://www.bbc.co.uk/news/business-52290562'}], 'link': 'https://www.bbc.co.uk/news/business-52290562', 'id': 'https://www.bbc.co.uk/news/business-52290562', 'guidislink': False, 'published': 'Thu, 23 Apr 2020 23:15:10 GMT', 'published_parsed': time.struct_time(tm_year=2020, tm_mon=4, tm_mday=23, tm_hour=23, tm_min=15, tm_sec=10, tm_wday=3, tm_yday=114, tm_isdst=0)}, {'title': 'Coronavirus: Stories of unemployment, fear and hope in the US', 'title_detail': {'type': 'text/plain', 'language': None, 'base': 'http://feeds.bbci.co.uk/news/world/rss.xml', 'value': 'Coronavirus: Stories of unemployment, fear and hope in the US'}, 'summary': \"Over 26 million Americans have filed for unemployment - and there's a human story behind each claim.\", 'summary_detail': {'type': 'text/html', 'language': None, 'base': 'http://feeds.bbci.co.uk/news/world/rss.xml', 'value': \"Over 26 million Americans have filed for unemployment - and there's a human story behind each claim.\"}, 'links': [{'rel': 'alternate', 'type': 'text/html', 'href': 'https://www.bbc.co.uk/news/world-us-canada-52349808'}], 'link': 'https://www.bbc.co.uk/news/world-us-canada-52349808', 'id': 'https://www.bbc.co.uk/news/world-us-canada-52349808', 'guidislink': False, 'published': 'Thu, 23 Apr 2020 13:39:21 GMT', 'published_parsed': time.struct_time(tm_year=2020, tm_mon=4, tm_mday=23, tm_hour=13, tm_min=39, tm_sec=21, tm_wday=3, tm_yday=114, tm_isdst=0)}, {'title': 'Coronavirus: Should I worry about my lockdown eating?', 'title_detail': {'type': 'text/plain', 'language': None, 'base': 'http://feeds.bbci.co.uk/news/world/rss.xml', 'value': 'Coronavirus: Should I worry about my lockdown eating?'}, 'summary': \"Weeks of lockdown is putting a strain on some people's relationship with food.\", 'summary_detail': {'type': 'text/html', 'language': None, 'base': 'http://feeds.bbci.co.uk/news/world/rss.xml', 'value': \"Weeks of lockdown is putting a strain on some people's relationship with food.\"}, 'links': [{'rel': 'alternate', 'type': 'text/html', 'href': 'https://www.bbc.co.uk/news/stories-52329529'}], 'link': 'https://www.bbc.co.uk/news/stories-52329529', 'id': 'https://www.bbc.co.uk/news/stories-52329529', 'guidislink': False, 'published': 'Fri, 24 Apr 2020 23:05:27 GMT', 'published_parsed': time.struct_time(tm_year=2020, tm_mon=4, tm_mday=24, tm_hour=23, tm_min=5, tm_sec=27, tm_wday=4, tm_yday=115, tm_isdst=0)}, {'title': 'How do you fight a locust invasion amid pandemic?', 'title_detail': {'type': 'text/plain', 'language': None, 'base': 'http://feeds.bbci.co.uk/news/world/rss.xml', 'value': 'How do you fight a locust invasion amid pandemic?'}, 'summary': 'A second locust invasion hits East Africa, raising fears of more hunger amid the Covid-19 pandemic.', 'summary_detail': {'type': 'text/html', 'language': None, 'base': 'http://feeds.bbci.co.uk/news/world/rss.xml', 'value': 'A second locust invasion hits East Africa, raising fears of more hunger amid the Covid-19 pandemic.'}, 'links': [{'rel': 'alternate', 'type': 'text/html', 'href': 'https://www.bbc.co.uk/news/world-africa-52394888'}], 'link': 'https://www.bbc.co.uk/news/world-africa-52394888', 'id': 'https://www.bbc.co.uk/news/world-africa-52394888', 'guidislink': False, 'published': 'Fri, 24 Apr 2020 23:06:16 GMT', 'published_parsed': time.struct_time(tm_year=2020, tm_mon=4, tm_mday=24, tm_hour=23, tm_min=6, tm_sec=16, tm_wday=4, tm_yday=115, tm_isdst=0)}, {'title': \"Coronavirus: 'I can't wash my hands - my water was cut off'\", 'title_detail': {'type': 'text/plain', 'language': None, 'base': 'http://feeds.bbci.co.uk/news/world/rss.xml', 'value': \"Coronavirus: 'I can't wash my hands - my water was cut off'\"}, 'summary': 'In the midst of a public health crisis, low-income families in Detroit have had their water cut off.', 'summary_detail': {'type': 'text/html', 'language': None, 'base': 'http://feeds.bbci.co.uk/news/world/rss.xml', 'value': 'In the midst of a public health crisis, low-income families in Detroit have had their water cut off.'}, 'links': [{'rel': 'alternate', 'type': 'text/html', 'href': 'https://www.bbc.co.uk/news/world-us-canada-52384622'}], 'link': 'https://www.bbc.co.uk/news/world-us-canada-52384622', 'id': 'https://www.bbc.co.uk/news/world-us-canada-52384622', 'guidislink': False, 'published': 'Thu, 23 Apr 2020 23:01:05 GMT', 'published_parsed': time.struct_time(tm_year=2020, tm_mon=4, tm_mday=23, tm_hour=23, tm_min=1, tm_sec=5, tm_wday=3, tm_yday=114, tm_isdst=0)}, {'title': '10 songs supporting the world through lockdown', 'title_detail': {'type': 'text/plain', 'language': None, 'base': 'http://feeds.bbci.co.uk/news/world/rss.xml', 'value': '10 songs supporting the world through lockdown'}, 'summary': 'DJs around the world reveal the songs helping their listeners keep upbeat while stuck at home.', 'summary_detail': {'type': 'text/html', 'language': None, 'base': 'http://feeds.bbci.co.uk/news/world/rss.xml', 'value': 'DJs around the world reveal the songs helping their listeners keep upbeat while stuck at home.'}, 'links': [{'rel': 'alternate', 'type': 'text/html', 'href': 'https://www.bbc.co.uk/news/entertainment-arts-52366162'}], 'link': 'https://www.bbc.co.uk/news/entertainment-arts-52366162', 'id': 'https://www.bbc.co.uk/news/entertainment-arts-52366162', 'guidislink': False, 'published': 'Thu, 23 Apr 2020 23:16:23 GMT', 'published_parsed': time.struct_time(tm_year=2020, tm_mon=4, tm_mday=23, tm_hour=23, tm_min=16, tm_sec=23, tm_wday=3, tm_yday=114, tm_isdst=0)}, {'title': 'Coronavirus: Is social distancing an oxymoron in India?', 'title_detail': {'type': 'text/plain', 'language': None, 'base': 'http://feeds.bbci.co.uk/news/world/rss.xml', 'value': 'Coronavirus: Is social distancing an oxymoron in India?'}, 'summary': 'The country has been in lockdown for a month, so why are crowds still gathering in many places?', 'summary_detail': {'type': 'text/html', 'language': None, 'base': 'http://feeds.bbci.co.uk/news/world/rss.xml', 'value': 'The country has been in lockdown for a month, so why are crowds still gathering in many places?'}, 'links': [{'rel': 'alternate', 'type': 'text/html', 'href': 'https://www.bbc.co.uk/news/world-asia-india-52393382'}], 'link': 'https://www.bbc.co.uk/news/world-asia-india-52393382', 'id': 'https://www.bbc.co.uk/news/world-asia-india-52393382', 'guidislink': False, 'published': 'Thu, 23 Apr 2020 23:22:05 GMT', 'published_parsed': time.struct_time(tm_year=2020, tm_mon=4, tm_mday=23, tm_hour=23, tm_min=22, tm_sec=5, tm_wday=3, tm_yday=114, tm_isdst=0)}, {'title': 'Ramadan: Fasting safely during coronavirus crisis', 'title_detail': {'type': 'text/plain', 'language': None, 'base': 'http://feeds.bbci.co.uk/news/world/rss.xml', 'value': 'Ramadan: Fasting safely during coronavirus crisis'}, 'summary': 'During Ramadan, many Muslim people abstain from eating and drinking between sunrise and sunset.', 'summary_detail': {'type': 'text/html', 'language': None, 'base': 'http://feeds.bbci.co.uk/news/world/rss.xml', 'value': 'During Ramadan, many Muslim people abstain from eating and drinking between sunrise and sunset.'}, 'links': [{'rel': 'alternate', 'type': 'text/html', 'href': 'https://www.bbc.co.uk/news/health-52382293'}], 'link': 'https://www.bbc.co.uk/news/health-52382293', 'id': 'https://www.bbc.co.uk/news/health-52382293', 'guidislink': False, 'published': 'Thu, 23 Apr 2020 23:14:26 GMT', 'published_parsed': time.struct_time(tm_year=2020, tm_mon=4, tm_mday=23, tm_hour=23, tm_min=14, tm_sec=26, tm_wday=3, tm_yday=114, tm_isdst=0)}, {'title': 'Coronavirus: Dancer uses bin night to perform for neighbours', 'title_detail': {'type': 'text/plain', 'language': None, 'base': 'http://feeds.bbci.co.uk/news/world/rss.xml', 'value': 'Coronavirus: Dancer uses bin night to perform for neighbours'}, 'summary': 'Albert has not been able to dance freely, but that changed the moment he embraced taking the rubbish out as an act of freedom - and a gift to his new neighbours.', 'summary_detail': {'type': 'text/html', 'language': None, 'base': 'http://feeds.bbci.co.uk/news/world/rss.xml', 'value': 'Albert has not been able to dance freely, but that changed the moment he embraced taking the rubbish out as an act of freedom - and a gift to his new neighbours.'}, 'links': [{'rel': 'alternate', 'type': 'text/html', 'href': 'https://www.bbc.co.uk/news/entertainment-arts-52406474'}], 'link': 'https://www.bbc.co.uk/news/entertainment-arts-52406474', 'id': 'https://www.bbc.co.uk/news/entertainment-arts-52406474', 'guidislink': False, 'published': 'Fri, 24 Apr 2020 23:06:25 GMT', 'published_parsed': time.struct_time(tm_year=2020, tm_mon=4, tm_mday=24, tm_hour=23, tm_min=6, tm_sec=25, tm_wday=4, tm_yday=115, tm_isdst=0)}, {'title': \"Tornado survivor: 'I'm just blessed. I'm glad to be alive'\", 'title_detail': {'type': 'text/plain', 'language': None, 'base': 'http://feeds.bbci.co.uk/news/world/rss.xml', 'value': \"Tornado survivor: 'I'm just blessed. I'm glad to be alive'\"}, 'summary': 'Severe storms have passed through Oklahoma, Texas and Louisiana, killing at least seven people.', 'summary_detail': {'type': 'text/html', 'language': None, 'base': 'http://feeds.bbci.co.uk/news/world/rss.xml', 'value': 'Severe storms have passed through Oklahoma, Texas and Louisiana, killing at least seven people.'}, 'links': [{'rel': 'alternate', 'type': 'text/html', 'href': 'https://www.bbc.co.uk/news/world-us-canada-52406505'}], 'link': 'https://www.bbc.co.uk/news/world-us-canada-52406505', 'id': 'https://www.bbc.co.uk/news/world-us-canada-52406505', 'guidislink': False, 'published': 'Thu, 23 Apr 2020 22:04:39 GMT', 'published_parsed': time.struct_time(tm_year=2020, tm_mon=4, tm_mday=23, tm_hour=22, tm_min=4, tm_sec=39, tm_wday=3, tm_yday=114, tm_isdst=0)}, {'title': \"Stay-At-Home protesters: 'We want our lives back'\", 'title_detail': {'type': 'text/plain', 'language': None, 'base': 'http://feeds.bbci.co.uk/news/world/rss.xml', 'value': \"Stay-At-Home protesters: 'We want our lives back'\"}, 'summary': 'Across the United States, some people insist the lockdowns should be lifted and states reopened.', 'summary_detail': {'type': 'text/html', 'language': None, 'base': 'http://feeds.bbci.co.uk/news/world/rss.xml', 'value': 'Across the United States, some people insist the lockdowns should be lifted and states reopened.'}, 'links': [{'rel': 'alternate', 'type': 'text/html', 'href': 'https://www.bbc.co.uk/news/world-us-canada-52406515'}], 'link': 'https://www.bbc.co.uk/news/world-us-canada-52406515', 'id': 'https://www.bbc.co.uk/news/world-us-canada-52406515', 'guidislink': False, 'published': 'Thu, 23 Apr 2020 22:59:09 GMT', 'published_parsed': time.struct_time(tm_year=2020, tm_mon=4, tm_mday=23, tm_hour=22, tm_min=59, tm_sec=9, tm_wday=3, tm_yday=114, tm_isdst=0)}, {'title': 'Coronavirus: Tokyo hospitals trying to stay ahead', 'title_detail': {'type': 'text/plain', 'language': None, 'base': 'http://feeds.bbci.co.uk/news/world/rss.xml', 'value': 'Coronavirus: Tokyo hospitals trying to stay ahead'}, 'summary': 'Doctors say the spread of the virus is not being slowed enough to take the pressure off the hospital system.', 'summary_detail': {'type': 'text/html', 'language': None, 'base': 'http://feeds.bbci.co.uk/news/world/rss.xml', 'value': 'Doctors say the spread of the virus is not being slowed enough to take the pressure off the hospital system.'}, 'links': [{'rel': 'alternate', 'type': 'text/html', 'href': 'https://www.bbc.co.uk/news/world-asia-52400084'}], 'link': 'https://www.bbc.co.uk/news/world-asia-52400084', 'id': 'https://www.bbc.co.uk/news/world-asia-52400084', 'guidislink': False, 'published': 'Thu, 23 Apr 2020 23:00:19 GMT', 'published_parsed': time.struct_time(tm_year=2020, tm_mon=4, tm_mday=23, tm_hour=23, tm_min=0, tm_sec=19, tm_wday=3, tm_yday=114, tm_isdst=0)}, {'title': \"Coronavirus: Lockdown's heavy toll on Italy's mental health\", 'title_detail': {'type': 'text/plain', 'language': None, 'base': 'http://feeds.bbci.co.uk/news/world/rss.xml', 'value': \"Coronavirus: Lockdown's heavy toll on Italy's mental health\"}, 'summary': \"Italians are struggling to cope with Europe's strictest and longest-running lockdown.\", 'summary_detail': {'type': 'text/html', 'language': None, 'base': 'http://feeds.bbci.co.uk/news/world/rss.xml', 'value': \"Italians are struggling to cope with Europe's strictest and longest-running lockdown.\"}, 'links': [{'rel': 'alternate', 'type': 'text/html', 'href': 'https://www.bbc.co.uk/news/world-europe-52400085'}], 'link': 'https://www.bbc.co.uk/news/world-europe-52400085', 'id': 'https://www.bbc.co.uk/news/world-europe-52400085', 'guidislink': False, 'published': 'Thu, 23 Apr 2020 23:00:24 GMT', 'published_parsed': time.struct_time(tm_year=2020, tm_mon=4, tm_mday=23, tm_hour=23, tm_min=0, tm_sec=24, tm_wday=3, tm_yday=114, tm_isdst=0)}], 'bozo': 0, 'headers': {'Server': 'nginx', 'Content-Type': 'text/xml; charset=utf-8', 'X-Content-Type-Options': 'nosniff', 'x-origin-route': 'xrt-ext', 'X-Cache-Action': 'HIT', 'X-Cache-Hits': '15', 'X-Cache-Age': '58', 'Content-Encoding': 'gzip', 'Content-Length': '3720', 'Cache-Control': 'max-age=8', 'Date': 'Sat, 25 Apr 2020 10:00:09 GMT', 'Connection': 'close', 'Vary': 'Accept-Encoding', 'Timing-Allow-Origin': 'https://www.bbc.co.uk, https://www.bbc.com'}, 'href': 'http://feeds.bbci.co.uk/news/world/rss.xml', 'status': 200, 'encoding': 'utf-8', 'version': 'rss20', 'namespaces': {'dc': 'http://purl.org/dc/elements/1.1/', 'content': 'http://purl.org/rss/1.0/modules/content/', '': 'http://www.w3.org/2005/Atom', 'media': 'http://search.yahoo.com/mrss/'}}\n"
     ]
    }
   ],
   "source": [
    "print(world)"
   ]
  },
  {
   "cell_type": "code",
   "execution_count": 52,
   "metadata": {},
   "outputs": [
    {
     "name": "stdout",
     "output_type": "stream",
     "text": [
      "Coronavirus: Some states begin to reopen as US death toll passes 50,000 LINK: https://www.bbc.co.uk/news/world-us-canada-52421730\n",
      "\n",
      "Coronavirus: Doctors dismantle Trump's treatment comments LINK: https://www.bbc.co.uk/news/world-us-canada-52421673\n",
      "\n",
      "Coronavirus: Belgium unveils plans to lift lockdown LINK: https://www.bbc.co.uk/news/world-europe-52421723\n",
      "\n",
      "Australia and New Zealand mark Anzac Day in driveways LINK: https://www.bbc.co.uk/news/world-australia-52406944\n",
      "\n",
      "Nova Scotia shooting: 'They had no idea the hell they were going to face' LINK: https://www.bbc.co.uk/news/world-us-canada-52373798\n",
      "\n",
      "Sergio Moro: Brazil prosecutor requests Bolsonaro 'meddling' probe LINK: https://www.bbc.co.uk/news/world-latin-america-52423473\n",
      "\n",
      "Saving rare species in jungles once protected by war LINK: https://www.bbc.co.uk/news/world-latin-america-52405350\n",
      "\n",
      "Coronavirus: Air France-KLM secures billions in government aid LINK: https://www.bbc.co.uk/news/world-europe-52420312\n",
      "\n",
      "Coronavirus: China rejects call for probe into origins of disease LINK: https://www.bbc.co.uk/news/world-asia-china-52420536\n",
      "\n",
      "DR Congo's Virunga National Park hit by 'deadliest' attack LINK: https://www.bbc.co.uk/news/world-africa-52415798\n",
      "\n",
      "Messenger Rooms: Facebook's new video calls let 50 people drop in LINK: https://www.bbc.co.uk/news/technology-52406924\n",
      "\n",
      "Has Sweden got its virus science right? LINK: https://www.bbc.co.uk/news/world-europe-52395866\n",
      "\n",
      "Doctors share notes on hope, fear and longing LINK: https://www.bbc.co.uk/news/world-asia-india-52377965\n",
      "\n",
      "'If I can't work I can't feed my family' LINK: https://www.bbc.co.uk/news/business-52388835\n",
      "\n",
      "Tree kangaroos: How a joey in Australia is helping save his wild cousins LINK: https://www.bbc.co.uk/news/world-australia-52391742\n",
      "\n",
      "With humans vulnerable: How about a digital helper? LINK: https://www.bbc.co.uk/news/business-52290562\n",
      "\n",
      "Coronavirus: Stories of unemployment, fear and hope in the US LINK: https://www.bbc.co.uk/news/world-us-canada-52349808\n",
      "\n",
      "Coronavirus: Should I worry about my lockdown eating? LINK: https://www.bbc.co.uk/news/stories-52329529\n",
      "\n",
      "How do you fight a locust invasion amid pandemic? LINK: https://www.bbc.co.uk/news/world-africa-52394888\n",
      "\n",
      "Coronavirus: 'I can't wash my hands - my water was cut off' LINK: https://www.bbc.co.uk/news/world-us-canada-52384622\n",
      "\n",
      "10 songs supporting the world through lockdown LINK: https://www.bbc.co.uk/news/entertainment-arts-52366162\n",
      "\n",
      "Coronavirus: Is social distancing an oxymoron in India? LINK: https://www.bbc.co.uk/news/world-asia-india-52393382\n",
      "\n",
      "Ramadan: Fasting safely during coronavirus crisis LINK: https://www.bbc.co.uk/news/health-52382293\n",
      "\n",
      "Coronavirus: Dancer uses bin night to perform for neighbours LINK: https://www.bbc.co.uk/news/entertainment-arts-52406474\n",
      "\n",
      "Tornado survivor: 'I'm just blessed. I'm glad to be alive' LINK: https://www.bbc.co.uk/news/world-us-canada-52406505\n",
      "\n",
      "Stay-At-Home protesters: 'We want our lives back' LINK: https://www.bbc.co.uk/news/world-us-canada-52406515\n",
      "\n",
      "Coronavirus: Tokyo hospitals trying to stay ahead LINK: https://www.bbc.co.uk/news/world-asia-52400084\n",
      "\n",
      "Coronavirus: Lockdown's heavy toll on Italy's mental health LINK: https://www.bbc.co.uk/news/world-europe-52400085\n",
      "\n"
     ]
    },
    {
     "ename": "IndexError",
     "evalue": "list index out of range",
     "output_type": "error",
     "traceback": [
      "\u001b[1;31m---------------------------------------------------------------------------\u001b[0m",
      "\u001b[1;31mIndexError\u001b[0m                                Traceback (most recent call last)",
      "\u001b[1;32m<ipython-input-52-684455de878c>\u001b[0m in \u001b[0;36m<module>\u001b[1;34m\u001b[0m\n\u001b[0;32m      1\u001b[0m \u001b[0mworld\u001b[0m\u001b[1;33m.\u001b[0m\u001b[0mentries\u001b[0m\u001b[1;33m[\u001b[0m\u001b[1;36m0\u001b[0m\u001b[1;33m]\u001b[0m\u001b[1;33m.\u001b[0m\u001b[0mtitle\u001b[0m\u001b[1;33m\u001b[0m\u001b[1;33m\u001b[0m\u001b[0m\n\u001b[0;32m      2\u001b[0m \u001b[1;32mfor\u001b[0m \u001b[0mi\u001b[0m \u001b[1;32min\u001b[0m \u001b[0mrange\u001b[0m\u001b[1;33m(\u001b[0m\u001b[1;36m71\u001b[0m\u001b[1;33m)\u001b[0m\u001b[1;33m:\u001b[0m\u001b[1;33m\u001b[0m\u001b[1;33m\u001b[0m\u001b[0m\n\u001b[1;32m----> 3\u001b[1;33m     \u001b[0mprint\u001b[0m\u001b[1;33m(\u001b[0m\u001b[0mworld\u001b[0m\u001b[1;33m.\u001b[0m\u001b[0mentries\u001b[0m\u001b[1;33m[\u001b[0m\u001b[0mi\u001b[0m\u001b[1;33m]\u001b[0m\u001b[1;33m.\u001b[0m\u001b[0mtitle\u001b[0m\u001b[1;33m+\u001b[0m\u001b[1;34m' LINK: '\u001b[0m\u001b[1;33m+\u001b[0m\u001b[0mworld\u001b[0m\u001b[1;33m.\u001b[0m\u001b[0mentries\u001b[0m\u001b[1;33m[\u001b[0m\u001b[0mi\u001b[0m\u001b[1;33m]\u001b[0m\u001b[1;33m.\u001b[0m\u001b[0mlink\u001b[0m\u001b[1;33m+\u001b[0m\u001b[1;34m\"\\n\"\u001b[0m\u001b[1;33m)\u001b[0m\u001b[1;33m\u001b[0m\u001b[1;33m\u001b[0m\u001b[0m\n\u001b[0m\u001b[0;32m      4\u001b[0m     \u001b[1;31m#print(world.entries[i].link)\u001b[0m\u001b[1;33m\u001b[0m\u001b[1;33m\u001b[0m\u001b[1;33m\u001b[0m\u001b[0m\n",
      "\u001b[1;31mIndexError\u001b[0m: list index out of range"
     ]
    }
   ],
   "source": [
    "\n",
    "world.entries[0].title\n",
    "for i in range(71):\n",
    "    print(world.entries[i].title+' LINK: '+world.entries[i].link+\"\\n\")\n",
    "    #print(world.entries[i].link)"
   ]
  },
  {
   "cell_type": "code",
   "execution_count": 56,
   "metadata": {},
   "outputs": [
    {
     "data": {
      "text/plain": [
       "\u001b[1;31mType:\u001b[0m        list\n",
       "\u001b[1;31mString form:\u001b[0m [{'title': 'Coronavirus: Some states begin to reopen as US death toll passes 50,000', 'title_deta <...> 020, tm_mon=4, tm_mday=23, tm_hour=23, tm_min=0, tm_sec=24, tm_wday=3, tm_yday=114, tm_isdst=0)}]\n",
       "\u001b[1;31mLength:\u001b[0m      28\n",
       "\u001b[1;31mDocstring:\u001b[0m  \n",
       "Built-in mutable sequence.\n",
       "\n",
       "If no argument is given, the constructor creates a new empty list.\n",
       "The argument must be an iterable if specified.\n"
      ]
     },
     "metadata": {},
     "output_type": "display_data"
    }
   ],
   "source": [
    "world.entries[0].link\n",
    "world.entries?"
   ]
  },
  {
   "cell_type": "code",
   "execution_count": 58,
   "metadata": {},
   "outputs": [
    {
     "name": "stdout",
     "output_type": "stream",
     "text": [
      "Coronavirus: Some states begin to reopen as US death toll passes 50,000\n",
      "Coronavirus: Doctors dismantle Trump's treatment comments\n",
      "Coronavirus: Belgium unveils plans to lift lockdown\n",
      "Australia and New Zealand mark Anzac Day in driveways\n",
      "Nova Scotia shooting: 'They had no idea the hell they were going to face'\n",
      "Sergio Moro: Brazil prosecutor requests Bolsonaro 'meddling' probe\n",
      "Saving rare species in jungles once protected by war\n",
      "Coronavirus: Air France-KLM secures billions in government aid\n",
      "Coronavirus: China rejects call for probe into origins of disease\n",
      "DR Congo's Virunga National Park hit by 'deadliest' attack\n",
      "Messenger Rooms: Facebook's new video calls let 50 people drop in\n",
      "Has Sweden got its virus science right?\n",
      "Doctors share notes on hope, fear and longing\n",
      "'If I can't work I can't feed my family'\n",
      "Tree kangaroos: How a joey in Australia is helping save his wild cousins\n",
      "With humans vulnerable: How about a digital helper?\n",
      "Coronavirus: Stories of unemployment, fear and hope in the US\n",
      "Coronavirus: Should I worry about my lockdown eating?\n",
      "How do you fight a locust invasion amid pandemic?\n",
      "Coronavirus: 'I can't wash my hands - my water was cut off'\n",
      "10 songs supporting the world through lockdown\n",
      "Coronavirus: Is social distancing an oxymoron in India?\n",
      "Ramadan: Fasting safely during coronavirus crisis\n",
      "Coronavirus: Dancer uses bin night to perform for neighbours\n",
      "Tornado survivor: 'I'm just blessed. I'm glad to be alive'\n",
      "Stay-At-Home protesters: 'We want our lives back'\n",
      "Coronavirus: Tokyo hospitals trying to stay ahead\n",
      "Coronavirus: Lockdown's heavy toll on Italy's mental health\n"
     ]
    }
   ],
   "source": [
    "for item in world.entries:\n",
    "    print(item.title)\n",
    "    "
   ]
  },
  {
   "cell_type": "code",
   "execution_count": 33,
   "metadata": {},
   "outputs": [
    {
     "ename": "AttributeError",
     "evalue": "object has no attribute 'categories'",
     "output_type": "error",
     "traceback": [
      "\u001b[1;31m---------------------------------------------------------------------------\u001b[0m",
      "\u001b[1;31mKeyError\u001b[0m                                  Traceback (most recent call last)",
      "\u001b[1;32mC:\\ProgramData\\Anaconda3\\lib\\site-packages\\feedparser.py\u001b[0m in \u001b[0;36m__getattr__\u001b[1;34m(self, key)\u001b[0m\n\u001b[0;32m    397\u001b[0m         \u001b[1;32mtry\u001b[0m\u001b[1;33m:\u001b[0m\u001b[1;33m\u001b[0m\u001b[1;33m\u001b[0m\u001b[0m\n\u001b[1;32m--> 398\u001b[1;33m             \u001b[1;32mreturn\u001b[0m \u001b[0mself\u001b[0m\u001b[1;33m.\u001b[0m\u001b[0m__getitem__\u001b[0m\u001b[1;33m(\u001b[0m\u001b[0mkey\u001b[0m\u001b[1;33m)\u001b[0m\u001b[1;33m\u001b[0m\u001b[1;33m\u001b[0m\u001b[0m\n\u001b[0m\u001b[0;32m    399\u001b[0m         \u001b[1;32mexcept\u001b[0m \u001b[0mKeyError\u001b[0m\u001b[1;33m:\u001b[0m\u001b[1;33m\u001b[0m\u001b[1;33m\u001b[0m\u001b[0m\n",
      "\u001b[1;32mC:\\ProgramData\\Anaconda3\\lib\\site-packages\\feedparser.py\u001b[0m in \u001b[0;36m__getitem__\u001b[1;34m(self, key)\u001b[0m\n\u001b[0;32m    355\u001b[0m                 \u001b[1;32mreturn\u001b[0m \u001b[0mdict\u001b[0m\u001b[1;33m.\u001b[0m\u001b[0m__getitem__\u001b[0m\u001b[1;33m(\u001b[0m\u001b[0mself\u001b[0m\u001b[1;33m,\u001b[0m \u001b[0mrealkey\u001b[0m\u001b[1;33m)\u001b[0m\u001b[1;33m\u001b[0m\u001b[1;33m\u001b[0m\u001b[0m\n\u001b[1;32m--> 356\u001b[1;33m         \u001b[1;32mreturn\u001b[0m \u001b[0mdict\u001b[0m\u001b[1;33m.\u001b[0m\u001b[0m__getitem__\u001b[0m\u001b[1;33m(\u001b[0m\u001b[0mself\u001b[0m\u001b[1;33m,\u001b[0m \u001b[0mkey\u001b[0m\u001b[1;33m)\u001b[0m\u001b[1;33m\u001b[0m\u001b[1;33m\u001b[0m\u001b[0m\n\u001b[0m\u001b[0;32m    357\u001b[0m \u001b[1;33m\u001b[0m\u001b[0m\n",
      "\u001b[1;31mKeyError\u001b[0m: 'categories'",
      "\nDuring handling of the above exception, another exception occurred:\n",
      "\u001b[1;31mAttributeError\u001b[0m                            Traceback (most recent call last)",
      "\u001b[1;32m<ipython-input-33-f8168e6c1743>\u001b[0m in \u001b[0;36m<module>\u001b[1;34m\u001b[0m\n\u001b[1;32m----> 1\u001b[1;33m \u001b[0mworld\u001b[0m\u001b[1;33m.\u001b[0m\u001b[0mfeed\u001b[0m\u001b[1;33m.\u001b[0m\u001b[0mcategories\u001b[0m\u001b[1;33m\u001b[0m\u001b[1;33m\u001b[0m\u001b[0m\n\u001b[0m",
      "\u001b[1;32mC:\\ProgramData\\Anaconda3\\lib\\site-packages\\feedparser.py\u001b[0m in \u001b[0;36m__getattr__\u001b[1;34m(self, key)\u001b[0m\n\u001b[0;32m    398\u001b[0m             \u001b[1;32mreturn\u001b[0m \u001b[0mself\u001b[0m\u001b[1;33m.\u001b[0m\u001b[0m__getitem__\u001b[0m\u001b[1;33m(\u001b[0m\u001b[0mkey\u001b[0m\u001b[1;33m)\u001b[0m\u001b[1;33m\u001b[0m\u001b[1;33m\u001b[0m\u001b[0m\n\u001b[0;32m    399\u001b[0m         \u001b[1;32mexcept\u001b[0m \u001b[0mKeyError\u001b[0m\u001b[1;33m:\u001b[0m\u001b[1;33m\u001b[0m\u001b[1;33m\u001b[0m\u001b[0m\n\u001b[1;32m--> 400\u001b[1;33m             \u001b[1;32mraise\u001b[0m \u001b[0mAttributeError\u001b[0m\u001b[1;33m(\u001b[0m\u001b[1;34m\"object has no attribute '%s'\"\u001b[0m \u001b[1;33m%\u001b[0m \u001b[0mkey\u001b[0m\u001b[1;33m)\u001b[0m\u001b[1;33m\u001b[0m\u001b[1;33m\u001b[0m\u001b[0m\n\u001b[0m\u001b[0;32m    401\u001b[0m \u001b[1;33m\u001b[0m\u001b[0m\n\u001b[0;32m    402\u001b[0m     \u001b[1;32mdef\u001b[0m \u001b[0m__hash__\u001b[0m\u001b[1;33m(\u001b[0m\u001b[0mself\u001b[0m\u001b[1;33m)\u001b[0m\u001b[1;33m:\u001b[0m\u001b[1;33m\u001b[0m\u001b[1;33m\u001b[0m\u001b[0m\n",
      "\u001b[1;31mAttributeError\u001b[0m: object has no attribute 'categories'"
     ]
    }
   ],
   "source": [
    "world.feed.categories"
   ]
  },
  {
   "cell_type": "code",
   "execution_count": 48,
   "metadata": {},
   "outputs": [
    {
     "data": {
      "text/plain": [
       "28"
      ]
     },
     "execution_count": 48,
     "metadata": {},
     "output_type": "execute_result"
    }
   ],
   "source": [
    "len(world.entries)\n",
    "#len(e.title)"
   ]
  },
  {
   "cell_type": "code",
   "execution_count": 38,
   "metadata": {},
   "outputs": [
    {
     "ename": "TypeError",
     "evalue": "'int' object is not iterable",
     "output_type": "error",
     "traceback": [
      "\u001b[1;31m---------------------------------------------------------------------------\u001b[0m",
      "\u001b[1;31mTypeError\u001b[0m                                 Traceback (most recent call last)",
      "\u001b[1;32m<ipython-input-38-067ef54b1fd4>\u001b[0m in \u001b[0;36m<module>\u001b[1;34m\u001b[0m\n\u001b[1;32m----> 1\u001b[1;33m \u001b[1;32mfor\u001b[0m \u001b[0mi\u001b[0m \u001b[1;32min\u001b[0m \u001b[0mlen\u001b[0m\u001b[1;33m(\u001b[0m\u001b[0me\u001b[0m\u001b[1;33m.\u001b[0m\u001b[0mtitle\u001b[0m\u001b[1;33m)\u001b[0m\u001b[1;33m:\u001b[0m\u001b[1;33m\u001b[0m\u001b[1;33m\u001b[0m\u001b[0m\n\u001b[0m\u001b[0;32m      2\u001b[0m     \u001b[0mprint\u001b[0m\u001b[1;33m(\u001b[0m\u001b[1;33m[\u001b[0m\u001b[0mi\u001b[0m\u001b[1;33m]\u001b[0m\u001b[1;33m)\u001b[0m\u001b[1;33m\u001b[0m\u001b[1;33m\u001b[0m\u001b[0m\n",
      "\u001b[1;31mTypeError\u001b[0m: 'int' object is not iterable"
     ]
    }
   ],
   "source": [
    "for i in len(e.title):\n",
    "    print([i])"
   ]
  },
  {
   "cell_type": "code",
   "execution_count": 66,
   "metadata": {},
   "outputs": [
    {
     "name": "stdout",
     "output_type": "stream",
     "text": [
      "\"O 25 de Abril tinha de ser evocado\": os momentos-chave da sessão no Parlamento\n",
      "Mortes em tempo de Covid ultrapassam ano letal de 2018\n",
      "Trabalhadores independentes e em lay-off já recorrem a ajuda alimentar\n",
      "Bicicletas e ciclovias: a mobilidade em Portugal\n",
      "Mobilidade: \"Autarca da cidade do Porto dá 40-0 ao de Lisboa\"\n",
      "Quase todos querem capacete e seguro obrigatório na bicicleta\n",
      "Guterres elogia maturidade dos portugueses em mensagem do 25 de Abril\n",
      "Primeira página em 60 segundos: Trabalhadores independentes e em lay-off já recorrem a ajuda alimentar\n",
      "25 de Abril com número reduzido de presenças no Parlamento e \"Grândola\" à janela\n",
      "Bastonário dos Médicos defende uso de máscaras de proteção na cerimónia do 25 de Abril\n",
      "Governo pondera decretar situação de calamidade pública após estado de emergência\n",
      "DGS revoga contrato de mais de 19,6 milhões de euros em material de proteção\n",
      "Os números do Euromilhões\n",
      "Mais de metade de trabalhadores em lares já foram testados à Covid-19\n",
      "Restrições para o fim de semana do 1.º de Maio e outros temas em 60 segundos\n",
      "Linha Vida recebe cada vez mais pedidos de ajuda sobre vício do jogo\n",
      "Gulbenkian dá 1,2 milhões para ajudar idosos\n",
      "Casos de Covid-19 em Portugal sobem 70% de uma semana para a outra\n",
      "Há mais de 150 anos que não deixamos os portugueses sozinhos\n",
      "João Moutinho junta-se ao movimento \"Todos Por Quem Cuida\"\n"
     ]
    }
   ],
   "source": [
    "# Evenimentul zilei RSS\n",
    "import feedparser\n",
    "url = 'http://feeds.jn.pt/JN-Nacional'\n",
    "\n",
    "evz = feedparser.parse(url)\n",
    "\n",
    "for item in evz.entries:\n",
    "    print(item.title)\n",
    "    \n",
    "#print(evz)"
   ]
  },
  {
   "cell_type": "code",
   "execution_count": 34,
   "metadata": {},
   "outputs": [
    {
     "name": "stdout",
     "output_type": "stream",
     "text": [
      "Großbritannien: Boris Johnson will ab Montag Regierungsgeschäfte übernehmen\n",
      "Wegen einer Infektion mit dem Coronavirus musste der britische Premier Boris Johnson tagelang im Krankenhaus behandelt werden. Nun soll er zum Wochenbeginn in die Downing Street zurückkehren.\n",
      "https://www.spiegel.de/politik/ausland/grossbritannien-boris-johnson-will-ab-montag-regierungsgeschaefte-uebernehmen-a-638f8157-95a9-44f7-8c22-1254469a26f8#ref=rss\n",
      "\n",
      "Premierminister Édouard Philippe will Fahrplan für Lockerungen vorstellen\n",
      "In wenigen Tagen will Frankreichs Premierminister Édouard Philippe vor dem Parlament Wege aus dem Lockdown präsentieren. Präsident Macron plant, zum Ende der Ausgangssperre zunächst Schulen zu öffnen.\n",
      "https://www.spiegel.de/politik/ausland/premierminister-edouard-philippe-will-fahrplan-fuer-lockerungen-vorstellen-a-ba5f6d51-b889-4920-a42b-acd3d12bc265#ref=rss\n",
      "\n",
      "Kritik an chinesischer Führung: Peking-kritischer Buchhändler aus Hongkong eröffnet neuen Laden in Taiwan\n",
      "Das Schicksal von fünf Buchhändlern aus Hongkong, die auf dem chinesischen Festland verschwunden waren, sorgte 2015 für Aufsehen. Nun verkauft einer von ihnen wieder - aber auch in Taiwan fühlt er sich nicht sicher.\n",
      "https://www.spiegel.de/politik/ausland/kritik-an-chinesischer-fuehrung-peking-kritischer-buchhaendler-aus-hongkong-eroeffnet-neuen-laden-in-taiwan-a-748bae4e-357c-4671-b52a-64c8047e28ce#ref=rss\n",
      "\n",
      "Israel: Hunderte protestieren in Tel Aviv gegen Benjamin Netanyahu\n",
      "In Israel sind Hunderte Menschen gegen die neue Koalition von Ministerpräsident Benjamin Netanyahu auf die Straße gegangen. Zum Schutz vor dem Coronavirus hielten die Demonstranten untereinander großzügig Abstand.\n",
      "https://www.spiegel.de/politik/ausland/israel-hunderte-protestieren-in-tel-aviv-gegen-benjamin-netanyahu-a-bdac0da9-ae3b-4892-8c41-fea6ea930bf6#ref=rss\n",
      "\n",
      "Covid-19: Regierungen weltweit bauen in der Corona-Krise die Demokratie ab\n",
      "Im Kampf gegen Covid-19 regieren Staatschefs weltweit mit Notstandsgesetzen und Sonderregelungen. Politiker mit autokratischen Neigungen nutzen die Krise als Vorwand, um ganz andere politische Ziele durchzusetzen.\n",
      "https://www.spiegel.de/politik/ausland/covid-19-regierungen-weltweit-bauen-in-der-corona-krise-die-demokratie-ab-a-de06f2d4-1faa-4afb-beb3-351ddcb50db8#ref=rss\n",
      "\n",
      "Torgau: Donald Trump und Wladimir Putin erinnern mit Erklärung an Zusammenkunft alliierter Truppen\n",
      "Heute vor 75 Jahren trafen sowjetische und US-amerikanische Truppen kurz vor Ende des Zweiten Weltkrieges in Sachsen erstmals aufeinander. Zum Jahrestag schlagen Donald Trump und Wladimir Putin nun harmonische Töne an.\n",
      "https://www.spiegel.de/politik/ausland/torgau-donald-trump-und-wladimir-putin-erinnern-mit-erklaerung-an-zusammenkunft-alliierter-truppen-a-b8abc472-9c37-42d5-8ea6-fd72ef314aa2#ref=rss\n",
      "\n",
      "Zittau: Wie die Diskussion über Corona-Beschränkungen verläuft\n",
      "Noch hält die große Mehrheit der Deutschen die Corona-Beschränkungen für angemessen. Doch die Ungeduld wächst. Im sächsischen Zittau führen die Diskussionen zu einer Debatte über das Erbe der DDR.\n",
      "https://www.spiegel.de/politik/deutschland/zittau-wie-die-diskussion-ueber-corona-beschraenkungen-verlaeuft-a-f667e924-7a29-471e-857b-4c66db2a5e61#ref=rss\n",
      "\n",
      "Corona und Bundesliga: Arbeitsminister Heil gegen Fußballspiele mit Maske\n",
      "Die Bundesliga will möglichst bald wieder Fußballspiele austragen - doch wie sollen die Vereine die Regeln des verschärften Corona-Arbeitsschutzes für ihre Spieler erfüllen?\n",
      "https://www.spiegel.de/politik/deutschland/corona-und-bundesliga-arbeitsminister-heil-gegen-fussballspiele-mit-maske-a-952d952e-c184-46dd-85e2-25060e3a837a#ref=rss\n",
      "\n",
      "Annegret Kramp-Karrenbauer zum CDU-Vorsitz: \"Eine Frage, die im Moment niemanden interessiert\"\n",
      "Die CDU steckte in einem nervenaufreibenden Führungsstreit - dann kam Corona und die Umfragewerte stiegen. Annegret Kramp-Karrenbauer bereut ihren Rücktritt dennoch nicht. Sagt sie jedenfalls.\n",
      "https://www.spiegel.de/politik/deutschland/annegret-kramp-karrenbauer-zum-cdu-vorsitz-eine-frage-die-im-moment-niemanden-interessiert-a-f7ce97d7-a54b-4db2-98f6-bc155b739a74#ref=rss\n",
      "\n",
      "Coronakrise wirft Agenda für deutschen EU-Ratsvorsitz über den Haufen\n",
      "Deutschland wollte die Ratspräsidentschaft nutzen, um Klimafragen voranzutreiben und das Verhältnis der EU zu Großbritannien zu klären. Jetzt aber schiebt sich ein anderes Thema deutlich in den Vordergrund.\n",
      "https://www.spiegel.de/politik/deutschland/coronakrise-wirft-agenda-fuer-deutschen-eu-ratsvorsitz-ueber-den-haufen-a-b8fa5424-2f81-4eb6-b39f-0cf80bed7e6b#ref=rss\n",
      "\n",
      "Polen: Präsidentschaftskandidatin warnt vor \"Staatsstreich\"\n",
      "Im Präsidentschafts-Wahlkampf in Polen herrscht keine Waffengleichheit: Während der konservative Amtsinhaber ständig mit TV-Ansprachen präsent ist, bremst das Versammlungsverbot seine liberale Herausforderin.\n",
      "https://www.spiegel.de/politik/ausland/polen-praesidentschaftskandidatin-warnt-vor-staatsstreich-a-3124a810-0370-44e7-b29f-bf6df7a6b8b4#ref=rss\n",
      "\n",
      "\"Gefährlich und idiotisch\"\n",
      "Desinfektionsmittel-Injektionen gegen das Coronavirus? Die Fachwelt reagierte bestürzt auf Donald Trumps Vorschlag. Er flüchtete sich in eine besonders lahme Ausrede.\n",
      "https://www.spiegel.de/politik/gefaehrlich-und-idiotisch-a-b5840ba8-6a1b-488b-a5d7-14884005e468#ref=rss\n",
      "\n",
      "Saudi-Arabien will Auspeitschen als Strafe abschaffen\n",
      "Saudi-Arabien steht immer wieder wegen Menschenrechtsverletzungen in der Kritik. Nun soll in dem Land eine besonders brutale Form der Strafe abgeschafft werden: die Auspeitschung.\n",
      "https://www.spiegel.de/politik/saudi-arabien-will-auspeitschen-als-strafe-abschaffen-a-0da0d016-175f-46d8-bc72-929106ba5b15#ref=rss\n",
      "\n",
      "Corona-Krise: Trump bietet Deutschland Beatmungsgeräte an\n",
      "Per Gesetz aus Kriegszeiten kurbelte Donald Trump die Produktion von Beatmungsgeräten an - nun haben die USA davon offenbar zu viele. Als potenziellen Abnehmer bringt der Präsident Deutschland ins Spiel.\n",
      "https://www.spiegel.de/politik/ausland/corona-krise-trump-bietet-deutschland-beatmungsgeraete-an-a-000571a1-6625-4093-97c6-59a4ed263d1f#ref=rss\n",
      "\n",
      "Corona: Navy will gefeuerten US-Flugzeugträgerkommandanten rehabilitieren\n",
      "Weil sich das Virus auf seinem Schiff rasant ausbreitete, schlug der Kommandant der \"USS Theodore Roosevelt\" Alarm - und wurde gefeuert. Bekommt er nun seinen Posten zurück?\n",
      "https://www.spiegel.de/politik/ausland/corona-navy-will-gefeuerten-us-flugzeugtraegerkommandanten-rehabilitieren-a-ac6f9407-dda1-461b-8960-f44e2c1d2865#ref=rss\n",
      "\n",
      "Corona-Krise: Grüne fordern 250-Euro-Konsumgutschein als Stütze für Einzelhandel\n",
      "Eine Gruppe um Grünen-Fraktionschef Hofreiter schlägt vor, allen Einwohnern Deutschlands einen „Kauf-vor-Ort-Gutschein“ zukommen zu lassen. So wollen sie den lokalen Einzelhandel unterstützen.\n",
      "https://www.spiegel.de/politik/deutschland/corona-krise-gruene-fordern-konsumgutschein-als-stuetze-fuer-einzelhandel-a-8569298b-625c-414c-a241-7f7235ae994a#ref=rss\n",
      "\n",
      "Großbritannien: \"Am Ende weiß keiner, ob Corona oder der Brexit schuld war\"\n",
      "Großbritannien könnte das Land mit den meisten Todesopfern in Europa werden. Korrespondent Jörg Schindler erklärt im Gespräch mit Juan Moreno, warum der Kampf gegen das Virus schiefging – und was das für den Brexit bedeutet.\n",
      "https://www.spiegel.de/politik/ausland/am-ende-weiss-keiner-ob-corona-oder-der-brexit-schuld-war-a-eb6d336e-058e-4795-b54d-99e388eb1c43#ref=rss\n",
      "\n",
      "Corona in den USA - Gefängnisse und Altersheime: \"Wie die Todesstrafe\"\n",
      "Die größten Corona-Risikozonen in den USA sind Gefängnisse und Seniorenheime. Dort starben bisher mehr als 10.000 Insassen. Trotzdem reagieren die Behörden nur langsam - manche vertuschen gar die Gefahr.\n",
      "https://www.spiegel.de/politik/ausland/corona-in-den-usa-gefaengnisse-und-altersheime-wie-die-todesstrafe-a-4d5f8313-8b6d-4cf5-83fb-226bc998d230#ref=rss\n",
      "\n",
      "Peter Altmaier im Corona-Modus: Die erstaunliche Wiederbelebung\n",
      "Er galt als Auslaufmodell und Witzfigur. Dann kam Corona. Und auf einmal ist Peter Altmaier einer der wichtigsten Politiker Deutschlands.\n",
      "https://www.spiegel.de/politik/deutschland/peter-altmaier-im-corona-modus-die-erstaunliche-wiederbelebung-a-00000000-0002-0001-0000-000170604447#ref=rss\n",
      "\n",
      "Der Rest soll schweigen - Kolumne\n",
      "Eigentlich sollten wir gar nicht wissen, dass Angela Merkel das Wort Orgie in den Mund genommen hat.\n",
      "https://www.spiegel.de/politik/deutschland/der-rest-soll-schweigen-kolumne-a-00000000-0002-0001-0000-000170604435#ref=rss\n",
      "\n"
     ]
    }
   ],
   "source": [
    "# Der Spiegel\n",
    "import feedparser\n",
    "import datetime\n",
    "\n",
    "url = 'https://www.spiegel.de/politik/index.rss'\n",
    "spiegel = feedparser.parse(url)\n",
    "for item in spiegel.entries:\n",
    "    print(item.title+'\\n'+item.description+'\\n'+item.link+'\\n')\n",
    "    \n",
    "file = 'spiegel_'+str(datetime.date.today())+'.txt'\n",
    "\n",
    "with open(file, 'w', encoding='utf-8') as f:\n",
    "    for item in spiegel.entries:\n",
    "        f.write(item.title+'\\n'+item.description+'\\n'+item.link+'\\n\\n')\n",
    "\n"
   ]
  },
  {
   "cell_type": "code",
   "execution_count": 35,
   "metadata": {},
   "outputs": [
    {
     "name": "stdout",
     "output_type": "stream",
     "text": [
      "Climate change may push some species to higher elevations -- and out of harm's way\n",
      "A new study reveals that mountain-dwelling species fleeing warming temperatures by retreating to higher elevations may find refuge from reduced human pressure.\n",
      "https://www.sciencedaily.com/releases/2020/04/200424150740.htm\n",
      "\n",
      "Two steps closer to flexible, powerful, fast bioelectronic devices\n",
      "Researchers have designed biocompatible ion-driven soft transistors that can perform real-time neurologically relevant computation and a mixed-conducting particulate composite that allows creation of electronic components out of a single material. These have promise for bioelectronic devices that are fast, sensitive, biocompatible, soft, and flexible, with long-term stability in physiological environments such as the human body. In particular, they could facilitate diagnosis and monitoring of neurological disease.\n",
      "https://www.sciencedaily.com/releases/2020/04/200424150734.htm\n",
      "\n",
      "Dramatic loss of food plants for insects\n",
      "Plummeting insect numbers are becoming a concern. A team of researchers have now demonstrated for the first time that the diversity of food plants for insects in the canton of Zurich has dramatically decreased over the past 100 years or so.\n",
      "https://www.sciencedaily.com/releases/2020/04/200424132659.htm\n",
      "\n",
      "Water may look like a simple liquid; however, it is anything but simple to analyze\n",
      "Scientists have been able to shed new light on the properties of water at the molecular level. In particular, they were able to describe accurately the interactions between three water molecules, which contribute significantly to the energy landscape of water. The research could pave the way to better understand and predict water behavior at different conditions, even under extreme ones.\n",
      "https://www.sciencedaily.com/releases/2020/04/200424132621.htm\n",
      "\n",
      "Palaeontologists reveal 'the most dangerous place in the history of planet Earth'\n",
      "100 million years ago, ferocious predators, including flying reptiles and crocodile-like hunters, made the Sahara the most dangerous place on Earth.\n",
      "https://www.sciencedaily.com/releases/2020/04/200424132617.htm\n",
      "\n",
      "Nursing homes prepared for pandemics, but COVID-19 reveals gaps\n",
      "New data suggests that Michigan nursing homes that responded to a survey were far better prepared for the COVID-19 pandemic than they were for the last one. The study includes responses from 130 nursing homes to a survey during the week that the state announced its first documented case of COVID-19.\n",
      "https://www.sciencedaily.com/releases/2020/04/200424132604.htm\n",
      "\n",
      "Hubble celebrates its 30th anniversary with a tapestry of blazing starbirth\n",
      "Hubble Space Telescope's iconic images and scientific breakthroughs have redefined our view of the universe. To commemorate three decades of scientific discoveries, this image is one of the most photogenic examples of the many turbulent stellar nurseries the telescope has observed during its 30-year lifetime.\n",
      "https://www.sciencedaily.com/releases/2020/04/200424132548.htm\n",
      "\n",
      "COVID-19: The downside of social distancing\n",
      "When faced with danger, humans draw closer together. Social distancing thwarts this impulse. Researchers argue that this dilemma poses a greater threat to society than overtly antisocial behavior.\n",
      "https://www.sciencedaily.com/releases/2020/04/200424132539.htm\n",
      "\n",
      "New high-energy-density physics research provides insights about the universe\n",
      "Researchers have applied physics theory and calculations to predict the presence of two new phenomena -- interspecies radiative transition (IRT) and the breakdown of the dipole selection rule -- in the transport of radiation in atoms and molecules under high-energy-density (HED) conditions. The research enhances an understanding of HED science and could lead to more information about how stars and other astrophysical objects evolve in the universe.\n",
      "https://www.sciencedaily.com/releases/2020/04/200424093609.htm\n",
      "\n",
      "Big data reveals we're running out of time to save environment and ourselves\n",
      "The use of big data can help scientists' chart not only the degradation of the environment but can be part of the solution to achieve sustainability, according to a new commentary paper.\n",
      "https://www.sciencedaily.com/releases/2020/04/200424093606.htm\n",
      "\n",
      "After a heart attack, physical activity makes you feel better\n",
      "Heart attack patients who take part in a lifestyle improvement program feel better -- especially when they do additional physical activity.\n",
      "https://www.sciencedaily.com/releases/2020/04/200424093602.htm\n",
      "\n",
      "The most promising strategies for defeating coronavirus: A review study\n",
      "Experts from UNC Chapel Hill review possible clinical approaches from antivirals to gene therapy against the virus responsible for COVID-19 and related diseases.\n",
      "https://www.sciencedaily.com/releases/2020/04/200424081706.htm\n",
      "\n",
      "Learn from past to protect oceans\n",
      "History holds valuable lessons -- and stark warnings -- about how to manage fisheries and other ocean resources, a new study says.\n",
      "https://www.sciencedaily.com/releases/2020/04/200424081703.htm\n",
      "\n",
      "Researchers solve 'link discovery' problem for terahertz data networks\n",
      "A team of researchers has demonstrated a way to help devices to find each other in the ultra-fast terahertz data networks of the future.\n",
      "https://www.sciencedaily.com/releases/2020/04/200424081659.htm\n",
      "\n",
      "Warming climate undoes decades of knowledge of marine protected areas\n",
      "A new study highlights that tropical coral reef marine reserves can offer little defence in the face of climate change impacts. And the changes that are being observed will force scientists, conservationists and reserve managers to rethink the role these protected areas can bring.\n",
      "https://www.sciencedaily.com/releases/2020/04/200424081654.htm\n",
      "\n",
      "The best material for homemade face masks may be a combination of two fabrics\n",
      "Researchers report that a combination of cotton with natural silk or chiffon can effectively filter out aerosol particles -- if the fit is good.\n",
      "https://www.sciencedaily.com/releases/2020/04/200424081648.htm\n",
      "\n",
      "Simple 'do it yourself' circuit to ventilate two patients at once is technically feasible\n",
      "A simple 'do it yourself' breathing circuit, using accessories that are readily available in intensive care, can be used to ventilate two critically ill patients at once, should clinicians be faced with equipment shortages, new research suggests.\n",
      "https://www.sciencedaily.com/releases/2020/04/200423212619.htm\n",
      "\n",
      "No time to waste to avoid future food shortages\n",
      "Plant scientists are working on improving photosynthesis on different fronts, from finding crop varieties that need less water, to tweaking parts of the process in order to capture more carbon dioxide and sunlight to ensure future global food security. These solutions have been highlighted in a recent Food Security Special issue of the Journal of Experimental Botany.\n",
      "https://www.sciencedaily.com/releases/2020/04/200423212614.htm\n",
      "\n",
      "New targeted agent produces considerable responses in patients with uterine cancer\n",
      "The DNA repair-blocking drug adavosertib shrinks tumors in nearly one-third of patients in clinical trial data to be shared at the Society for Gynecologic Oncology (SGO) Annual Meeting on Women's Cancer.\n",
      "https://www.sciencedaily.com/releases/2020/04/200423212610.htm\n",
      "\n",
      "Dissolved oxygen and pH policy leave fisheries at risk\n",
      "Scientists have considered accumulating scientific evidence on the harmful effects of coastal hypoxia and acidification in coastal ecosystems and suggest approaches that would address current policy shortfalls and facilitate improved protection of aquatic life.\n",
      "https://www.sciencedaily.com/releases/2020/04/200423174050.htm\n",
      "\n",
      "Adult astrocytes are key to learning and memory\n",
      "Researchers have discovered that astrocytes, the most abundant cells in the brain, play a direct role in the regulation of adult neuronal circuits involved in learning and memory.\n",
      "https://www.sciencedaily.com/releases/2020/04/200423174045.htm\n",
      "\n",
      "Hummingbirds show up when tropical trees fall down\n",
      "When the tree fell that October in 2015, the tropical giant didn't go down alone. Hundreds of neighboring trees went with it, opening a massive 2.5-acre gap in the Panamanian rainforest. Treefalls happen all the time, but this one just happened to occur in the exact spot where a decades-long ecological study was in progress, giving researchers a rare look into tropical forest dynamics.\n",
      "https://www.sciencedaily.com/releases/2020/04/200423174038.htm\n",
      "\n",
      "How much does it cost California cannabis growers to safety test?\n",
      "The high cost of testing cannabis in California leads to higher prices for the consumer, which could drive consumers to unlicensed markets. A new study finds the safety tests cost growers about 10 percent of the average wholesale price of legal cannabis. The biggest share of this expense comes from failing the test.\n",
      "https://www.sciencedaily.com/releases/2020/04/200423174035.htm\n",
      "\n",
      "COVID-19 could cost the United States billions in medical expenses\n",
      "A new study shows that hospitalizations, ventilators, and other health resources that patients would require could cost the United States $654 billion if a majority of the population gets infected with the COVID-19 coronavirus.\n",
      "https://www.sciencedaily.com/releases/2020/04/200423160512.htm\n",
      "\n",
      "'Bursty' email communication helps groups convert resources into results\n",
      "A new study looked at more than 1,300 retail banking sales teams in a large regional bank to explore whether groups vary in how they convert resources into performance. The study found that resources are generally helpful, but groups differ in the results they achieve. The variation is also largely associated with the group's coordinated attention - specifically, their patterns of email communication. The findings have implications for how firms can operate more efficiently.\n",
      "https://www.sciencedaily.com/releases/2020/04/200423154213.htm\n",
      "\n",
      "Everything is not fine: Kids can tell when parents suppress their stress\n",
      "New research finds that parents suppressing feelings of stress around their kids can actually transmit those feelings to the children. The study found that children had a physical response when parents tried to hide their emotions.\n",
      "https://www.sciencedaily.com/releases/2020/04/200423154211.htm\n",
      "\n",
      "Researchers are making recombinant-protein drugs cheaper\n",
      "The mammalian cell lines that are engineered to produce high-value recombinant-protein drugs also produce unwanted proteins that push up the overall cost to manufacture these drugs. These same proteins can also lower drug quality. Researchers have now shown that their genome-editing techniques could eliminate up to 70 percent of the contaminating protein by mass in recombinant-protein drugs produced by the workhorses of mammalian cells -- Chinese Hamster Ovary (CHO) cells.\n",
      "https://www.sciencedaily.com/releases/2020/04/200423154209.htm\n",
      "\n",
      "An obesity protein discovery may lead to better treatments\n",
      "By determining the structure of a key receptor in obesity, scientists have unlocked an opportunity for the development of new drugs.\n",
      "https://www.sciencedaily.com/releases/2020/04/200423154200.htm\n",
      "\n",
      "Researchers use 'hot Jupiter' data to mine exoplanet chemistry\n",
      "After spotting a curious pattern in scientific papers -- they described exoplanets as being cooler than expected -- astronomers have improved a mathematical model to accurately gauge the temperatures of planets from solar systems hundreds of light-years away.\n",
      "https://www.sciencedaily.com/releases/2020/04/200423154159.htm\n",
      "\n",
      "Inexpensive, portable detector identifies pathogens in minutes\n",
      "Researchers have demonstrated an inexpensive yet sensitive smartphone-based testing device for viral and bacterial pathogens that takes about 30 minutes to complete. The roughly $50 smartphone accessory could reduce the pressure on testing laboratories during a pandemic such as COVID-19.\n",
      "https://www.sciencedaily.com/releases/2020/04/200423154154.htm\n",
      "\n",
      "Game theory suggests more efficient cancer therapy\n",
      "Mathematicians are using game theory to model how this competition could be leveraged, so cancer treatment -- which also takes a toll on the patient's body -- might be administered more sparingly, with maximized effect.\n",
      "https://www.sciencedaily.com/releases/2020/04/200423154152.htm\n",
      "\n",
      "Novel coronavirus detected, monitored in wastewater\n",
      "A new approach to monitoring the novel coronavirus (as well as other dangerous pathogens and chemical agents) is being developed and refined. Known as wastewater-based epidemiology (WBE), the method mines sewage samples for vital clues about human health. It can potentially identify levels of coronavirus infection at both a local and global scale.\n",
      "https://www.sciencedaily.com/releases/2020/04/200423144056.htm\n",
      "\n",
      "Experts issue guide on lung cancer screening, management during COVID-19\n",
      "A new expert panel consensus statement provides guidance to clinicians managing lung cancer screening programs and patients with lung nodules during the COVID-19 pandemic.\n",
      "https://www.sciencedaily.com/releases/2020/04/200423143105.htm\n",
      "\n",
      "A cellular mechanism protecting against cancer\n",
      "Researchers have discovered a natural protective mechanism that leads to the programmed death of potentially diseased cells. It protects from cancer that can develop as a result of irregular distribution of genetic information to daughter cells. The enzyme separase plays a central role in these processes.\n",
      "https://www.sciencedaily.com/releases/2020/04/200423143104.htm\n",
      "\n",
      "Iron deficiency in corals?\n",
      "When iron is limited, the microalgae that live within coral cells change how they take in other trace metals, which could have cascading effects on vital biological functions and perhaps exacerbate the effects of climate change on corals.\n",
      "https://www.sciencedaily.com/releases/2020/04/200423143102.htm\n",
      "\n",
      "New research highlights blood clot dangers of COVID-19\n",
      "A special report published today in the journal Radiology outlines prevention, diagnosis and treatment of complications stemming from blood clots in patients with COVID-19. The journal also published two research letters and a case study on this topic.\n",
      "https://www.sciencedaily.com/releases/2020/04/200423143100.htm\n",
      "\n",
      "Biologists investigate why the sweet taste of sugary foods diminishes when they're cool\n",
      "Have you ever noticed how a bite of warm cherry pie fills your mouth with sweetness, but that same slice right out of the refrigerator isn't nearly as tempting? Scientists know this phenomenon to be true, but the mechanism behind it has been poorly understood.\n",
      "https://www.sciencedaily.com/releases/2020/04/200423143058.htm\n",
      "\n",
      "Atmospheric tidal waves maintain Venus' super-rotation\n",
      "An international research team has revealed that the 'super-rotation' on Venus is maintained near the equator by atmospheric tidal waves formed from solar heating on the planet's dayside and cooling on its nightside.\n",
      "https://www.sciencedaily.com/releases/2020/04/200423143050.htm\n",
      "\n",
      "Archaeologists verify Florida's Mound Key as location of elusive Spanish fort\n",
      "Florida and Georgia archaeologists have discovered the location of Fort San Antón de Carlos, home of one of the first Jesuit missions in North America. The Spanish fort was built in 1566 in the capital of the Calusa, the most powerful Native American tribe in the region, on present-day Mound Key in the center of Estero Bay on Florida's Gulf Coast.\n",
      "https://www.sciencedaily.com/releases/2020/04/200423143045.htm\n",
      "\n",
      "Scientists fashion new class of X-ray detector\n",
      "Scientists have identified a new class of X-ray detectors based on layered perovskites, a semiconducting material.\n",
      "https://www.sciencedaily.com/releases/2020/04/200423143036.htm\n",
      "\n",
      "Insects: Largest study to date finds declines on land, but recoveries in freshwater\n",
      "A worldwide compilation of insect abundance studies shows the number of land-dwelling insects is in decline. On average, there is a global decrease of 0.92 percent per year, which translates to approximately 24 percent over 30 years. At the same time, the number of insects living in freshwater has increased on average by 1.08 percent each year. Local trends are highly variable.\n",
      "https://www.sciencedaily.com/releases/2020/04/200423143031.htm\n",
      "\n",
      "Researchers restore injured man's sense of touch using brain-computer interface technology\n",
      "Researchers have been able to restore sensation to the hand of a research participant with a severe spinal cord injury using a brain-computer interface (BCI) system. The technology harnesses neural signals that are so minuscule they can't be perceived and enhances them via artificial sensory feedback sent back to the participant, resulting in greatly enriched motor function.\n",
      "https://www.sciencedaily.com/releases/2020/04/200423130508.htm\n",
      "\n",
      "How birds evolved big brains\n",
      "Evolutionary biologists and paleontologists have reconstructed the evolution of the avian brain using a massive dataset of brain volumes from dinosaurs, extinct birds like Archaeopteryx and the great auk, and modern birds.\n",
      "https://www.sciencedaily.com/releases/2020/04/200423130506.htm\n",
      "\n",
      "Very low-dose Avastin effective for preventing blindness in preterm infants\n",
      "Babies born prematurely who require treatment to prevent blindness from retinopathy of prematurity (ROP) could be treated with a dose of Avastin (bevacizumab) that is a fraction of the dose commonly used for ROP currently.\n",
      "https://www.sciencedaily.com/releases/2020/04/200423130503.htm\n",
      "\n",
      "'Designer virus' is first new oral polio vaccine in 50 years\n",
      "Virologists report promising Phase 1 clinical results for the first new oral polio vaccine in 50 years, which they have designed to be incapable of evolving the ability to cause disease in humans.\n",
      "https://www.sciencedaily.com/releases/2020/04/200423130455.htm\n",
      "\n",
      "Promising signs for Perseverance rover in its quest for past Martian life\n",
      "New research indicates river delta deposits within Mars' Jezero crater -- the destination of NASA' Perseverance rover on the Red Planet -- formed over time scales that promoted habitability and enhanced preservation of evidence.\n",
      "https://www.sciencedaily.com/releases/2020/04/200423130451.htm\n",
      "\n",
      "'Jurassic Park' in Eastern Morocco: Paleontology of the Kem Kem Group\n",
      "The Kem Kem beds in Morocco are famous for the spectacular fossils found there, including at least four large-bodied non-avian theropods, several large-bodied pterosaurs and crocodilians.\n",
      "https://www.sciencedaily.com/releases/2020/04/200423130449.htm\n",
      "\n",
      "Icelandic DNA jigsaw-puzzle brings new knowledge about Neanderthals\n",
      "An international team of researchers has put together a new image of Neanderthals based on the genes Neanderthals left in the DNA of modern humans when they had children with them about 50,000 years ago. The researchers found the new information by trawling the genomes of more than 27,000 Icelanders. Among other things, they discovered that Neanderthal children had older mothers and younger fathers than the Homo-Sapien children in Africa did at the time.\n",
      "https://www.sciencedaily.com/releases/2020/04/200423130427.htm\n",
      "\n",
      "Giant teenage shark from the dinosaur era\n",
      "Scientists examined parts of a vertebral column, which was found in northern Spain in 1996, and assigned it to the extinct shark group Ptychodontidae. In contrast to teeth, shark vertebrae bear biological information, like body size, growth, and age and allowed the team surrounding Patrick L. Jambura to gain new insights into the biology of this mysterious shark group.\n",
      "https://www.sciencedaily.com/releases/2020/04/200423130424.htm\n",
      "\n",
      "Dietary counselling introduced in infancy leads to better cardiovascular health in adults\n",
      "Scientists investigated the long-term effects of dietary counseling on cardiovascular health. The individuals, who had participated in the trial between ages 7 months and 20 years, were invited to a follow-up study at the age of 26. The results show that the intervention group who received dietary counseling had lower serum cholesterol level and better insulin sensitivity than those in the control group.\n",
      "https://www.sciencedaily.com/releases/2020/04/200423130422.htm\n",
      "\n",
      "Key nose cells identified as likely COVID-19 virus entry points\n",
      "Two specific nose cell types have been identified as likely initial infection points for COVID-19 coronavirus. Scientists discovered that goblet and ciliated cells in the nose have high levels of the entry proteins that the COVID-19 virus uses to get into our cells, which could help explain the high rate of transmission. The study with Human Cell Atlas Lung Biological Network found cells in the eye and some other organs also contain the viral-entry proteins.\n",
      "https://www.sciencedaily.com/releases/2020/04/200423130420.htm\n",
      "\n",
      "Your football team loses a match: You may suffer a heart attack\n",
      "Lost football games may trigger heart attacks in male fans, according to research presented today on EAPC Essentials 4 You, a scientific platform of the European Society of Cardiology (ESC). 'Our study shows that poor results from the local professional football team coincided with more heart attacks in male residents,' said study author Dr. Lukasz Kuzma of the Medical University of Bialystok, Poland. 'The findings suggest that the mental and emotional stress of defeat can provoke cardiac events.'\n",
      "https://www.sciencedaily.com/releases/2020/04/200423130419.htm\n",
      "\n",
      "New test for COVID-19 may deliver faster results to more people\n",
      "Scientists have developed a novel assay capable of detecting the causative viral pathogen of COVID-19 that can be run in decentralized test facilities, according to a new report.\n",
      "https://www.sciencedaily.com/releases/2020/04/200423130412.htm\n",
      "\n",
      "Gene-editing protocol for whitefly pest opens door to control\n",
      "Whiteflies are among the most important agricultural pests in the world, yet they have been difficult to genetically manipulate and control, in part, because of their small size. An international team of researchers has overcome this roadblock by developing a CRISPR/Cas9 gene-editing protocol that could lead to novel control methods for this devastating pest.\n",
      "https://www.sciencedaily.com/releases/2020/04/200423130410.htm\n",
      "\n",
      "Sensors woven into a shirt can monitor vital signs\n",
      "Researchers developed a way to incorporate electronic sensors into stretchy fabrics, allowing them to create shirts or other garments that could monitor vital signs such as temperature, respiration, and heart rate.\n",
      "https://www.sciencedaily.com/releases/2020/04/200423130408.htm\n",
      "\n",
      "New study takes the pulse of a sleeping supervolcano\n",
      "Under the volcanoes in the Andes where Chile, Argentina and Bolivia meet, there is a gigantic reservoir of molten magma. For several million years, it has been there without fully solidifying or causing a supervolcanic eruption. Geologists have long wondered how this is possible. Researchers have now discovered that the secret may be hidden tributaries of hot magma from inside the Earth.\n",
      "https://www.sciencedaily.com/releases/2020/04/200423130406.htm\n",
      "\n",
      "A novel method to precisely deliver therapeutics inside the body\n",
      "A new way to deliver therapeutic proteins inside the body uses an acoustically sensitive carrier to encapsulate the proteins and ultrasound to image and guide the package to the exact location required, according to researchers. Ultrasound then breaks the capsule, allowing the protein to enter the cell.\n",
      "https://www.sciencedaily.com/releases/2020/04/200423130404.htm\n",
      "\n",
      "Protein produced in sepsis lowers blood pressure, treatment identified to reverse effects\n",
      "Scientists show that when a molecule known as c-Jun N-terminal kinase (JNK) becomes active in sepsis, it increases the production of a protein called B-type natriuretic peptide (BNP) -- the more BNP that is produced in sepsis, the greater the deterioration of cardiovascular function. But perhaps more significantly, in mice, the researchers show that JNK and BNP activity can be halted, reversing cardiovascular damage and reducing the risk of death from sepsis.\n",
      "https://www.sciencedaily.com/releases/2020/04/200423093727.htm\n",
      "\n",
      "Being fun is no laughing matter\n",
      "A longitudinal study examined whether children who are well-liked and children who are popular got that way by being fun to hang around with. Results clearly underscore the importance of being fun. Across a two-month period, primary school children perceived by classmates as someone who is fun to be around experienced an increase in the number of classmates who liked them and the number who rated them as popular. In the eyes of peers, 'fun begets status and status begets fun.'\n",
      "https://www.sciencedaily.com/releases/2020/04/200423093725.htm\n",
      "\n",
      "Ocean microbes' role in climate effects\n",
      "A new study shows that 'hotspots' of nutrients surrounding phytoplankton -- which are tiny marine algae producing approximately half of the oxygen we breathe every day -- play an outsized role in the release of a gas involved in cloud formation and climate regulation.\n",
      "https://www.sciencedaily.com/releases/2020/04/200423082238.htm\n",
      "\n"
     ]
    }
   ],
   "source": [
    "# Science Daily\n",
    "import feedparser\n",
    "import datetime\n",
    "\n",
    "url = 'https://www.sciencedaily.com/rss/all.xml'\n",
    "sciencedaily = feedparser.parse(url)\n",
    "for item in sciencedaily.entries:\n",
    "    print(item.title + '\\n'+item.description +'\\n' + item.link +'\\n')\n",
    "    \n",
    "file = 'sd_'+str(datetime.date.today())+'.txt'\n",
    "\n",
    "with open(file, 'w', encoding='utf-8') as f:\n",
    "    for item in sciencedaily.entries:\n",
    "        f.write(item.title+'\\n'+item.description+'\\n'+item.link+'\\n\\n')\n"
   ]
  },
  {
   "cell_type": "code",
   "execution_count": 37,
   "metadata": {},
   "outputs": [
    {
     "name": "stdout",
     "output_type": "stream",
     "text": [
      "In Belarus, Everyday Life Is Much the Same as Coronavirus Spreads\n",
      "President Alexander Lukashenko has little truck with those who say the virus is a public health risk, joining other outliers such as Brazil’s President Jair Bolsonaro in shunning lockdown measures.\n",
      "https://www.wsj.com/articles/in-belarus-everyday-life-is-much-the-same-as-coronavirus-spreads-11587812401\n",
      "\n",
      "Canada's Deadliest Rampage Upends Life in Rural Nova Scotia\n",
      "A 14-hour shooting spree left shoreline communities grieving and cast a shadow across a region where residents had long assumed they were secure.\n",
      "https://www.wsj.com/articles/canadas-deadliest-rampage-upends-life-in-rural-nova-scotia-11587826802\n",
      "\n",
      "ICUs on Rails: How France Coped With a Surge of Coronavirus Patients\n",
      "French authorities transported patients over hundreds of miles from hot spots to areas less affected by the outbreak, in a model that could be used elsewhere if a second wave of infections arrives.\n",
      "https://www.wsj.com/articles/icus-on-rails-how-france-coped-with-a-surge-of-coronavirus-patients-11587807002\n",
      "\n",
      "U.S. Spent Millions on Boats Said to Be Too Slow to Catch Terrorists\n",
      "A report reviewed three State Department counterterrorism projects that tried to assist countries in the sub-Saharan region of Africa.\n",
      "https://www.wsj.com/articles/u-s-spent-millions-on-boats-said-to-be-too-slow-to-catch-lake-chad-terrorists-11587772897\n",
      "\n",
      "U.S. Allies Are Slow to Fill WHO Funding Gap as China Steps In\n",
      "America’s allies have been reluctant to fill the gap left by the U.S. decision to halt funding for the World Health Organization because of concerns over the agency’s management of the coronavirus pandemic.\n",
      "https://www.wsj.com/articles/u-s-allies-leave-who-funding-gap-unfilled-as-china-and-others-step-up-11587760407\n",
      "\n",
      "Closed Mosques and Crowd Restrictions Mark a Muslim Holy Month Like No Other\n",
      "Countries with large Muslim populations are struggling to balance the risk of a new surge in coronavirus infections against the weight of traditions that involve getting together for food and worship during the holy month of Ramadan.\n",
      "https://www.wsj.com/articles/amid-coronavirus-closed-mosques-and-restrictions-mark-a-muslim-holy-month-like-no-other-11587749613\n",
      "\n"
     ]
    }
   ],
   "source": [
    "# Wall Street Journal \n",
    "import feedparser\n",
    "import datetime\n",
    "\n",
    "url = 'https://feeds.a.dj.com/rss/RSSWorldNews.xml'\n",
    "wsj = feedparser.parse(url)\n",
    "for item in wsj.entries:\n",
    "    print(item.title + '\\n'+item.description +'\\n' + item.link +'\\n')\n",
    "    \n",
    "file = 'wsj_'+str(datetime.date.today())+'.txt'\n",
    "\n",
    "with open(file, 'w', encoding='utf-8') as f:\n",
    "    for item in wsj.entries:\n",
    "        f.write(item.title+'\\n'+item.description+'\\n'+item.link+'\\n\\n')\n",
    "\n"
   ]
  },
  {
   "cell_type": "code",
   "execution_count": 38,
   "metadata": {},
   "outputs": [
    {
     "name": "stdout",
     "output_type": "stream",
     "text": [
      "Rock Pi 4 and Android TV\n",
      "<div class=\"bbWrapper\">Rockpi.org has a newer Single Board Computer (SBC) called a Rock Pi 4.  The Rock Pi 4 supports the ability to be used as an Android TV as well as running Linux distros.<br />\n",
      "<br />\n",
      "    In this article, I will explain how to make an Android TV for the Rock Pi 4.<br />\n",
      "<br />\n",
      "<b>Hardware</b><br />\n",
      "<br />\n",
      "    The first thing we need to cover is the hardware.  The Rock Pi 4 consists of three models: A, B and C.  I am using Model B but the only difference to Model C is that the Model C board has a Mini DisplayPort which Model A...<br />\n",
      "<br />\n",
      "<a href=\"https://www.linux.org/threads/rock-pi-4-and-android-tv.28261/\" class=\"link link--internal\">https://www.linux.org/threads/rock-pi-4-and-android-tv.28261/</a></div>\n",
      "https://www.linux.org/threads/rock-pi-4-and-android-tv.28261/\n",
      "\n",
      "Create A LiveCD Media\n",
      "<div class=\"bbWrapper\">Nearly everyone using Linux has come across a LiveCD of some type. If you haven't, a LiveCD is an ISO file that can be burned to a USB or CD and booted from to create a running version of Linux in RAM. This means you can use the Linux Distro in RAM and not install it.<br />\n",
      "<br />\n",
      "    You can also make an image to install to a hard disk.  The process will allow you to install specific programs into the image.  When Linux is installed you will have all of the custom programs already installed. Having the...<br />\n",
      "<br />\n",
      "<a href=\"https://www.linux.org/threads/create-a-livecd-media.28260/\" class=\"link link--internal\">https://www.linux.org/threads/create-a-livecd-media.28260/</a></div>\n",
      "https://www.linux.org/threads/create-a-livecd-media.28260/\n",
      "\n",
      "Intro and Installation of Kubernetes\n",
      "<div class=\"bbWrapper\">Anyone using Docker can use Kubernetes to create a cluster.  A cluster is when there are multiple systems working together as a single unit.  If one system fails then the other systems will resume the failed processes to keep the resource active.<br />\n",
      "<br />\n",
      "    An example of a cluster would be multiple web servers acting as one web server.  If we had five servers managing a website.  One server may fail due to a physical hardware issue such as a hard disk failure.  The cluster will disregard the...<br />\n",
      "<br />\n",
      "<a href=\"https://www.linux.org/threads/intro-and-installation-of-kubernetes.27801/\" class=\"link link--internal\">https://www.linux.org/threads/intro-and-installation-of-kubernetes.27801/</a></div>\n",
      "https://www.linux.org/threads/intro-and-installation-of-kubernetes.27801/\n",
      "\n",
      "Add timestamp + change history size in your linux history\n",
      "<div class=\"bbWrapper\">The Linux <code class=\"bbCodeInline\">history</code> command is awesome by default, but you can make it better!   By default, it'll only hold about 1000 past commands, but you can increase that - you can also add time/date to it so you can see when you ran each command!<br />\n",
      "<br />\n",
      "In your ~/.bashrc file, simply add some lines like:<br />\n",
      "\n",
      "\t\n",
      "\t\n",
      "\n",
      "\n",
      "<div class=\"bbCodeBlock bbCodeBlock--screenLimited bbCodeBlock--code\">\n",
      "\t<div class=\"bbCodeBlock-title\">\n",
      "\t\tCode:\n",
      "\t</div>\n",
      "\t<div class=\"bbCodeBlock-content\" dir=\"ltr\">\n",
      "\t\t<pre class=\"bbCodeCode\" dir=\"ltr\" data-xf-init=\"code-block\" data-lang=\"\"><code>HISTTIMEFORMAT=&quot;%F %T &quot;\n",
      "HISTFILESIZE=5000</code></pre>\n",
      "\t</div>\n",
      "</div>Then, you'll have a 5000 line history file along with timestamps!  Give it a go and let me know how it goes!<br />\n",
      "<br />\n",
      "After you log out and back...<br />\n",
      "<br />\n",
      "<a href=\"https://www.linux.org/threads/add-timestamp-change-history-size-in-your-linux-history.27966/\" class=\"link link--internal\">https://www.linux.org/threads/add-timestamp-change-history-size-in-your-linux-history.27966/</a></div>\n",
      "https://www.linux.org/threads/add-timestamp-change-history-size-in-your-linux-history.27966/\n",
      "\n",
      "Find your top 10 linux commands in your history\n",
      "<div class=\"bbWrapper\">Linux is a great thing that it'll keep a history of the commands you time in the ~/.bash_history file.  If you'd like to see the 10 top commands you use, you can run something like the following to see what you type out the most!<br />\n",
      "<br />\n",
      "<code class=\"bbCodeInline\">cat ~/.bash_history | sort |uniq -c|sort -nr|head -n 10</code><br />\n",
      "<br />\n",
      "It should show something like this:<br />\n",
      "\n",
      "\t\n",
      "\t\n",
      "\n",
      "\n",
      "<div class=\"bbCodeBlock bbCodeBlock--screenLimited bbCodeBlock--code\">\n",
      "\t<div class=\"bbCodeBlock-title\">\n",
      "\t\tCode:\n",
      "\t</div>\n",
      "\t<div class=\"bbCodeBlock-content\" dir=\"ltr\">\n",
      "\t\t<pre class=\"bbCodeCode\" dir=\"ltr\" data-xf-init=\"code-block\" data-lang=\"\"><code>[rob ~ ]$ cat ~/.bash_history | sort |uniq -c|sort -nr|head -n 10\n",
      "    223 ls\n",
      "     78 cd\n",
      "     57 vim domain-search.sh\n",
      "     45 cd ..\n",
      "     39 git status...</code></pre>\n",
      "\t</div>\n",
      "</div><a href=\"https://www.linux.org/threads/find-your-top-10-linux-commands-in-your-history.27964/\" class=\"link link--internal\">https://www.linux.org/threads/find-your-top-10-linux-commands-in-your-history.27964/</a></div>\n",
      "https://www.linux.org/threads/find-your-top-10-linux-commands-in-your-history.27964/\n",
      "\n",
      "Red Hat Summit 2020 moved to free virtual event\n",
      "<div class=\"bbWrapper\">Red Hat is canceling the physical Red Hat Summit presence in San Francisco and rebuilding it as a free, multi-day, virtual event from April 28-29, 2020.<br />\n",
      "<br />\n",
      "This is a great opportunity to those that wouldn't normally be able to make the trip - or afford the tickets/airfare.  More info on the event site: <a href=\"https://www.redhat.com/en/summit\" target=\"_blank\" class=\"link link--external\" rel=\"noopener\">https://www.redhat.com/en/summit</a><br />\n",
      "<br />\n",
      "<a href=\"https://www.linux.org/threads/red-hat-summit-2020-moved-to-free-virtual-event.27952/\" class=\"link link--internal\">https://www.linux.org/threads/red-hat-summit-2020-moved-to-free-virtual-event.27952/</a></div>\n",
      "https://www.linux.org/threads/red-hat-summit-2020-moved-to-free-virtual-event.27952/\n",
      "\n"
     ]
    }
   ],
   "source": [
    "# linux.org\n",
    "import feedparser\n",
    "import datetime\n",
    "\n",
    "url = 'https://www.linux.org/articles/index.rss'\n",
    "linuxorg = feedparser.parse(url)\n",
    "for item in linuxorg.entries:\n",
    "    print(item.title + '\\n'+item.description +'\\n' + item.link +'\\n')\n",
    "    \n",
    "file = 'linuxorg_'+str(datetime.date.today())+'.txt'\n",
    "\n",
    "with open(file, 'w', encoding='utf-8') as f:\n",
    "    for item in linuxorg.entries:\n",
    "        f.write(item.title+'\\n'+item.description+'\\n'+item.link+'\\n\\n')\n",
    "\n"
   ]
  },
  {
   "cell_type": "code",
   "execution_count": null,
   "metadata": {},
   "outputs": [],
   "source": []
  }
 ],
 "metadata": {
  "kernelspec": {
   "display_name": "Python 3",
   "language": "python",
   "name": "python3"
  },
  "language_info": {
   "codemirror_mode": {
    "name": "ipython",
    "version": 3
   },
   "file_extension": ".py",
   "mimetype": "text/x-python",
   "name": "python",
   "nbconvert_exporter": "python",
   "pygments_lexer": "ipython3",
   "version": "3.7.4"
  }
 },
 "nbformat": 4,
 "nbformat_minor": 4
}
