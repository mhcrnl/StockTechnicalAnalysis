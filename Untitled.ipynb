{
 "cells": [
  {
   "cell_type": "code",
   "execution_count": 1,
   "metadata": {},
   "outputs": [
    {
     "data": {
      "text/html": [
       "<a href='https://medium.com/@darshipatel/web-scrapping-rss-feed-using-python-fb82370562b3'>Articol</a>\n"
      ],
      "text/plain": [
       "<IPython.core.display.HTML object>"
      ]
     },
     "metadata": {},
     "output_type": "display_data"
    }
   ],
   "source": [
    "%%HTML\n",
    "<a href='https://medium.com/@darshipatel/web-scrapping-rss-feed-using-python-fb82370562b3'>Articol</a>"
   ]
  },
  {
   "cell_type": "code",
   "execution_count": 3,
   "metadata": {},
   "outputs": [
    {
     "data": {
      "text/html": [
       "<img src='https://miro.medium.com/max/1400/1*lovtN9ORhF0pdpePKlzwAg.png'/>\n"
      ],
      "text/plain": [
       "<IPython.core.display.HTML object>"
      ]
     },
     "metadata": {},
     "output_type": "display_data"
    }
   ],
   "source": [
    "%%HTML\n",
    "<img src='https://miro.medium.com/max/1400/1*lovtN9ORhF0pdpePKlzwAg.png'/>"
   ]
  },
  {
   "cell_type": "code",
   "execution_count": 15,
   "metadata": {},
   "outputs": [
    {
     "ename": "NameError",
     "evalue": "name 'xml' is not defined",
     "output_type": "error",
     "traceback": [
      "\u001b[1;31m---------------------------------------------------------------------------\u001b[0m",
      "\u001b[1;31mNameError\u001b[0m                                 Traceback (most recent call last)",
      "\u001b[1;32m<ipython-input-15-e7b5c8d5719b>\u001b[0m in \u001b[0;36m<module>\u001b[1;34m\u001b[0m\n\u001b[0;32m      5\u001b[0m \u001b[1;33m\u001b[0m\u001b[0m\n\u001b[0;32m      6\u001b[0m \u001b[0mresp\u001b[0m \u001b[1;33m=\u001b[0m \u001b[0murlopen\u001b[0m\u001b[1;33m(\u001b[0m\u001b[0murl\u001b[0m\u001b[1;33m)\u001b[0m\u001b[1;33m\u001b[0m\u001b[1;33m\u001b[0m\u001b[0m\n\u001b[1;32m----> 7\u001b[1;33m \u001b[0msoup\u001b[0m \u001b[1;33m=\u001b[0m \u001b[0mBeautifulSoup\u001b[0m\u001b[1;33m(\u001b[0m\u001b[0mxml\u001b[0m\u001b[1;33m)\u001b[0m\u001b[1;33m\u001b[0m\u001b[1;33m\u001b[0m\u001b[0m\n\u001b[0m\u001b[0;32m      8\u001b[0m \u001b[0mprint\u001b[0m\u001b[1;33m(\u001b[0m\u001b[0msoup\u001b[0m\u001b[1;33m.\u001b[0m\u001b[0mpritiffy\u001b[0m\u001b[1;33m(\u001b[0m\u001b[1;33m)\u001b[0m\u001b[1;33m)\u001b[0m\u001b[1;33m\u001b[0m\u001b[1;33m\u001b[0m\u001b[0m\n",
      "\u001b[1;31mNameError\u001b[0m: name 'xml' is not defined"
     ]
    }
   ],
   "source": [
    "from urllib.request import urlopen\n",
    "import bs4 as BeautifulSoup\n",
    "\n",
    "url='http://feeds.bbci.co.uk/news/world/rss.xml'\n",
    "\n",
    "resp = urlopen(url)\n",
    "soup = BeautifulSoup(xml)\n",
    "print(soup.pritiffy())"
   ]
  },
  {
   "cell_type": "code",
   "execution_count": 23,
   "metadata": {},
   "outputs": [
    {
     "data": {
      "text/plain": [
       "'BBC News - World'"
      ]
     },
     "execution_count": 23,
     "metadata": {},
     "output_type": "execute_result"
    }
   ],
   "source": [
    "#!pip install feedparser\n",
    "import feedparser\n",
    "world = feedparser.parse(url)\n",
    "world.feed.title"
   ]
  },
  {
   "cell_type": "code",
   "execution_count": 19,
   "metadata": {},
   "outputs": [
    {
     "data": {
      "text/html": [
       "<a href='https://pythonhosted.org/feedparser/common-rss-elements.html'>Documentation</a>\n"
      ],
      "text/plain": [
       "<IPython.core.display.HTML object>"
      ]
     },
     "metadata": {},
     "output_type": "display_data"
    }
   ],
   "source": [
    "%%HTML\n",
    "<a href='https://pythonhosted.org/feedparser/common-rss-elements.html'>Documentation</a>"
   ]
  },
  {
   "cell_type": "code",
   "execution_count": 24,
   "metadata": {},
   "outputs": [
    {
     "data": {
      "text/plain": [
       "'https://www.bbc.co.uk/news/'"
      ]
     },
     "execution_count": 24,
     "metadata": {},
     "output_type": "execute_result"
    }
   ],
   "source": [
    "world.feed.link"
   ]
  },
  {
   "cell_type": "code",
   "execution_count": 25,
   "metadata": {},
   "outputs": [
    {
     "data": {
      "text/plain": [
       "'BBC News - World'"
      ]
     },
     "execution_count": 25,
     "metadata": {},
     "output_type": "execute_result"
    }
   ],
   "source": [
    "world.feed.description"
   ]
  },
  {
   "cell_type": "code",
   "execution_count": 26,
   "metadata": {},
   "outputs": [
    {
     "ename": "AttributeError",
     "evalue": "object has no attribute 'published'",
     "output_type": "error",
     "traceback": [
      "\u001b[1;31m---------------------------------------------------------------------------\u001b[0m",
      "\u001b[1;31mKeyError\u001b[0m                                  Traceback (most recent call last)",
      "\u001b[1;32mC:\\ProgramData\\Anaconda3\\lib\\site-packages\\feedparser.py\u001b[0m in \u001b[0;36m__getattr__\u001b[1;34m(self, key)\u001b[0m\n\u001b[0;32m    397\u001b[0m         \u001b[1;32mtry\u001b[0m\u001b[1;33m:\u001b[0m\u001b[1;33m\u001b[0m\u001b[1;33m\u001b[0m\u001b[0m\n\u001b[1;32m--> 398\u001b[1;33m             \u001b[1;32mreturn\u001b[0m \u001b[0mself\u001b[0m\u001b[1;33m.\u001b[0m\u001b[0m__getitem__\u001b[0m\u001b[1;33m(\u001b[0m\u001b[0mkey\u001b[0m\u001b[1;33m)\u001b[0m\u001b[1;33m\u001b[0m\u001b[1;33m\u001b[0m\u001b[0m\n\u001b[0m\u001b[0;32m    399\u001b[0m         \u001b[1;32mexcept\u001b[0m \u001b[0mKeyError\u001b[0m\u001b[1;33m:\u001b[0m\u001b[1;33m\u001b[0m\u001b[1;33m\u001b[0m\u001b[0m\n",
      "\u001b[1;32mC:\\ProgramData\\Anaconda3\\lib\\site-packages\\feedparser.py\u001b[0m in \u001b[0;36m__getitem__\u001b[1;34m(self, key)\u001b[0m\n\u001b[0;32m    355\u001b[0m                 \u001b[1;32mreturn\u001b[0m \u001b[0mdict\u001b[0m\u001b[1;33m.\u001b[0m\u001b[0m__getitem__\u001b[0m\u001b[1;33m(\u001b[0m\u001b[0mself\u001b[0m\u001b[1;33m,\u001b[0m \u001b[0mrealkey\u001b[0m\u001b[1;33m)\u001b[0m\u001b[1;33m\u001b[0m\u001b[1;33m\u001b[0m\u001b[0m\n\u001b[1;32m--> 356\u001b[1;33m         \u001b[1;32mreturn\u001b[0m \u001b[0mdict\u001b[0m\u001b[1;33m.\u001b[0m\u001b[0m__getitem__\u001b[0m\u001b[1;33m(\u001b[0m\u001b[0mself\u001b[0m\u001b[1;33m,\u001b[0m \u001b[0mkey\u001b[0m\u001b[1;33m)\u001b[0m\u001b[1;33m\u001b[0m\u001b[1;33m\u001b[0m\u001b[0m\n\u001b[0m\u001b[0;32m    357\u001b[0m \u001b[1;33m\u001b[0m\u001b[0m\n",
      "\u001b[1;31mKeyError\u001b[0m: 'published'",
      "\nDuring handling of the above exception, another exception occurred:\n",
      "\u001b[1;31mAttributeError\u001b[0m                            Traceback (most recent call last)",
      "\u001b[1;32m<ipython-input-26-ef366b2e56a5>\u001b[0m in \u001b[0;36m<module>\u001b[1;34m\u001b[0m\n\u001b[1;32m----> 1\u001b[1;33m \u001b[0mworld\u001b[0m\u001b[1;33m.\u001b[0m\u001b[0mfeed\u001b[0m\u001b[1;33m.\u001b[0m\u001b[0mpublished\u001b[0m\u001b[1;33m\u001b[0m\u001b[1;33m\u001b[0m\u001b[0m\n\u001b[0m",
      "\u001b[1;32mC:\\ProgramData\\Anaconda3\\lib\\site-packages\\feedparser.py\u001b[0m in \u001b[0;36m__getattr__\u001b[1;34m(self, key)\u001b[0m\n\u001b[0;32m    398\u001b[0m             \u001b[1;32mreturn\u001b[0m \u001b[0mself\u001b[0m\u001b[1;33m.\u001b[0m\u001b[0m__getitem__\u001b[0m\u001b[1;33m(\u001b[0m\u001b[0mkey\u001b[0m\u001b[1;33m)\u001b[0m\u001b[1;33m\u001b[0m\u001b[1;33m\u001b[0m\u001b[0m\n\u001b[0;32m    399\u001b[0m         \u001b[1;32mexcept\u001b[0m \u001b[0mKeyError\u001b[0m\u001b[1;33m:\u001b[0m\u001b[1;33m\u001b[0m\u001b[1;33m\u001b[0m\u001b[0m\n\u001b[1;32m--> 400\u001b[1;33m             \u001b[1;32mraise\u001b[0m \u001b[0mAttributeError\u001b[0m\u001b[1;33m(\u001b[0m\u001b[1;34m\"object has no attribute '%s'\"\u001b[0m \u001b[1;33m%\u001b[0m \u001b[0mkey\u001b[0m\u001b[1;33m)\u001b[0m\u001b[1;33m\u001b[0m\u001b[1;33m\u001b[0m\u001b[0m\n\u001b[0m\u001b[0;32m    401\u001b[0m \u001b[1;33m\u001b[0m\u001b[0m\n\u001b[0;32m    402\u001b[0m     \u001b[1;32mdef\u001b[0m \u001b[0m__hash__\u001b[0m\u001b[1;33m(\u001b[0m\u001b[0mself\u001b[0m\u001b[1;33m)\u001b[0m\u001b[1;33m:\u001b[0m\u001b[1;33m\u001b[0m\u001b[1;33m\u001b[0m\u001b[0m\n",
      "\u001b[1;31mAttributeError\u001b[0m: object has no attribute 'published'"
     ]
    }
   ],
   "source": [
    "world.feed.published"
   ]
  },
  {
   "cell_type": "code",
   "execution_count": 27,
   "metadata": {},
   "outputs": [
    {
     "name": "stdout",
     "output_type": "stream",
     "text": [
      "{'feed': {'title': 'BBC News - World', 'title_detail': {'type': 'text/plain', 'language': None, 'base': 'http://feeds.bbci.co.uk/news/world/rss.xml', 'value': 'BBC News - World'}, 'subtitle': 'BBC News - World', 'subtitle_detail': {'type': 'text/html', 'language': None, 'base': 'http://feeds.bbci.co.uk/news/world/rss.xml', 'value': 'BBC News - World'}, 'links': [{'rel': 'alternate', 'type': 'text/html', 'href': 'https://www.bbc.co.uk/news/'}], 'link': 'https://www.bbc.co.uk/news/', 'image': {'href': 'https://news.bbcimg.co.uk/nol/shared/img/bbc_news_120x60.gif', 'title': 'BBC News - World', 'title_detail': {'type': 'text/plain', 'language': None, 'base': 'http://feeds.bbci.co.uk/news/world/rss.xml', 'value': 'BBC News - World'}, 'links': [{'rel': 'alternate', 'type': 'text/html', 'href': 'https://www.bbc.co.uk/news/'}], 'link': 'https://www.bbc.co.uk/news/'}, 'generator_detail': {'name': 'RSS for Node'}, 'generator': 'RSS for Node', 'updated': 'Sat, 25 Apr 2020 09:48:45 GMT', 'updated_parsed': time.struct_time(tm_year=2020, tm_mon=4, tm_mday=25, tm_hour=9, tm_min=48, tm_sec=45, tm_wday=5, tm_yday=116, tm_isdst=0), 'rights': 'Copyright: (C) British Broadcasting Corporation, see http://news.bbc.co.uk/2/hi/help/rss/4498287.stm for terms and conditions of reuse.', 'rights_detail': {'type': 'text/plain', 'language': None, 'base': 'http://feeds.bbci.co.uk/news/world/rss.xml', 'value': 'Copyright: (C) British Broadcasting Corporation, see http://news.bbc.co.uk/2/hi/help/rss/4498287.stm for terms and conditions of reuse.'}, 'language': 'en-gb', 'ttl': '15'}, 'entries': [{'title': 'Coronavirus: Some states begin to reopen as US death toll passes 50,000', 'title_detail': {'type': 'text/plain', 'language': None, 'base': 'http://feeds.bbci.co.uk/news/world/rss.xml', 'value': 'Coronavirus: Some states begin to reopen as US death toll passes 50,000'}, 'summary': 'Georgia, Oklahoma and Alaska lift some restrictions despite warnings that it may be too soon.', 'summary_detail': {'type': 'text/html', 'language': None, 'base': 'http://feeds.bbci.co.uk/news/world/rss.xml', 'value': 'Georgia, Oklahoma and Alaska lift some restrictions despite warnings that it may be too soon.'}, 'links': [{'rel': 'alternate', 'type': 'text/html', 'href': 'https://www.bbc.co.uk/news/world-us-canada-52421730'}], 'link': 'https://www.bbc.co.uk/news/world-us-canada-52421730', 'id': 'https://www.bbc.co.uk/news/world-us-canada-52421730', 'guidislink': False, 'published': 'Sat, 25 Apr 2020 04:39:19 GMT', 'published_parsed': time.struct_time(tm_year=2020, tm_mon=4, tm_mday=25, tm_hour=4, tm_min=39, tm_sec=19, tm_wday=5, tm_yday=116, tm_isdst=0)}, {'title': \"Coronavirus: Doctors dismantle Trump's treatment comments\", 'title_detail': {'type': 'text/plain', 'language': None, 'base': 'http://feeds.bbci.co.uk/news/world/rss.xml', 'value': \"Coronavirus: Doctors dismantle Trump's treatment comments\"}, 'summary': 'They warned that heeding his comments on using disinfectants or UV light could have fatal consequences.', 'summary_detail': {'type': 'text/html', 'language': None, 'base': 'http://feeds.bbci.co.uk/news/world/rss.xml', 'value': 'They warned that heeding his comments on using disinfectants or UV light could have fatal consequences.'}, 'links': [{'rel': 'alternate', 'type': 'text/html', 'href': 'https://www.bbc.co.uk/news/world-us-canada-52421673'}], 'link': 'https://www.bbc.co.uk/news/world-us-canada-52421673', 'id': 'https://www.bbc.co.uk/news/world-us-canada-52421673', 'guidislink': False, 'published': 'Sat, 25 Apr 2020 00:21:19 GMT', 'published_parsed': time.struct_time(tm_year=2020, tm_mon=4, tm_mday=25, tm_hour=0, tm_min=21, tm_sec=19, tm_wday=5, tm_yday=116, tm_isdst=0)}, {'title': 'Coronavirus: Belgium unveils plans to lift lockdown', 'title_detail': {'type': 'text/plain', 'language': None, 'base': 'http://feeds.bbci.co.uk/news/world/rss.xml', 'value': 'Coronavirus: Belgium unveils plans to lift lockdown'}, 'summary': 'Schools will be allowed to reopen from 11 May, but with no more than 10 pupils per class', 'summary_detail': {'type': 'text/html', 'language': None, 'base': 'http://feeds.bbci.co.uk/news/world/rss.xml', 'value': 'Schools will be allowed to reopen from 11 May, but with no more than 10 pupils per class'}, 'links': [{'rel': 'alternate', 'type': 'text/html', 'href': 'https://www.bbc.co.uk/news/world-europe-52421723'}], 'link': 'https://www.bbc.co.uk/news/world-europe-52421723', 'id': 'https://www.bbc.co.uk/news/world-europe-52421723', 'guidislink': False, 'published': 'Sat, 25 Apr 2020 03:51:58 GMT', 'published_parsed': time.struct_time(tm_year=2020, tm_mon=4, tm_mday=25, tm_hour=3, tm_min=51, tm_sec=58, tm_wday=5, tm_yday=116, tm_isdst=0)}, {'title': 'Australia and New Zealand mark Anzac Day in driveways', 'title_detail': {'type': 'text/plain', 'language': None, 'base': 'http://feeds.bbci.co.uk/news/world/rss.xml', 'value': 'Australia and New Zealand mark Anzac Day in driveways'}, 'summary': 'Citizens, many holding candles, stand in silence in driveways to pay a dawn tribute to wartime dead.', 'summary_detail': {'type': 'text/html', 'language': None, 'base': 'http://feeds.bbci.co.uk/news/world/rss.xml', 'value': 'Citizens, many holding candles, stand in silence in driveways to pay a dawn tribute to wartime dead.'}, 'links': [{'rel': 'alternate', 'type': 'text/html', 'href': 'https://www.bbc.co.uk/news/world-australia-52406944'}], 'link': 'https://www.bbc.co.uk/news/world-australia-52406944', 'id': 'https://www.bbc.co.uk/news/world-australia-52406944', 'guidislink': False, 'published': 'Sat, 25 Apr 2020 02:26:32 GMT', 'published_parsed': time.struct_time(tm_year=2020, tm_mon=4, tm_mday=25, tm_hour=2, tm_min=26, tm_sec=32, tm_wday=5, tm_yday=116, tm_isdst=0)}, {'title': \"Nova Scotia shooting: 'They had no idea the hell they were going to face'\", 'title_detail': {'type': 'text/plain', 'language': None, 'base': 'http://feeds.bbci.co.uk/news/world/rss.xml', 'value': \"Nova Scotia shooting: 'They had no idea the hell they were going to face'\"}, 'summary': \"Canada's deadliest shooting is pieced together by the people swept up in its path of terror.\", 'summary_detail': {'type': 'text/html', 'language': None, 'base': 'http://feeds.bbci.co.uk/news/world/rss.xml', 'value': \"Canada's deadliest shooting is pieced together by the people swept up in its path of terror.\"}, 'links': [{'rel': 'alternate', 'type': 'text/html', 'href': 'https://www.bbc.co.uk/news/world-us-canada-52373798'}], 'link': 'https://www.bbc.co.uk/news/world-us-canada-52373798', 'id': 'https://www.bbc.co.uk/news/world-us-canada-52373798', 'guidislink': False, 'published': 'Fri, 24 Apr 2020 21:47:25 GMT', 'published_parsed': time.struct_time(tm_year=2020, tm_mon=4, tm_mday=24, tm_hour=21, tm_min=47, tm_sec=25, tm_wday=4, tm_yday=115, tm_isdst=0)}, {'title': \"Sergio Moro: Brazil prosecutor requests Bolsonaro 'meddling' probe\", 'title_detail': {'type': 'text/plain', 'language': None, 'base': 'http://feeds.bbci.co.uk/news/world/rss.xml', 'value': \"Sergio Moro: Brazil prosecutor requests Bolsonaro 'meddling' probe\"}, 'summary': 'It comes after former justice minister Sergio Moro accused the president of political interference.', 'summary_detail': {'type': 'text/html', 'language': None, 'base': 'http://feeds.bbci.co.uk/news/world/rss.xml', 'value': 'It comes after former justice minister Sergio Moro accused the president of political interference.'}, 'links': [{'rel': 'alternate', 'type': 'text/html', 'href': 'https://www.bbc.co.uk/news/world-latin-america-52423473'}], 'link': 'https://www.bbc.co.uk/news/world-latin-america-52423473', 'id': 'https://www.bbc.co.uk/news/world-latin-america-52423473', 'guidislink': False, 'published': 'Sat, 25 Apr 2020 08:14:01 GMT', 'published_parsed': time.struct_time(tm_year=2020, tm_mon=4, tm_mday=25, tm_hour=8, tm_min=14, tm_sec=1, tm_wday=5, tm_yday=116, tm_isdst=0)}, {'title': 'Saving rare species in jungles once protected by war', 'title_detail': {'type': 'text/plain', 'language': None, 'base': 'http://feeds.bbci.co.uk/news/world/rss.xml', 'value': 'Saving rare species in jungles once protected by war'}, 'summary': 'Botanists from Kew are combing the forests of Colombia for new species threatened with extinction since peace accords were signed.', 'summary_detail': {'type': 'text/html', 'language': None, 'base': 'http://feeds.bbci.co.uk/news/world/rss.xml', 'value': 'Botanists from Kew are combing the forests of Colombia for new species threatened with extinction since peace accords were signed.'}, 'links': [{'rel': 'alternate', 'type': 'text/html', 'href': 'https://www.bbc.co.uk/news/world-latin-america-52405350'}], 'link': 'https://www.bbc.co.uk/news/world-latin-america-52405350', 'id': 'https://www.bbc.co.uk/news/world-latin-america-52405350', 'guidislink': False, 'published': 'Fri, 24 Apr 2020 23:01:41 GMT', 'published_parsed': time.struct_time(tm_year=2020, tm_mon=4, tm_mday=24, tm_hour=23, tm_min=1, tm_sec=41, tm_wday=4, tm_yday=115, tm_isdst=0)}, {'title': 'Coronavirus: Air France-KLM secures billions in government aid', 'title_detail': {'type': 'text/plain', 'language': None, 'base': 'http://feeds.bbci.co.uk/news/world/rss.xml', 'value': 'Coronavirus: Air France-KLM secures billions in government aid'}, 'summary': 'Like many other airlines, the Franco-Dutch group has been badly hit by the coronavirus outbreak.', 'summary_detail': {'type': 'text/html', 'language': None, 'base': 'http://feeds.bbci.co.uk/news/world/rss.xml', 'value': 'Like many other airlines, the Franco-Dutch group has been badly hit by the coronavirus outbreak.'}, 'links': [{'rel': 'alternate', 'type': 'text/html', 'href': 'https://www.bbc.co.uk/news/world-europe-52420312'}], 'link': 'https://www.bbc.co.uk/news/world-europe-52420312', 'id': 'https://www.bbc.co.uk/news/world-europe-52420312', 'guidislink': False, 'published': 'Fri, 24 Apr 2020 22:18:16 GMT', 'published_parsed': time.struct_time(tm_year=2020, tm_mon=4, tm_mday=24, tm_hour=22, tm_min=18, tm_sec=16, tm_wday=4, tm_yday=115, tm_isdst=0)}, {'title': 'Coronavirus: China rejects call for probe into origins of disease', 'title_detail': {'type': 'text/plain', 'language': None, 'base': 'http://feeds.bbci.co.uk/news/world/rss.xml', 'value': 'Coronavirus: China rejects call for probe into origins of disease'}, 'summary': \"Beijing's deputy ambassador to the UK tells the BBC the demands are politically motivated.\", 'summary_detail': {'type': 'text/html', 'language': None, 'base': 'http://feeds.bbci.co.uk/news/world/rss.xml', 'value': \"Beijing's deputy ambassador to the UK tells the BBC the demands are politically motivated.\"}, 'links': [{'rel': 'alternate', 'type': 'text/html', 'href': 'https://www.bbc.co.uk/news/world-asia-china-52420536'}], 'link': 'https://www.bbc.co.uk/news/world-asia-china-52420536', 'id': 'https://www.bbc.co.uk/news/world-asia-china-52420536', 'guidislink': False, 'published': 'Fri, 24 Apr 2020 19:59:50 GMT', 'published_parsed': time.struct_time(tm_year=2020, tm_mon=4, tm_mday=24, tm_hour=19, tm_min=59, tm_sec=50, tm_wday=4, tm_yday=115, tm_isdst=0)}, {'title': \"DR Congo's Virunga National Park hit by 'deadliest' attack\", 'title_detail': {'type': 'text/plain', 'language': None, 'base': 'http://feeds.bbci.co.uk/news/world/rss.xml', 'value': \"DR Congo's Virunga National Park hit by 'deadliest' attack\"}, 'summary': 'At least 12 rangers died in an ambush by suspected Rwandan rebels, the deadliest attack in recent years.', 'summary_detail': {'type': 'text/html', 'language': None, 'base': 'http://feeds.bbci.co.uk/news/world/rss.xml', 'value': 'At least 12 rangers died in an ambush by suspected Rwandan rebels, the deadliest attack in recent years.'}, 'links': [{'rel': 'alternate', 'type': 'text/html', 'href': 'https://www.bbc.co.uk/news/world-africa-52415798'}], 'link': 'https://www.bbc.co.uk/news/world-africa-52415798', 'id': 'https://www.bbc.co.uk/news/world-africa-52415798', 'guidislink': False, 'published': 'Fri, 24 Apr 2020 17:39:43 GMT', 'published_parsed': time.struct_time(tm_year=2020, tm_mon=4, tm_mday=24, tm_hour=17, tm_min=39, tm_sec=43, tm_wday=4, tm_yday=115, tm_isdst=0)}, {'title': \"Messenger Rooms: Facebook's new video calls let 50 people drop in\", 'title_detail': {'type': 'text/plain', 'language': None, 'base': 'http://feeds.bbci.co.uk/news/world/rss.xml', 'value': \"Messenger Rooms: Facebook's new video calls let 50 people drop in\"}, 'summary': 'The social media giant said it worked with cryptographers to devise ways of excluding unwanted guests.', 'summary_detail': {'type': 'text/html', 'language': None, 'base': 'http://feeds.bbci.co.uk/news/world/rss.xml', 'value': 'The social media giant said it worked with cryptographers to devise ways of excluding unwanted guests.'}, 'links': [{'rel': 'alternate', 'type': 'text/html', 'href': 'https://www.bbc.co.uk/news/technology-52406924'}], 'link': 'https://www.bbc.co.uk/news/technology-52406924', 'id': 'https://www.bbc.co.uk/news/technology-52406924', 'guidislink': False, 'published': 'Fri, 24 Apr 2020 18:14:40 GMT', 'published_parsed': time.struct_time(tm_year=2020, tm_mon=4, tm_mday=24, tm_hour=18, tm_min=14, tm_sec=40, tm_wday=4, tm_yday=115, tm_isdst=0)}, {'title': 'Has Sweden got its virus science right?', 'title_detail': {'type': 'text/plain', 'language': None, 'base': 'http://feeds.bbci.co.uk/news/world/rss.xml', 'value': 'Has Sweden got its virus science right?'}, 'summary': 'The strategy devised by scientists was to keep large parts of society open but not everyone is convinced.', 'summary_detail': {'type': 'text/html', 'language': None, 'base': 'http://feeds.bbci.co.uk/news/world/rss.xml', 'value': 'The strategy devised by scientists was to keep large parts of society open but not everyone is convinced.'}, 'links': [{'rel': 'alternate', 'type': 'text/html', 'href': 'https://www.bbc.co.uk/news/world-europe-52395866'}], 'link': 'https://www.bbc.co.uk/news/world-europe-52395866', 'id': 'https://www.bbc.co.uk/news/world-europe-52395866', 'guidislink': False, 'published': 'Fri, 24 Apr 2020 23:28:33 GMT', 'published_parsed': time.struct_time(tm_year=2020, tm_mon=4, tm_mday=24, tm_hour=23, tm_min=28, tm_sec=33, tm_wday=4, tm_yday=115, tm_isdst=0)}, {'title': 'Doctors share notes on hope, fear and longing', 'title_detail': {'type': 'text/plain', 'language': None, 'base': 'http://feeds.bbci.co.uk/news/world/rss.xml', 'value': 'Doctors share notes on hope, fear and longing'}, 'summary': 'Doctors across India, who are hailed as heroes, talk about their anxieties during the pandemic.', 'summary_detail': {'type': 'text/html', 'language': None, 'base': 'http://feeds.bbci.co.uk/news/world/rss.xml', 'value': 'Doctors across India, who are hailed as heroes, talk about their anxieties during the pandemic.'}, 'links': [{'rel': 'alternate', 'type': 'text/html', 'href': 'https://www.bbc.co.uk/news/world-asia-india-52377965'}], 'link': 'https://www.bbc.co.uk/news/world-asia-india-52377965', 'id': 'https://www.bbc.co.uk/news/world-asia-india-52377965', 'guidislink': False, 'published': 'Fri, 24 Apr 2020 23:13:39 GMT', 'published_parsed': time.struct_time(tm_year=2020, tm_mon=4, tm_mday=24, tm_hour=23, tm_min=13, tm_sec=39, tm_wday=4, tm_yday=115, tm_isdst=0)}, {'title': \"'If I can't work I can't feed my family'\", 'title_detail': {'type': 'text/plain', 'language': None, 'base': 'http://feeds.bbci.co.uk/news/world/rss.xml', 'value': \"'If I can't work I can't feed my family'\"}, 'summary': 'How the Covid-19 crisis has left many migrant workers stranded and without money for their families.', 'summary_detail': {'type': 'text/html', 'language': None, 'base': 'http://feeds.bbci.co.uk/news/world/rss.xml', 'value': 'How the Covid-19 crisis has left many migrant workers stranded and without money for their families.'}, 'links': [{'rel': 'alternate', 'type': 'text/html', 'href': 'https://www.bbc.co.uk/news/business-52388835'}], 'link': 'https://www.bbc.co.uk/news/business-52388835', 'id': 'https://www.bbc.co.uk/news/business-52388835', 'guidislink': False, 'published': 'Fri, 24 Apr 2020 21:04:42 GMT', 'published_parsed': time.struct_time(tm_year=2020, tm_mon=4, tm_mday=24, tm_hour=21, tm_min=4, tm_sec=42, tm_wday=4, tm_yday=115, tm_isdst=0)}, {'title': 'Tree kangaroos: How a joey in Australia is helping save his wild cousins', 'title_detail': {'type': 'text/plain', 'language': None, 'base': 'http://feeds.bbci.co.uk/news/world/rss.xml', 'value': 'Tree kangaroos: How a joey in Australia is helping save his wild cousins'}, 'summary': 'How a joey in an Australian zoo is helping his wild cousins in Papua New Guinea.', 'summary_detail': {'type': 'text/html', 'language': None, 'base': 'http://feeds.bbci.co.uk/news/world/rss.xml', 'value': 'How a joey in an Australian zoo is helping his wild cousins in Papua New Guinea.'}, 'links': [{'rel': 'alternate', 'type': 'text/html', 'href': 'https://www.bbc.co.uk/news/world-australia-52391742'}], 'link': 'https://www.bbc.co.uk/news/world-australia-52391742', 'id': 'https://www.bbc.co.uk/news/world-australia-52391742', 'guidislink': False, 'published': 'Fri, 24 Apr 2020 23:05:05 GMT', 'published_parsed': time.struct_time(tm_year=2020, tm_mon=4, tm_mday=24, tm_hour=23, tm_min=5, tm_sec=5, tm_wday=4, tm_yday=115, tm_isdst=0)}, {'title': 'With humans vulnerable: How about a digital helper?', 'title_detail': {'type': 'text/plain', 'language': None, 'base': 'http://feeds.bbci.co.uk/news/world/rss.xml', 'value': 'With humans vulnerable: How about a digital helper?'}, 'summary': 'Robots and digital assistants have proved useful during the Covid-19 pandemic but are still limited.', 'summary_detail': {'type': 'text/html', 'language': None, 'base': 'http://feeds.bbci.co.uk/news/world/rss.xml', 'value': 'Robots and digital assistants have proved useful during the Covid-19 pandemic but are still limited.'}, 'links': [{'rel': 'alternate', 'type': 'text/html', 'href': 'https://www.bbc.co.uk/news/business-52290562'}], 'link': 'https://www.bbc.co.uk/news/business-52290562', 'id': 'https://www.bbc.co.uk/news/business-52290562', 'guidislink': False, 'published': 'Thu, 23 Apr 2020 23:15:10 GMT', 'published_parsed': time.struct_time(tm_year=2020, tm_mon=4, tm_mday=23, tm_hour=23, tm_min=15, tm_sec=10, tm_wday=3, tm_yday=114, tm_isdst=0)}, {'title': 'Coronavirus: Stories of unemployment, fear and hope in the US', 'title_detail': {'type': 'text/plain', 'language': None, 'base': 'http://feeds.bbci.co.uk/news/world/rss.xml', 'value': 'Coronavirus: Stories of unemployment, fear and hope in the US'}, 'summary': \"Over 26 million Americans have filed for unemployment - and there's a human story behind each claim.\", 'summary_detail': {'type': 'text/html', 'language': None, 'base': 'http://feeds.bbci.co.uk/news/world/rss.xml', 'value': \"Over 26 million Americans have filed for unemployment - and there's a human story behind each claim.\"}, 'links': [{'rel': 'alternate', 'type': 'text/html', 'href': 'https://www.bbc.co.uk/news/world-us-canada-52349808'}], 'link': 'https://www.bbc.co.uk/news/world-us-canada-52349808', 'id': 'https://www.bbc.co.uk/news/world-us-canada-52349808', 'guidislink': False, 'published': 'Thu, 23 Apr 2020 13:39:21 GMT', 'published_parsed': time.struct_time(tm_year=2020, tm_mon=4, tm_mday=23, tm_hour=13, tm_min=39, tm_sec=21, tm_wday=3, tm_yday=114, tm_isdst=0)}, {'title': 'Coronavirus: Should I worry about my lockdown eating?', 'title_detail': {'type': 'text/plain', 'language': None, 'base': 'http://feeds.bbci.co.uk/news/world/rss.xml', 'value': 'Coronavirus: Should I worry about my lockdown eating?'}, 'summary': \"Weeks of lockdown is putting a strain on some people's relationship with food.\", 'summary_detail': {'type': 'text/html', 'language': None, 'base': 'http://feeds.bbci.co.uk/news/world/rss.xml', 'value': \"Weeks of lockdown is putting a strain on some people's relationship with food.\"}, 'links': [{'rel': 'alternate', 'type': 'text/html', 'href': 'https://www.bbc.co.uk/news/stories-52329529'}], 'link': 'https://www.bbc.co.uk/news/stories-52329529', 'id': 'https://www.bbc.co.uk/news/stories-52329529', 'guidislink': False, 'published': 'Fri, 24 Apr 2020 23:05:27 GMT', 'published_parsed': time.struct_time(tm_year=2020, tm_mon=4, tm_mday=24, tm_hour=23, tm_min=5, tm_sec=27, tm_wday=4, tm_yday=115, tm_isdst=0)}, {'title': 'How do you fight a locust invasion amid pandemic?', 'title_detail': {'type': 'text/plain', 'language': None, 'base': 'http://feeds.bbci.co.uk/news/world/rss.xml', 'value': 'How do you fight a locust invasion amid pandemic?'}, 'summary': 'A second locust invasion hits East Africa, raising fears of more hunger amid the Covid-19 pandemic.', 'summary_detail': {'type': 'text/html', 'language': None, 'base': 'http://feeds.bbci.co.uk/news/world/rss.xml', 'value': 'A second locust invasion hits East Africa, raising fears of more hunger amid the Covid-19 pandemic.'}, 'links': [{'rel': 'alternate', 'type': 'text/html', 'href': 'https://www.bbc.co.uk/news/world-africa-52394888'}], 'link': 'https://www.bbc.co.uk/news/world-africa-52394888', 'id': 'https://www.bbc.co.uk/news/world-africa-52394888', 'guidislink': False, 'published': 'Fri, 24 Apr 2020 23:06:16 GMT', 'published_parsed': time.struct_time(tm_year=2020, tm_mon=4, tm_mday=24, tm_hour=23, tm_min=6, tm_sec=16, tm_wday=4, tm_yday=115, tm_isdst=0)}, {'title': \"Coronavirus: 'I can't wash my hands - my water was cut off'\", 'title_detail': {'type': 'text/plain', 'language': None, 'base': 'http://feeds.bbci.co.uk/news/world/rss.xml', 'value': \"Coronavirus: 'I can't wash my hands - my water was cut off'\"}, 'summary': 'In the midst of a public health crisis, low-income families in Detroit have had their water cut off.', 'summary_detail': {'type': 'text/html', 'language': None, 'base': 'http://feeds.bbci.co.uk/news/world/rss.xml', 'value': 'In the midst of a public health crisis, low-income families in Detroit have had their water cut off.'}, 'links': [{'rel': 'alternate', 'type': 'text/html', 'href': 'https://www.bbc.co.uk/news/world-us-canada-52384622'}], 'link': 'https://www.bbc.co.uk/news/world-us-canada-52384622', 'id': 'https://www.bbc.co.uk/news/world-us-canada-52384622', 'guidislink': False, 'published': 'Thu, 23 Apr 2020 23:01:05 GMT', 'published_parsed': time.struct_time(tm_year=2020, tm_mon=4, tm_mday=23, tm_hour=23, tm_min=1, tm_sec=5, tm_wday=3, tm_yday=114, tm_isdst=0)}, {'title': '10 songs supporting the world through lockdown', 'title_detail': {'type': 'text/plain', 'language': None, 'base': 'http://feeds.bbci.co.uk/news/world/rss.xml', 'value': '10 songs supporting the world through lockdown'}, 'summary': 'DJs around the world reveal the songs helping their listeners keep upbeat while stuck at home.', 'summary_detail': {'type': 'text/html', 'language': None, 'base': 'http://feeds.bbci.co.uk/news/world/rss.xml', 'value': 'DJs around the world reveal the songs helping their listeners keep upbeat while stuck at home.'}, 'links': [{'rel': 'alternate', 'type': 'text/html', 'href': 'https://www.bbc.co.uk/news/entertainment-arts-52366162'}], 'link': 'https://www.bbc.co.uk/news/entertainment-arts-52366162', 'id': 'https://www.bbc.co.uk/news/entertainment-arts-52366162', 'guidislink': False, 'published': 'Thu, 23 Apr 2020 23:16:23 GMT', 'published_parsed': time.struct_time(tm_year=2020, tm_mon=4, tm_mday=23, tm_hour=23, tm_min=16, tm_sec=23, tm_wday=3, tm_yday=114, tm_isdst=0)}, {'title': 'Coronavirus: Is social distancing an oxymoron in India?', 'title_detail': {'type': 'text/plain', 'language': None, 'base': 'http://feeds.bbci.co.uk/news/world/rss.xml', 'value': 'Coronavirus: Is social distancing an oxymoron in India?'}, 'summary': 'The country has been in lockdown for a month, so why are crowds still gathering in many places?', 'summary_detail': {'type': 'text/html', 'language': None, 'base': 'http://feeds.bbci.co.uk/news/world/rss.xml', 'value': 'The country has been in lockdown for a month, so why are crowds still gathering in many places?'}, 'links': [{'rel': 'alternate', 'type': 'text/html', 'href': 'https://www.bbc.co.uk/news/world-asia-india-52393382'}], 'link': 'https://www.bbc.co.uk/news/world-asia-india-52393382', 'id': 'https://www.bbc.co.uk/news/world-asia-india-52393382', 'guidislink': False, 'published': 'Thu, 23 Apr 2020 23:22:05 GMT', 'published_parsed': time.struct_time(tm_year=2020, tm_mon=4, tm_mday=23, tm_hour=23, tm_min=22, tm_sec=5, tm_wday=3, tm_yday=114, tm_isdst=0)}, {'title': 'Ramadan: Fasting safely during coronavirus crisis', 'title_detail': {'type': 'text/plain', 'language': None, 'base': 'http://feeds.bbci.co.uk/news/world/rss.xml', 'value': 'Ramadan: Fasting safely during coronavirus crisis'}, 'summary': 'During Ramadan, many Muslim people abstain from eating and drinking between sunrise and sunset.', 'summary_detail': {'type': 'text/html', 'language': None, 'base': 'http://feeds.bbci.co.uk/news/world/rss.xml', 'value': 'During Ramadan, many Muslim people abstain from eating and drinking between sunrise and sunset.'}, 'links': [{'rel': 'alternate', 'type': 'text/html', 'href': 'https://www.bbc.co.uk/news/health-52382293'}], 'link': 'https://www.bbc.co.uk/news/health-52382293', 'id': 'https://www.bbc.co.uk/news/health-52382293', 'guidislink': False, 'published': 'Thu, 23 Apr 2020 23:14:26 GMT', 'published_parsed': time.struct_time(tm_year=2020, tm_mon=4, tm_mday=23, tm_hour=23, tm_min=14, tm_sec=26, tm_wday=3, tm_yday=114, tm_isdst=0)}, {'title': 'Coronavirus: Dancer uses bin night to perform for neighbours', 'title_detail': {'type': 'text/plain', 'language': None, 'base': 'http://feeds.bbci.co.uk/news/world/rss.xml', 'value': 'Coronavirus: Dancer uses bin night to perform for neighbours'}, 'summary': 'Albert has not been able to dance freely, but that changed the moment he embraced taking the rubbish out as an act of freedom - and a gift to his new neighbours.', 'summary_detail': {'type': 'text/html', 'language': None, 'base': 'http://feeds.bbci.co.uk/news/world/rss.xml', 'value': 'Albert has not been able to dance freely, but that changed the moment he embraced taking the rubbish out as an act of freedom - and a gift to his new neighbours.'}, 'links': [{'rel': 'alternate', 'type': 'text/html', 'href': 'https://www.bbc.co.uk/news/entertainment-arts-52406474'}], 'link': 'https://www.bbc.co.uk/news/entertainment-arts-52406474', 'id': 'https://www.bbc.co.uk/news/entertainment-arts-52406474', 'guidislink': False, 'published': 'Fri, 24 Apr 2020 23:06:25 GMT', 'published_parsed': time.struct_time(tm_year=2020, tm_mon=4, tm_mday=24, tm_hour=23, tm_min=6, tm_sec=25, tm_wday=4, tm_yday=115, tm_isdst=0)}, {'title': \"Tornado survivor: 'I'm just blessed. I'm glad to be alive'\", 'title_detail': {'type': 'text/plain', 'language': None, 'base': 'http://feeds.bbci.co.uk/news/world/rss.xml', 'value': \"Tornado survivor: 'I'm just blessed. I'm glad to be alive'\"}, 'summary': 'Severe storms have passed through Oklahoma, Texas and Louisiana, killing at least seven people.', 'summary_detail': {'type': 'text/html', 'language': None, 'base': 'http://feeds.bbci.co.uk/news/world/rss.xml', 'value': 'Severe storms have passed through Oklahoma, Texas and Louisiana, killing at least seven people.'}, 'links': [{'rel': 'alternate', 'type': 'text/html', 'href': 'https://www.bbc.co.uk/news/world-us-canada-52406505'}], 'link': 'https://www.bbc.co.uk/news/world-us-canada-52406505', 'id': 'https://www.bbc.co.uk/news/world-us-canada-52406505', 'guidislink': False, 'published': 'Thu, 23 Apr 2020 22:04:39 GMT', 'published_parsed': time.struct_time(tm_year=2020, tm_mon=4, tm_mday=23, tm_hour=22, tm_min=4, tm_sec=39, tm_wday=3, tm_yday=114, tm_isdst=0)}, {'title': \"Stay-At-Home protesters: 'We want our lives back'\", 'title_detail': {'type': 'text/plain', 'language': None, 'base': 'http://feeds.bbci.co.uk/news/world/rss.xml', 'value': \"Stay-At-Home protesters: 'We want our lives back'\"}, 'summary': 'Across the United States, some people insist the lockdowns should be lifted and states reopened.', 'summary_detail': {'type': 'text/html', 'language': None, 'base': 'http://feeds.bbci.co.uk/news/world/rss.xml', 'value': 'Across the United States, some people insist the lockdowns should be lifted and states reopened.'}, 'links': [{'rel': 'alternate', 'type': 'text/html', 'href': 'https://www.bbc.co.uk/news/world-us-canada-52406515'}], 'link': 'https://www.bbc.co.uk/news/world-us-canada-52406515', 'id': 'https://www.bbc.co.uk/news/world-us-canada-52406515', 'guidislink': False, 'published': 'Thu, 23 Apr 2020 22:59:09 GMT', 'published_parsed': time.struct_time(tm_year=2020, tm_mon=4, tm_mday=23, tm_hour=22, tm_min=59, tm_sec=9, tm_wday=3, tm_yday=114, tm_isdst=0)}, {'title': 'Coronavirus: Tokyo hospitals trying to stay ahead', 'title_detail': {'type': 'text/plain', 'language': None, 'base': 'http://feeds.bbci.co.uk/news/world/rss.xml', 'value': 'Coronavirus: Tokyo hospitals trying to stay ahead'}, 'summary': 'Doctors say the spread of the virus is not being slowed enough to take the pressure off the hospital system.', 'summary_detail': {'type': 'text/html', 'language': None, 'base': 'http://feeds.bbci.co.uk/news/world/rss.xml', 'value': 'Doctors say the spread of the virus is not being slowed enough to take the pressure off the hospital system.'}, 'links': [{'rel': 'alternate', 'type': 'text/html', 'href': 'https://www.bbc.co.uk/news/world-asia-52400084'}], 'link': 'https://www.bbc.co.uk/news/world-asia-52400084', 'id': 'https://www.bbc.co.uk/news/world-asia-52400084', 'guidislink': False, 'published': 'Thu, 23 Apr 2020 23:00:19 GMT', 'published_parsed': time.struct_time(tm_year=2020, tm_mon=4, tm_mday=23, tm_hour=23, tm_min=0, tm_sec=19, tm_wday=3, tm_yday=114, tm_isdst=0)}, {'title': \"Coronavirus: Lockdown's heavy toll on Italy's mental health\", 'title_detail': {'type': 'text/plain', 'language': None, 'base': 'http://feeds.bbci.co.uk/news/world/rss.xml', 'value': \"Coronavirus: Lockdown's heavy toll on Italy's mental health\"}, 'summary': \"Italians are struggling to cope with Europe's strictest and longest-running lockdown.\", 'summary_detail': {'type': 'text/html', 'language': None, 'base': 'http://feeds.bbci.co.uk/news/world/rss.xml', 'value': \"Italians are struggling to cope with Europe's strictest and longest-running lockdown.\"}, 'links': [{'rel': 'alternate', 'type': 'text/html', 'href': 'https://www.bbc.co.uk/news/world-europe-52400085'}], 'link': 'https://www.bbc.co.uk/news/world-europe-52400085', 'id': 'https://www.bbc.co.uk/news/world-europe-52400085', 'guidislink': False, 'published': 'Thu, 23 Apr 2020 23:00:24 GMT', 'published_parsed': time.struct_time(tm_year=2020, tm_mon=4, tm_mday=23, tm_hour=23, tm_min=0, tm_sec=24, tm_wday=3, tm_yday=114, tm_isdst=0)}], 'bozo': 0, 'headers': {'Server': 'nginx', 'Content-Type': 'text/xml; charset=utf-8', 'X-Content-Type-Options': 'nosniff', 'x-origin-route': 'xrt-ext', 'X-Cache-Action': 'HIT', 'X-Cache-Hits': '15', 'X-Cache-Age': '58', 'Content-Encoding': 'gzip', 'Content-Length': '3720', 'Cache-Control': 'max-age=8', 'Date': 'Sat, 25 Apr 2020 10:00:09 GMT', 'Connection': 'close', 'Vary': 'Accept-Encoding', 'Timing-Allow-Origin': 'https://www.bbc.co.uk, https://www.bbc.com'}, 'href': 'http://feeds.bbci.co.uk/news/world/rss.xml', 'status': 200, 'encoding': 'utf-8', 'version': 'rss20', 'namespaces': {'dc': 'http://purl.org/dc/elements/1.1/', 'content': 'http://purl.org/rss/1.0/modules/content/', '': 'http://www.w3.org/2005/Atom', 'media': 'http://search.yahoo.com/mrss/'}}\n"
     ]
    }
   ],
   "source": [
    "print(world)"
   ]
  },
  {
   "cell_type": "code",
   "execution_count": 52,
   "metadata": {},
   "outputs": [
    {
     "name": "stdout",
     "output_type": "stream",
     "text": [
      "Coronavirus: Some states begin to reopen as US death toll passes 50,000 LINK: https://www.bbc.co.uk/news/world-us-canada-52421730\n",
      "\n",
      "Coronavirus: Doctors dismantle Trump's treatment comments LINK: https://www.bbc.co.uk/news/world-us-canada-52421673\n",
      "\n",
      "Coronavirus: Belgium unveils plans to lift lockdown LINK: https://www.bbc.co.uk/news/world-europe-52421723\n",
      "\n",
      "Australia and New Zealand mark Anzac Day in driveways LINK: https://www.bbc.co.uk/news/world-australia-52406944\n",
      "\n",
      "Nova Scotia shooting: 'They had no idea the hell they were going to face' LINK: https://www.bbc.co.uk/news/world-us-canada-52373798\n",
      "\n",
      "Sergio Moro: Brazil prosecutor requests Bolsonaro 'meddling' probe LINK: https://www.bbc.co.uk/news/world-latin-america-52423473\n",
      "\n",
      "Saving rare species in jungles once protected by war LINK: https://www.bbc.co.uk/news/world-latin-america-52405350\n",
      "\n",
      "Coronavirus: Air France-KLM secures billions in government aid LINK: https://www.bbc.co.uk/news/world-europe-52420312\n",
      "\n",
      "Coronavirus: China rejects call for probe into origins of disease LINK: https://www.bbc.co.uk/news/world-asia-china-52420536\n",
      "\n",
      "DR Congo's Virunga National Park hit by 'deadliest' attack LINK: https://www.bbc.co.uk/news/world-africa-52415798\n",
      "\n",
      "Messenger Rooms: Facebook's new video calls let 50 people drop in LINK: https://www.bbc.co.uk/news/technology-52406924\n",
      "\n",
      "Has Sweden got its virus science right? LINK: https://www.bbc.co.uk/news/world-europe-52395866\n",
      "\n",
      "Doctors share notes on hope, fear and longing LINK: https://www.bbc.co.uk/news/world-asia-india-52377965\n",
      "\n",
      "'If I can't work I can't feed my family' LINK: https://www.bbc.co.uk/news/business-52388835\n",
      "\n",
      "Tree kangaroos: How a joey in Australia is helping save his wild cousins LINK: https://www.bbc.co.uk/news/world-australia-52391742\n",
      "\n",
      "With humans vulnerable: How about a digital helper? LINK: https://www.bbc.co.uk/news/business-52290562\n",
      "\n",
      "Coronavirus: Stories of unemployment, fear and hope in the US LINK: https://www.bbc.co.uk/news/world-us-canada-52349808\n",
      "\n",
      "Coronavirus: Should I worry about my lockdown eating? LINK: https://www.bbc.co.uk/news/stories-52329529\n",
      "\n",
      "How do you fight a locust invasion amid pandemic? LINK: https://www.bbc.co.uk/news/world-africa-52394888\n",
      "\n",
      "Coronavirus: 'I can't wash my hands - my water was cut off' LINK: https://www.bbc.co.uk/news/world-us-canada-52384622\n",
      "\n",
      "10 songs supporting the world through lockdown LINK: https://www.bbc.co.uk/news/entertainment-arts-52366162\n",
      "\n",
      "Coronavirus: Is social distancing an oxymoron in India? LINK: https://www.bbc.co.uk/news/world-asia-india-52393382\n",
      "\n",
      "Ramadan: Fasting safely during coronavirus crisis LINK: https://www.bbc.co.uk/news/health-52382293\n",
      "\n",
      "Coronavirus: Dancer uses bin night to perform for neighbours LINK: https://www.bbc.co.uk/news/entertainment-arts-52406474\n",
      "\n",
      "Tornado survivor: 'I'm just blessed. I'm glad to be alive' LINK: https://www.bbc.co.uk/news/world-us-canada-52406505\n",
      "\n",
      "Stay-At-Home protesters: 'We want our lives back' LINK: https://www.bbc.co.uk/news/world-us-canada-52406515\n",
      "\n",
      "Coronavirus: Tokyo hospitals trying to stay ahead LINK: https://www.bbc.co.uk/news/world-asia-52400084\n",
      "\n",
      "Coronavirus: Lockdown's heavy toll on Italy's mental health LINK: https://www.bbc.co.uk/news/world-europe-52400085\n",
      "\n"
     ]
    },
    {
     "ename": "IndexError",
     "evalue": "list index out of range",
     "output_type": "error",
     "traceback": [
      "\u001b[1;31m---------------------------------------------------------------------------\u001b[0m",
      "\u001b[1;31mIndexError\u001b[0m                                Traceback (most recent call last)",
      "\u001b[1;32m<ipython-input-52-684455de878c>\u001b[0m in \u001b[0;36m<module>\u001b[1;34m\u001b[0m\n\u001b[0;32m      1\u001b[0m \u001b[0mworld\u001b[0m\u001b[1;33m.\u001b[0m\u001b[0mentries\u001b[0m\u001b[1;33m[\u001b[0m\u001b[1;36m0\u001b[0m\u001b[1;33m]\u001b[0m\u001b[1;33m.\u001b[0m\u001b[0mtitle\u001b[0m\u001b[1;33m\u001b[0m\u001b[1;33m\u001b[0m\u001b[0m\n\u001b[0;32m      2\u001b[0m \u001b[1;32mfor\u001b[0m \u001b[0mi\u001b[0m \u001b[1;32min\u001b[0m \u001b[0mrange\u001b[0m\u001b[1;33m(\u001b[0m\u001b[1;36m71\u001b[0m\u001b[1;33m)\u001b[0m\u001b[1;33m:\u001b[0m\u001b[1;33m\u001b[0m\u001b[1;33m\u001b[0m\u001b[0m\n\u001b[1;32m----> 3\u001b[1;33m     \u001b[0mprint\u001b[0m\u001b[1;33m(\u001b[0m\u001b[0mworld\u001b[0m\u001b[1;33m.\u001b[0m\u001b[0mentries\u001b[0m\u001b[1;33m[\u001b[0m\u001b[0mi\u001b[0m\u001b[1;33m]\u001b[0m\u001b[1;33m.\u001b[0m\u001b[0mtitle\u001b[0m\u001b[1;33m+\u001b[0m\u001b[1;34m' LINK: '\u001b[0m\u001b[1;33m+\u001b[0m\u001b[0mworld\u001b[0m\u001b[1;33m.\u001b[0m\u001b[0mentries\u001b[0m\u001b[1;33m[\u001b[0m\u001b[0mi\u001b[0m\u001b[1;33m]\u001b[0m\u001b[1;33m.\u001b[0m\u001b[0mlink\u001b[0m\u001b[1;33m+\u001b[0m\u001b[1;34m\"\\n\"\u001b[0m\u001b[1;33m)\u001b[0m\u001b[1;33m\u001b[0m\u001b[1;33m\u001b[0m\u001b[0m\n\u001b[0m\u001b[0;32m      4\u001b[0m     \u001b[1;31m#print(world.entries[i].link)\u001b[0m\u001b[1;33m\u001b[0m\u001b[1;33m\u001b[0m\u001b[1;33m\u001b[0m\u001b[0m\n",
      "\u001b[1;31mIndexError\u001b[0m: list index out of range"
     ]
    }
   ],
   "source": [
    "\n",
    "world.entries[0].title\n",
    "for i in range(71):\n",
    "    print(world.entries[i].title+' LINK: '+world.entries[i].link+\"\\n\")\n",
    "    #print(world.entries[i].link)"
   ]
  },
  {
   "cell_type": "code",
   "execution_count": 56,
   "metadata": {},
   "outputs": [
    {
     "data": {
      "text/plain": [
       "\u001b[1;31mType:\u001b[0m        list\n",
       "\u001b[1;31mString form:\u001b[0m [{'title': 'Coronavirus: Some states begin to reopen as US death toll passes 50,000', 'title_deta <...> 020, tm_mon=4, tm_mday=23, tm_hour=23, tm_min=0, tm_sec=24, tm_wday=3, tm_yday=114, tm_isdst=0)}]\n",
       "\u001b[1;31mLength:\u001b[0m      28\n",
       "\u001b[1;31mDocstring:\u001b[0m  \n",
       "Built-in mutable sequence.\n",
       "\n",
       "If no argument is given, the constructor creates a new empty list.\n",
       "The argument must be an iterable if specified.\n"
      ]
     },
     "metadata": {},
     "output_type": "display_data"
    }
   ],
   "source": [
    "world.entries[0].link\n",
    "world.entries?"
   ]
  },
  {
   "cell_type": "code",
   "execution_count": 58,
   "metadata": {},
   "outputs": [
    {
     "name": "stdout",
     "output_type": "stream",
     "text": [
      "Coronavirus: Some states begin to reopen as US death toll passes 50,000\n",
      "Coronavirus: Doctors dismantle Trump's treatment comments\n",
      "Coronavirus: Belgium unveils plans to lift lockdown\n",
      "Australia and New Zealand mark Anzac Day in driveways\n",
      "Nova Scotia shooting: 'They had no idea the hell they were going to face'\n",
      "Sergio Moro: Brazil prosecutor requests Bolsonaro 'meddling' probe\n",
      "Saving rare species in jungles once protected by war\n",
      "Coronavirus: Air France-KLM secures billions in government aid\n",
      "Coronavirus: China rejects call for probe into origins of disease\n",
      "DR Congo's Virunga National Park hit by 'deadliest' attack\n",
      "Messenger Rooms: Facebook's new video calls let 50 people drop in\n",
      "Has Sweden got its virus science right?\n",
      "Doctors share notes on hope, fear and longing\n",
      "'If I can't work I can't feed my family'\n",
      "Tree kangaroos: How a joey in Australia is helping save his wild cousins\n",
      "With humans vulnerable: How about a digital helper?\n",
      "Coronavirus: Stories of unemployment, fear and hope in the US\n",
      "Coronavirus: Should I worry about my lockdown eating?\n",
      "How do you fight a locust invasion amid pandemic?\n",
      "Coronavirus: 'I can't wash my hands - my water was cut off'\n",
      "10 songs supporting the world through lockdown\n",
      "Coronavirus: Is social distancing an oxymoron in India?\n",
      "Ramadan: Fasting safely during coronavirus crisis\n",
      "Coronavirus: Dancer uses bin night to perform for neighbours\n",
      "Tornado survivor: 'I'm just blessed. I'm glad to be alive'\n",
      "Stay-At-Home protesters: 'We want our lives back'\n",
      "Coronavirus: Tokyo hospitals trying to stay ahead\n",
      "Coronavirus: Lockdown's heavy toll on Italy's mental health\n"
     ]
    }
   ],
   "source": [
    "for item in world.entries:\n",
    "    print(item.title)\n",
    "    "
   ]
  },
  {
   "cell_type": "code",
   "execution_count": 33,
   "metadata": {},
   "outputs": [
    {
     "ename": "AttributeError",
     "evalue": "object has no attribute 'categories'",
     "output_type": "error",
     "traceback": [
      "\u001b[1;31m---------------------------------------------------------------------------\u001b[0m",
      "\u001b[1;31mKeyError\u001b[0m                                  Traceback (most recent call last)",
      "\u001b[1;32mC:\\ProgramData\\Anaconda3\\lib\\site-packages\\feedparser.py\u001b[0m in \u001b[0;36m__getattr__\u001b[1;34m(self, key)\u001b[0m\n\u001b[0;32m    397\u001b[0m         \u001b[1;32mtry\u001b[0m\u001b[1;33m:\u001b[0m\u001b[1;33m\u001b[0m\u001b[1;33m\u001b[0m\u001b[0m\n\u001b[1;32m--> 398\u001b[1;33m             \u001b[1;32mreturn\u001b[0m \u001b[0mself\u001b[0m\u001b[1;33m.\u001b[0m\u001b[0m__getitem__\u001b[0m\u001b[1;33m(\u001b[0m\u001b[0mkey\u001b[0m\u001b[1;33m)\u001b[0m\u001b[1;33m\u001b[0m\u001b[1;33m\u001b[0m\u001b[0m\n\u001b[0m\u001b[0;32m    399\u001b[0m         \u001b[1;32mexcept\u001b[0m \u001b[0mKeyError\u001b[0m\u001b[1;33m:\u001b[0m\u001b[1;33m\u001b[0m\u001b[1;33m\u001b[0m\u001b[0m\n",
      "\u001b[1;32mC:\\ProgramData\\Anaconda3\\lib\\site-packages\\feedparser.py\u001b[0m in \u001b[0;36m__getitem__\u001b[1;34m(self, key)\u001b[0m\n\u001b[0;32m    355\u001b[0m                 \u001b[1;32mreturn\u001b[0m \u001b[0mdict\u001b[0m\u001b[1;33m.\u001b[0m\u001b[0m__getitem__\u001b[0m\u001b[1;33m(\u001b[0m\u001b[0mself\u001b[0m\u001b[1;33m,\u001b[0m \u001b[0mrealkey\u001b[0m\u001b[1;33m)\u001b[0m\u001b[1;33m\u001b[0m\u001b[1;33m\u001b[0m\u001b[0m\n\u001b[1;32m--> 356\u001b[1;33m         \u001b[1;32mreturn\u001b[0m \u001b[0mdict\u001b[0m\u001b[1;33m.\u001b[0m\u001b[0m__getitem__\u001b[0m\u001b[1;33m(\u001b[0m\u001b[0mself\u001b[0m\u001b[1;33m,\u001b[0m \u001b[0mkey\u001b[0m\u001b[1;33m)\u001b[0m\u001b[1;33m\u001b[0m\u001b[1;33m\u001b[0m\u001b[0m\n\u001b[0m\u001b[0;32m    357\u001b[0m \u001b[1;33m\u001b[0m\u001b[0m\n",
      "\u001b[1;31mKeyError\u001b[0m: 'categories'",
      "\nDuring handling of the above exception, another exception occurred:\n",
      "\u001b[1;31mAttributeError\u001b[0m                            Traceback (most recent call last)",
      "\u001b[1;32m<ipython-input-33-f8168e6c1743>\u001b[0m in \u001b[0;36m<module>\u001b[1;34m\u001b[0m\n\u001b[1;32m----> 1\u001b[1;33m \u001b[0mworld\u001b[0m\u001b[1;33m.\u001b[0m\u001b[0mfeed\u001b[0m\u001b[1;33m.\u001b[0m\u001b[0mcategories\u001b[0m\u001b[1;33m\u001b[0m\u001b[1;33m\u001b[0m\u001b[0m\n\u001b[0m",
      "\u001b[1;32mC:\\ProgramData\\Anaconda3\\lib\\site-packages\\feedparser.py\u001b[0m in \u001b[0;36m__getattr__\u001b[1;34m(self, key)\u001b[0m\n\u001b[0;32m    398\u001b[0m             \u001b[1;32mreturn\u001b[0m \u001b[0mself\u001b[0m\u001b[1;33m.\u001b[0m\u001b[0m__getitem__\u001b[0m\u001b[1;33m(\u001b[0m\u001b[0mkey\u001b[0m\u001b[1;33m)\u001b[0m\u001b[1;33m\u001b[0m\u001b[1;33m\u001b[0m\u001b[0m\n\u001b[0;32m    399\u001b[0m         \u001b[1;32mexcept\u001b[0m \u001b[0mKeyError\u001b[0m\u001b[1;33m:\u001b[0m\u001b[1;33m\u001b[0m\u001b[1;33m\u001b[0m\u001b[0m\n\u001b[1;32m--> 400\u001b[1;33m             \u001b[1;32mraise\u001b[0m \u001b[0mAttributeError\u001b[0m\u001b[1;33m(\u001b[0m\u001b[1;34m\"object has no attribute '%s'\"\u001b[0m \u001b[1;33m%\u001b[0m \u001b[0mkey\u001b[0m\u001b[1;33m)\u001b[0m\u001b[1;33m\u001b[0m\u001b[1;33m\u001b[0m\u001b[0m\n\u001b[0m\u001b[0;32m    401\u001b[0m \u001b[1;33m\u001b[0m\u001b[0m\n\u001b[0;32m    402\u001b[0m     \u001b[1;32mdef\u001b[0m \u001b[0m__hash__\u001b[0m\u001b[1;33m(\u001b[0m\u001b[0mself\u001b[0m\u001b[1;33m)\u001b[0m\u001b[1;33m:\u001b[0m\u001b[1;33m\u001b[0m\u001b[1;33m\u001b[0m\u001b[0m\n",
      "\u001b[1;31mAttributeError\u001b[0m: object has no attribute 'categories'"
     ]
    }
   ],
   "source": [
    "world.feed.categories"
   ]
  },
  {
   "cell_type": "code",
   "execution_count": 48,
   "metadata": {},
   "outputs": [
    {
     "data": {
      "text/plain": [
       "28"
      ]
     },
     "execution_count": 48,
     "metadata": {},
     "output_type": "execute_result"
    }
   ],
   "source": [
    "len(world.entries)\n",
    "#len(e.title)"
   ]
  },
  {
   "cell_type": "code",
   "execution_count": 38,
   "metadata": {},
   "outputs": [
    {
     "ename": "TypeError",
     "evalue": "'int' object is not iterable",
     "output_type": "error",
     "traceback": [
      "\u001b[1;31m---------------------------------------------------------------------------\u001b[0m",
      "\u001b[1;31mTypeError\u001b[0m                                 Traceback (most recent call last)",
      "\u001b[1;32m<ipython-input-38-067ef54b1fd4>\u001b[0m in \u001b[0;36m<module>\u001b[1;34m\u001b[0m\n\u001b[1;32m----> 1\u001b[1;33m \u001b[1;32mfor\u001b[0m \u001b[0mi\u001b[0m \u001b[1;32min\u001b[0m \u001b[0mlen\u001b[0m\u001b[1;33m(\u001b[0m\u001b[0me\u001b[0m\u001b[1;33m.\u001b[0m\u001b[0mtitle\u001b[0m\u001b[1;33m)\u001b[0m\u001b[1;33m:\u001b[0m\u001b[1;33m\u001b[0m\u001b[1;33m\u001b[0m\u001b[0m\n\u001b[0m\u001b[0;32m      2\u001b[0m     \u001b[0mprint\u001b[0m\u001b[1;33m(\u001b[0m\u001b[1;33m[\u001b[0m\u001b[0mi\u001b[0m\u001b[1;33m]\u001b[0m\u001b[1;33m)\u001b[0m\u001b[1;33m\u001b[0m\u001b[1;33m\u001b[0m\u001b[0m\n",
      "\u001b[1;31mTypeError\u001b[0m: 'int' object is not iterable"
     ]
    }
   ],
   "source": [
    "for i in len(e.title):\n",
    "    print([i])"
   ]
  },
  {
   "cell_type": "code",
   "execution_count": 66,
   "metadata": {},
   "outputs": [
    {
     "name": "stdout",
     "output_type": "stream",
     "text": [
      "\"O 25 de Abril tinha de ser evocado\": os momentos-chave da sessão no Parlamento\n",
      "Mortes em tempo de Covid ultrapassam ano letal de 2018\n",
      "Trabalhadores independentes e em lay-off já recorrem a ajuda alimentar\n",
      "Bicicletas e ciclovias: a mobilidade em Portugal\n",
      "Mobilidade: \"Autarca da cidade do Porto dá 40-0 ao de Lisboa\"\n",
      "Quase todos querem capacete e seguro obrigatório na bicicleta\n",
      "Guterres elogia maturidade dos portugueses em mensagem do 25 de Abril\n",
      "Primeira página em 60 segundos: Trabalhadores independentes e em lay-off já recorrem a ajuda alimentar\n",
      "25 de Abril com número reduzido de presenças no Parlamento e \"Grândola\" à janela\n",
      "Bastonário dos Médicos defende uso de máscaras de proteção na cerimónia do 25 de Abril\n",
      "Governo pondera decretar situação de calamidade pública após estado de emergência\n",
      "DGS revoga contrato de mais de 19,6 milhões de euros em material de proteção\n",
      "Os números do Euromilhões\n",
      "Mais de metade de trabalhadores em lares já foram testados à Covid-19\n",
      "Restrições para o fim de semana do 1.º de Maio e outros temas em 60 segundos\n",
      "Linha Vida recebe cada vez mais pedidos de ajuda sobre vício do jogo\n",
      "Gulbenkian dá 1,2 milhões para ajudar idosos\n",
      "Casos de Covid-19 em Portugal sobem 70% de uma semana para a outra\n",
      "Há mais de 150 anos que não deixamos os portugueses sozinhos\n",
      "João Moutinho junta-se ao movimento \"Todos Por Quem Cuida\"\n"
     ]
    }
   ],
   "source": [
    "# Evenimentul zilei RSS\n",
    "import feedparser\n",
    "url = 'http://feeds.jn.pt/JN-Nacional'\n",
    "\n",
    "evz = feedparser.parse(url)\n",
    "\n",
    "for item in evz.entries:\n",
    "    print(item.title)\n",
    "    \n",
    "#print(evz)"
   ]
  },
  {
   "cell_type": "code",
   "execution_count": 74,
   "metadata": {},
   "outputs": [
    {
     "ename": "AttributeError",
     "evalue": "'str' object has no attribute 'subtitle'",
     "output_type": "error",
     "traceback": [
      "\u001b[1;31m---------------------------------------------------------------------------\u001b[0m",
      "\u001b[1;31mAttributeError\u001b[0m                            Traceback (most recent call last)",
      "\u001b[1;32m<ipython-input-74-71c1a4dc362c>\u001b[0m in \u001b[0;36m<module>\u001b[1;34m\u001b[0m\n\u001b[0;32m      3\u001b[0m \u001b[0mspiegel\u001b[0m \u001b[1;33m=\u001b[0m \u001b[0mfeedparser\u001b[0m\u001b[1;33m.\u001b[0m\u001b[0mparse\u001b[0m\u001b[1;33m(\u001b[0m\u001b[0murl\u001b[0m\u001b[1;33m)\u001b[0m\u001b[1;33m\u001b[0m\u001b[1;33m\u001b[0m\u001b[0m\n\u001b[0;32m      4\u001b[0m \u001b[1;32mfor\u001b[0m \u001b[0mitem\u001b[0m \u001b[1;32min\u001b[0m \u001b[0mspiegel\u001b[0m\u001b[1;33m.\u001b[0m\u001b[0mentries\u001b[0m\u001b[1;33m:\u001b[0m\u001b[1;33m\u001b[0m\u001b[1;33m\u001b[0m\u001b[0m\n\u001b[1;32m----> 5\u001b[1;33m     \u001b[0mprint\u001b[0m\u001b[1;33m(\u001b[0m\u001b[0mitem\u001b[0m\u001b[1;33m.\u001b[0m\u001b[0mtitle\u001b[0m \u001b[1;33m+\u001b[0m \u001b[0mitem\u001b[0m\u001b[1;33m.\u001b[0m\u001b[0mtitle\u001b[0m\u001b[1;33m.\u001b[0m\u001b[0msubtitle\u001b[0m\u001b[1;33m)\u001b[0m\u001b[1;33m\u001b[0m\u001b[1;33m\u001b[0m\u001b[0m\n\u001b[0m",
      "\u001b[1;31mAttributeError\u001b[0m: 'str' object has no attribute 'subtitle'"
     ]
    }
   ],
   "source": [
    "# Der Spiegel\n",
    "url = 'https://www.spiegel.de/politik/index.rss'\n",
    "spiegel = feedparser.parse(url)\n",
    "for item in spiegel.entries:\n",
    "    print(item.title + item.title.subtitle)\n"
   ]
  },
  {
   "cell_type": "code",
   "execution_count": 72,
   "metadata": {},
   "outputs": [
    {
     "data": {
      "text/plain": [
       "{'feed': {'title': 'DER SPIEGEL - Politik',\n",
       "  'title_detail': {'type': 'text/plain',\n",
       "   'language': None,\n",
       "   'base': 'https://www.spiegel.de/politik/index.rss',\n",
       "   'value': 'DER SPIEGEL - Politik'},\n",
       "  'links': [{'rel': 'alternate',\n",
       "    'type': 'text/html',\n",
       "    'href': 'https://www.spiegel.de/'}],\n",
       "  'link': 'https://www.spiegel.de/',\n",
       "  'subtitle': 'Deutschlands führende Nachrichtenseite. Alles Wichtige aus Politik, Wirtschaft, Sport, Kultur, Wissenschaft, Technik und mehr.',\n",
       "  'subtitle_detail': {'type': 'text/html',\n",
       "   'language': None,\n",
       "   'base': 'https://www.spiegel.de/politik/index.rss',\n",
       "   'value': 'Deutschlands führende Nachrichtenseite. Alles Wichtige aus Politik, Wirtschaft, Sport, Kultur, Wissenschaft, Technik und mehr.'},\n",
       "  'language': 'de',\n",
       "  'published': 'Sat, 25 Apr 2020 12:58:20 +0200',\n",
       "  'published_parsed': time.struct_time(tm_year=2020, tm_mon=4, tm_mday=25, tm_hour=10, tm_min=58, tm_sec=20, tm_wday=5, tm_yday=116, tm_isdst=0),\n",
       "  'updated': 'Sat, 25 Apr 2020 12:58:20 +0200',\n",
       "  'updated_parsed': time.struct_time(tm_year=2020, tm_mon=4, tm_mday=25, tm_hour=10, tm_min=58, tm_sec=20, tm_wday=5, tm_yday=116, tm_isdst=0),\n",
       "  'image': {'title': 'DER SPIEGEL',\n",
       "   'title_detail': {'type': 'text/plain',\n",
       "    'language': None,\n",
       "    'base': 'https://www.spiegel.de/politik/index.rss',\n",
       "    'value': 'DER SPIEGEL'},\n",
       "   'links': [{'rel': 'alternate',\n",
       "     'type': 'text/html',\n",
       "     'href': 'https://www.spiegel.de/'}],\n",
       "   'link': 'https://www.spiegel.de/',\n",
       "   'href': 'https://www.spiegel.de/public/spon/images/logos/der-spiegel-h60.png'}},\n",
       " 'entries': [{'title': 'Corona-Krise: Trump bietet Deutschland Beatmungsgeräte an',\n",
       "   'title_detail': {'type': 'text/plain',\n",
       "    'language': None,\n",
       "    'base': 'https://www.spiegel.de/politik/index.rss',\n",
       "    'value': 'Corona-Krise: Trump bietet Deutschland Beatmungsgeräte an'},\n",
       "   'links': [{'rel': 'alternate',\n",
       "     'type': 'text/html',\n",
       "     'href': 'https://www.spiegel.de/politik/ausland/corona-krise-trump-bietet-deutschland-beatmungsgeraete-an-a-000571a1-6625-4093-97c6-59a4ed263d1f#ref=rss'},\n",
       "    {'type': 'image/jpeg',\n",
       "     'href': 'https://cdn.prod.www.spiegel.de/images/45c7be7b-d51c-48a3-a146-b76a48ac61fa_w520_r2.08_fpx35.32_fpy44.97.jpg',\n",
       "     'rel': 'enclosure'}],\n",
       "   'link': 'https://www.spiegel.de/politik/ausland/corona-krise-trump-bietet-deutschland-beatmungsgeraete-an-a-000571a1-6625-4093-97c6-59a4ed263d1f#ref=rss',\n",
       "   'summary': 'Per Gesetz aus Kriegszeiten kurbelte Donald Trump die Produktion von Beatmungsgeräten an – nun haben die USA davon offenbar zu viele. Als potenziellen Abnehmer bringt der Präsident Deutschland ins Spiel.',\n",
       "   'summary_detail': {'type': 'text/html',\n",
       "    'language': None,\n",
       "    'base': 'https://www.spiegel.de/politik/index.rss',\n",
       "    'value': 'Per Gesetz aus Kriegszeiten kurbelte Donald Trump die Produktion von Beatmungsgeräten an – nun haben die USA davon offenbar zu viele. Als potenziellen Abnehmer bringt der Präsident Deutschland ins Spiel.'},\n",
       "   'id': 'https://www.spiegel.de/politik/ausland/corona-krise-trump-bietet-deutschland-beatmungsgeraete-an-a-000571a1-6625-4093-97c6-59a4ed263d1f',\n",
       "   'guidislink': False,\n",
       "   'published': 'Sat, 25 Apr 2020 12:34:56 +0200',\n",
       "   'published_parsed': time.struct_time(tm_year=2020, tm_mon=4, tm_mday=25, tm_hour=10, tm_min=34, tm_sec=56, tm_wday=5, tm_yday=116, tm_isdst=0),\n",
       "   'content': [{'type': 'text/html',\n",
       "     'language': None,\n",
       "     'base': 'https://www.spiegel.de/politik/index.rss',\n",
       "     'value': 'Per Gesetz aus Kriegszeiten kurbelte Donald Trump die Produktion von Beatmungsgeräten an – nun haben die USA davon offenbar zu viele. Als potenziellen Abnehmer bringt der Präsident Deutschland ins Spiel.'}]},\n",
       "  {'title': 'Corona: Navy will gefeuerten US-Flugzeugträgerkommandanten rehabilitieren',\n",
       "   'title_detail': {'type': 'text/plain',\n",
       "    'language': None,\n",
       "    'base': 'https://www.spiegel.de/politik/index.rss',\n",
       "    'value': 'Corona: Navy will gefeuerten US-Flugzeugträgerkommandanten rehabilitieren'},\n",
       "   'links': [{'rel': 'alternate',\n",
       "     'type': 'text/html',\n",
       "     'href': 'https://www.spiegel.de/politik/ausland/corona-navy-will-gefeuerten-us-flugzeugtraegerkommandanten-rehabilitieren-a-ac6f9407-dda1-461b-8960-f44e2c1d2865#ref=rss'},\n",
       "    {'type': 'image/jpeg',\n",
       "     'href': 'https://cdn.prod.www.spiegel.de/images/cc9c71bd-e2c3-43e1-96a6-c46085260888_w520_r2.08_fpx70_fpy51.jpg',\n",
       "     'rel': 'enclosure'}],\n",
       "   'link': 'https://www.spiegel.de/politik/ausland/corona-navy-will-gefeuerten-us-flugzeugtraegerkommandanten-rehabilitieren-a-ac6f9407-dda1-461b-8960-f44e2c1d2865#ref=rss',\n",
       "   'summary': 'Weil sich das Virus auf seinem Schiff rasant ausbreitete, schlug der Kommandant der \"USS Theodore Roosevelt\" Alarm - und wurde gefeuert. Bekommt er nun seinen Posten zurück?',\n",
       "   'summary_detail': {'type': 'text/html',\n",
       "    'language': None,\n",
       "    'base': 'https://www.spiegel.de/politik/index.rss',\n",
       "    'value': 'Weil sich das Virus auf seinem Schiff rasant ausbreitete, schlug der Kommandant der \"USS Theodore Roosevelt\" Alarm - und wurde gefeuert. Bekommt er nun seinen Posten zurück?'},\n",
       "   'id': 'https://www.spiegel.de/politik/ausland/corona-navy-will-gefeuerten-us-flugzeugtraegerkommandanten-rehabilitieren-a-ac6f9407-dda1-461b-8960-f44e2c1d2865',\n",
       "   'guidislink': False,\n",
       "   'published': 'Sat, 25 Apr 2020 08:54:00 +0200',\n",
       "   'published_parsed': time.struct_time(tm_year=2020, tm_mon=4, tm_mday=25, tm_hour=6, tm_min=54, tm_sec=0, tm_wday=5, tm_yday=116, tm_isdst=0),\n",
       "   'content': [{'type': 'text/html',\n",
       "     'language': None,\n",
       "     'base': 'https://www.spiegel.de/politik/index.rss',\n",
       "     'value': 'Weil sich das Virus auf seinem Schiff rasant ausbreitete, schlug der Kommandant der \"USS Theodore Roosevelt\" Alarm - und wurde gefeuert. Bekommt er nun seinen Posten zurück?'}]},\n",
       "  {'title': 'Corona-Krise: Grüne fordern 250-Euro-Konsumgutschein als Stütze für Einzelhandel',\n",
       "   'title_detail': {'type': 'text/plain',\n",
       "    'language': None,\n",
       "    'base': 'https://www.spiegel.de/politik/index.rss',\n",
       "    'value': 'Corona-Krise: Grüne fordern 250-Euro-Konsumgutschein als Stütze für Einzelhandel'},\n",
       "   'links': [{'rel': 'alternate',\n",
       "     'type': 'text/html',\n",
       "     'href': 'https://www.spiegel.de/politik/deutschland/corona-krise-gruene-fordern-konsumgutschein-als-stuetze-fuer-einzelhandel-a-8569298b-625c-414c-a241-7f7235ae994a#ref=rss'},\n",
       "    {'type': 'image/jpeg',\n",
       "     'href': 'https://cdn.prod.www.spiegel.de/images/a7f909aa-19f9-4799-bc44-f3fb4a78d320_w520_r2.08_fpx48.57_fpy44.99.jpg',\n",
       "     'rel': 'enclosure'}],\n",
       "   'link': 'https://www.spiegel.de/politik/deutschland/corona-krise-gruene-fordern-konsumgutschein-als-stuetze-fuer-einzelhandel-a-8569298b-625c-414c-a241-7f7235ae994a#ref=rss',\n",
       "   'summary': 'Eine Gruppe um Grünen-Fraktionschef Hofreiter schlägt vor, allen Einwohnern Deutschlands einen „Kauf-vor-Ort-Gutschein“ zukommen zu lassen. So wollen sie den lokalen Einzelhandel unterstützen.',\n",
       "   'summary_detail': {'type': 'text/html',\n",
       "    'language': None,\n",
       "    'base': 'https://www.spiegel.de/politik/index.rss',\n",
       "    'value': 'Eine Gruppe um Grünen-Fraktionschef Hofreiter schlägt vor, allen Einwohnern Deutschlands einen „Kauf-vor-Ort-Gutschein“ zukommen zu lassen. So wollen sie den lokalen Einzelhandel unterstützen.'},\n",
       "   'id': 'https://www.spiegel.de/politik/deutschland/corona-krise-gruene-fordern-konsumgutschein-als-stuetze-fuer-einzelhandel-a-8569298b-625c-414c-a241-7f7235ae994a',\n",
       "   'guidislink': False,\n",
       "   'published': 'Sat, 25 Apr 2020 07:39:05 +0200',\n",
       "   'published_parsed': time.struct_time(tm_year=2020, tm_mon=4, tm_mday=25, tm_hour=5, tm_min=39, tm_sec=5, tm_wday=5, tm_yday=116, tm_isdst=0),\n",
       "   'content': [{'type': 'text/html',\n",
       "     'language': None,\n",
       "     'base': 'https://www.spiegel.de/politik/index.rss',\n",
       "     'value': 'Eine Gruppe um Grünen-Fraktionschef Hofreiter schlägt vor, allen Einwohnern Deutschlands einen „Kauf-vor-Ort-Gutschein“ zukommen zu lassen. So wollen sie den lokalen Einzelhandel unterstützen.'}]},\n",
       "  {'title': '\"Am Ende weiß keiner, ob Corona oder der Brexit schuld war\"',\n",
       "   'title_detail': {'type': 'text/plain',\n",
       "    'language': None,\n",
       "    'base': 'https://www.spiegel.de/politik/index.rss',\n",
       "    'value': '\"Am Ende weiß keiner, ob Corona oder der Brexit schuld war\"'},\n",
       "   'links': [{'rel': 'alternate',\n",
       "     'type': 'text/html',\n",
       "     'href': 'https://www.spiegel.de/politik/ausland/am-ende-weiss-keiner-ob-corona-oder-der-brexit-schuld-war-a-eb6d336e-058e-4795-b54d-99e388eb1c43#ref=rss'},\n",
       "    {'type': 'image/jpeg',\n",
       "     'href': 'https://cdn.prod.www.spiegel.de/images/ece6441d-d536-4085-ae0c-63e8067d5534_w520_r2.08_fpx39.54_fpy50.jpg',\n",
       "     'rel': 'enclosure'}],\n",
       "   'link': 'https://www.spiegel.de/politik/ausland/am-ende-weiss-keiner-ob-corona-oder-der-brexit-schuld-war-a-eb6d336e-058e-4795-b54d-99e388eb1c43#ref=rss',\n",
       "   'summary': 'Großbritannien könnte das Land mit den meisten Todesopfern in Europa werden. Korrespondent Jörg Schindler erklärt im Gespräch mit Juan Moreno, warum der Kampf gegen das Virus schiefging – und was das für den Brexit bedeutet.',\n",
       "   'summary_detail': {'type': 'text/html',\n",
       "    'language': None,\n",
       "    'base': 'https://www.spiegel.de/politik/index.rss',\n",
       "    'value': 'Großbritannien könnte das Land mit den meisten Todesopfern in Europa werden. Korrespondent Jörg Schindler erklärt im Gespräch mit Juan Moreno, warum der Kampf gegen das Virus schiefging – und was das für den Brexit bedeutet.'},\n",
       "   'id': 'https://www.spiegel.de/politik/ausland/am-ende-weiss-keiner-ob-corona-oder-der-brexit-schuld-war-a-eb6d336e-058e-4795-b54d-99e388eb1c43',\n",
       "   'guidislink': False,\n",
       "   'published': 'Fri, 24 Apr 2020 19:45:50 +0200',\n",
       "   'published_parsed': time.struct_time(tm_year=2020, tm_mon=4, tm_mday=24, tm_hour=17, tm_min=45, tm_sec=50, tm_wday=4, tm_yday=115, tm_isdst=0),\n",
       "   'content': [{'type': 'text/html',\n",
       "     'language': None,\n",
       "     'base': 'https://www.spiegel.de/politik/index.rss',\n",
       "     'value': 'Großbritannien könnte das Land mit den meisten Todesopfern in Europa werden. Korrespondent Jörg Schindler erklärt im Gespräch mit Juan Moreno, warum der Kampf gegen das Virus schiefging – und was das für den Brexit bedeutet.'}]},\n",
       "  {'title': 'Corona in den USA - Gefängnisse und Altersheime: \"Wie die Todesstrafe\"',\n",
       "   'title_detail': {'type': 'text/plain',\n",
       "    'language': None,\n",
       "    'base': 'https://www.spiegel.de/politik/index.rss',\n",
       "    'value': 'Corona in den USA - Gefängnisse und Altersheime: \"Wie die Todesstrafe\"'},\n",
       "   'links': [{'rel': 'alternate',\n",
       "     'type': 'text/html',\n",
       "     'href': 'https://www.spiegel.de/politik/ausland/corona-in-den-usa-gefaengnisse-und-altersheime-wie-die-todesstrafe-a-4d5f8313-8b6d-4cf5-83fb-226bc998d230#ref=rss'},\n",
       "    {'type': 'image/jpeg',\n",
       "     'href': 'https://cdn.prod.www.spiegel.de/images/4b5e9d9a-4c85-422d-a3c6-feefe8492b91_w520_r2.08_fpx60_fpy67.jpg',\n",
       "     'rel': 'enclosure'}],\n",
       "   'link': 'https://www.spiegel.de/politik/ausland/corona-in-den-usa-gefaengnisse-und-altersheime-wie-die-todesstrafe-a-4d5f8313-8b6d-4cf5-83fb-226bc998d230#ref=rss',\n",
       "   'summary': 'Die größten Corona-Risikozonen in den USA sind Gefängnisse und Seniorenheime. Dort starben bisher mehr als 10.000 Insassen. Trotzdem reagieren die Behörden nur langsam - manche vertuschen gar die Gefahr.',\n",
       "   'summary_detail': {'type': 'text/html',\n",
       "    'language': None,\n",
       "    'base': 'https://www.spiegel.de/politik/index.rss',\n",
       "    'value': 'Die größten Corona-Risikozonen in den USA sind Gefängnisse und Seniorenheime. Dort starben bisher mehr als 10.000 Insassen. Trotzdem reagieren die Behörden nur langsam - manche vertuschen gar die Gefahr.'},\n",
       "   'id': 'https://www.spiegel.de/politik/ausland/corona-in-den-usa-gefaengnisse-und-altersheime-wie-die-todesstrafe-a-4d5f8313-8b6d-4cf5-83fb-226bc998d230',\n",
       "   'guidislink': False,\n",
       "   'published': 'Fri, 24 Apr 2020 18:41:48 +0200',\n",
       "   'published_parsed': time.struct_time(tm_year=2020, tm_mon=4, tm_mday=24, tm_hour=16, tm_min=41, tm_sec=48, tm_wday=4, tm_yday=115, tm_isdst=0),\n",
       "   'content': [{'type': 'text/html',\n",
       "     'language': None,\n",
       "     'base': 'https://www.spiegel.de/politik/index.rss',\n",
       "     'value': 'Die größten Corona-Risikozonen in den USA sind Gefängnisse und Seniorenheime. Dort starben bisher mehr als 10.000 Insassen. Trotzdem reagieren die Behörden nur langsam - manche vertuschen gar die Gefahr.'}]},\n",
       "  {'title': 'Corona in Italien: Die nächste Krise hat bereits begonnen',\n",
       "   'title_detail': {'type': 'text/plain',\n",
       "    'language': None,\n",
       "    'base': 'https://www.spiegel.de/politik/index.rss',\n",
       "    'value': 'Corona in Italien: Die nächste Krise hat bereits begonnen'},\n",
       "   'links': [{'rel': 'alternate',\n",
       "     'type': 'text/html',\n",
       "     'href': 'https://www.spiegel.de/politik/ausland/corona-in-italien-die-naechste-krise-hat-bereits-begonnen-a-00000000-0002-0001-0000-000170604481#ref=rss'},\n",
       "    {'type': 'image/jpeg',\n",
       "     'href': 'https://cdn.prod.www.spiegel.de/images/30245f00-140c-4d8b-85e1-6c6702bc2413_w520_r2.08_fpx62_fpy73.jpg',\n",
       "     'rel': 'enclosure'}],\n",
       "   'link': 'https://www.spiegel.de/politik/ausland/corona-in-italien-die-naechste-krise-hat-bereits-begonnen-a-00000000-0002-0001-0000-000170604481#ref=rss',\n",
       "   'summary': 'Die Zahl der italienischen Covid-19-Kranken sinkt langsam. Doch mit den wirtschaftlichen Folgen der Pandemie wird das Land lange zu kämpfen haben.',\n",
       "   'summary_detail': {'type': 'text/html',\n",
       "    'language': None,\n",
       "    'base': 'https://www.spiegel.de/politik/index.rss',\n",
       "    'value': 'Die Zahl der italienischen Covid-19-Kranken sinkt langsam. Doch mit den wirtschaftlichen Folgen der Pandemie wird das Land lange zu kämpfen haben.'},\n",
       "   'id': 'https://www.spiegel.de/politik/ausland/corona-in-italien-die-naechste-krise-hat-bereits-begonnen-a-00000000-0002-0001-0000-000170604481',\n",
       "   'guidislink': False,\n",
       "   'published': 'Fri, 24 Apr 2020 18:00:00 +0200',\n",
       "   'published_parsed': time.struct_time(tm_year=2020, tm_mon=4, tm_mday=24, tm_hour=16, tm_min=0, tm_sec=0, tm_wday=4, tm_yday=115, tm_isdst=0),\n",
       "   'content': [{'type': 'text/html',\n",
       "     'language': None,\n",
       "     'base': 'https://www.spiegel.de/politik/index.rss',\n",
       "     'value': 'Die Zahl der italienischen Covid-19-Kranken sinkt langsam. Doch mit den wirtschaftlichen Folgen der Pandemie wird das Land lange zu kämpfen haben.'}]},\n",
       "  {'title': 'Peter Altmaier im Corona-Modus: Die erstaunliche Wiederbelebung',\n",
       "   'title_detail': {'type': 'text/plain',\n",
       "    'language': None,\n",
       "    'base': 'https://www.spiegel.de/politik/index.rss',\n",
       "    'value': 'Peter Altmaier im Corona-Modus: Die erstaunliche Wiederbelebung'},\n",
       "   'links': [{'rel': 'alternate',\n",
       "     'type': 'text/html',\n",
       "     'href': 'https://www.spiegel.de/politik/deutschland/peter-altmaier-im-corona-modus-die-erstaunliche-wiederbelebung-a-00000000-0002-0001-0000-000170604447#ref=rss'},\n",
       "    {'type': 'image/jpeg',\n",
       "     'href': 'https://cdn.prod.www.spiegel.de/images/0aa97c9f-33c5-45fb-b525-c9c9481be054_w520_r2.08_fpx49_fpy39.jpg',\n",
       "     'rel': 'enclosure'}],\n",
       "   'link': 'https://www.spiegel.de/politik/deutschland/peter-altmaier-im-corona-modus-die-erstaunliche-wiederbelebung-a-00000000-0002-0001-0000-000170604447#ref=rss',\n",
       "   'summary': 'Er galt als Auslaufmodell und Witzfigur. Dann kam Corona. Und auf einmal ist Peter Altmaier einer der wichtigsten Politiker Deutschlands.',\n",
       "   'summary_detail': {'type': 'text/html',\n",
       "    'language': None,\n",
       "    'base': 'https://www.spiegel.de/politik/index.rss',\n",
       "    'value': 'Er galt als Auslaufmodell und Witzfigur. Dann kam Corona. Und auf einmal ist Peter Altmaier einer der wichtigsten Politiker Deutschlands.'},\n",
       "   'id': 'https://www.spiegel.de/politik/deutschland/peter-altmaier-im-corona-modus-die-erstaunliche-wiederbelebung-a-00000000-0002-0001-0000-000170604447',\n",
       "   'guidislink': False,\n",
       "   'published': 'Fri, 24 Apr 2020 18:00:00 +0200',\n",
       "   'published_parsed': time.struct_time(tm_year=2020, tm_mon=4, tm_mday=24, tm_hour=16, tm_min=0, tm_sec=0, tm_wday=4, tm_yday=115, tm_isdst=0),\n",
       "   'content': [{'type': 'text/html',\n",
       "     'language': None,\n",
       "     'base': 'https://www.spiegel.de/politik/index.rss',\n",
       "     'value': 'Er galt als Auslaufmodell und Witzfigur. Dann kam Corona. Und auf einmal ist Peter Altmaier einer der wichtigsten Politiker Deutschlands.'}]},\n",
       "  {'title': 'Familien im Corona-Stress: Macht die Kitas auf!',\n",
       "   'title_detail': {'type': 'text/plain',\n",
       "    'language': None,\n",
       "    'base': 'https://www.spiegel.de/politik/index.rss',\n",
       "    'value': 'Familien im Corona-Stress: Macht die Kitas auf!'},\n",
       "   'links': [{'rel': 'alternate',\n",
       "     'type': 'text/html',\n",
       "     'href': 'https://www.spiegel.de/politik/deutschland/familien-im-corona-stress-macht-die-kitas-auf-a-00000000-0002-0001-0000-000170604429#ref=rss'},\n",
       "    {'type': 'image/jpeg',\n",
       "     'href': 'https://cdn.prod.www.spiegel.de/images/471f7df2-320b-4327-99c3-af250f1b1cb1_w520_r2.08_fpx44.16_fpy49.94.jpg',\n",
       "     'rel': 'enclosure'}],\n",
       "   'link': 'https://www.spiegel.de/politik/deutschland/familien-im-corona-stress-macht-die-kitas-auf-a-00000000-0002-0001-0000-000170604429#ref=rss',\n",
       "   'summary': 'Die Politik verlässt sich auf eine scheinbar unbegrenzte und kostenlose Ressource: die Aufopferungsbereitschaft von Eltern, vor allem von Müttern. Das ist falsch.',\n",
       "   'summary_detail': {'type': 'text/html',\n",
       "    'language': None,\n",
       "    'base': 'https://www.spiegel.de/politik/index.rss',\n",
       "    'value': 'Die Politik verlässt sich auf eine scheinbar unbegrenzte und kostenlose Ressource: die Aufopferungsbereitschaft von Eltern, vor allem von Müttern. Das ist falsch.'},\n",
       "   'id': 'https://www.spiegel.de/politik/deutschland/familien-im-corona-stress-macht-die-kitas-auf-a-00000000-0002-0001-0000-000170604429',\n",
       "   'guidislink': False,\n",
       "   'published': 'Fri, 24 Apr 2020 18:00:00 +0200',\n",
       "   'published_parsed': time.struct_time(tm_year=2020, tm_mon=4, tm_mday=24, tm_hour=16, tm_min=0, tm_sec=0, tm_wday=4, tm_yday=115, tm_isdst=0),\n",
       "   'content': [{'type': 'text/html',\n",
       "     'language': None,\n",
       "     'base': 'https://www.spiegel.de/politik/index.rss',\n",
       "     'value': 'Die Politik verlässt sich auf eine scheinbar unbegrenzte und kostenlose Ressource: die Aufopferungsbereitschaft von Eltern, vor allem von Müttern. Das ist falsch.'}]},\n",
       "  {'title': 'Der Rest soll schweigen - Kolumne',\n",
       "   'title_detail': {'type': 'text/plain',\n",
       "    'language': None,\n",
       "    'base': 'https://www.spiegel.de/politik/index.rss',\n",
       "    'value': 'Der Rest soll schweigen - Kolumne'},\n",
       "   'links': [{'rel': 'alternate',\n",
       "     'type': 'text/html',\n",
       "     'href': 'https://www.spiegel.de/politik/deutschland/der-rest-soll-schweigen-kolumne-a-00000000-0002-0001-0000-000170604435#ref=rss'},\n",
       "    {'type': 'image/jpeg',\n",
       "     'href': 'https://cdn.prod.www.spiegel.de/images/73c08a24-ecd5-4ed6-847c-90357a8ab311_w520_r2.08_fpx48.57_fpy44.88.jpg',\n",
       "     'rel': 'enclosure'}],\n",
       "   'link': 'https://www.spiegel.de/politik/deutschland/der-rest-soll-schweigen-kolumne-a-00000000-0002-0001-0000-000170604435#ref=rss',\n",
       "   'summary': 'Eigentlich sollten wir gar nicht wissen, dass Angela Merkel das Wort Orgie in den Mund genommen hat.',\n",
       "   'summary_detail': {'type': 'text/html',\n",
       "    'language': None,\n",
       "    'base': 'https://www.spiegel.de/politik/index.rss',\n",
       "    'value': 'Eigentlich sollten wir gar nicht wissen, dass Angela Merkel das Wort Orgie in den Mund genommen hat.'},\n",
       "   'id': 'https://www.spiegel.de/politik/deutschland/der-rest-soll-schweigen-kolumne-a-00000000-0002-0001-0000-000170604435',\n",
       "   'guidislink': False,\n",
       "   'published': 'Fri, 24 Apr 2020 18:00:00 +0200',\n",
       "   'published_parsed': time.struct_time(tm_year=2020, tm_mon=4, tm_mday=24, tm_hour=16, tm_min=0, tm_sec=0, tm_wday=4, tm_yday=115, tm_isdst=0),\n",
       "   'content': [{'type': 'text/html',\n",
       "     'language': None,\n",
       "     'base': 'https://www.spiegel.de/politik/index.rss',\n",
       "     'value': 'Eigentlich sollten wir gar nicht wissen, dass Angela Merkel das Wort Orgie in den Mund genommen hat.'}]},\n",
       "  {'title': 'Bildung in Deutschland: Das große Schul-Versagen - Audiostory',\n",
       "   'title_detail': {'type': 'text/plain',\n",
       "    'language': None,\n",
       "    'base': 'https://www.spiegel.de/politik/index.rss',\n",
       "    'value': 'Bildung in Deutschland: Das große Schul-Versagen - Audiostory'},\n",
       "   'links': [{'rel': 'alternate',\n",
       "     'type': 'text/html',\n",
       "     'href': 'https://www.spiegel.de/politik/bildung-in-deutschland-das-grosse-schul-versagen-audiostory-a-034f434e-f351-4c18-9a24-bd3312daad9d#ref=rss'},\n",
       "    {'type': 'image/jpeg',\n",
       "     'href': 'https://cdn.prod.www.spiegel.de/images/933cb4b3-1dce-449d-ba59-e4132aaa553a_w520_r2.08_fpx46.65_fpy54.97.jpg',\n",
       "     'rel': 'enclosure'}],\n",
       "   'link': 'https://www.spiegel.de/politik/bildung-in-deutschland-das-grosse-schul-versagen-audiostory-a-034f434e-f351-4c18-9a24-bd3312daad9d#ref=rss',\n",
       "   'summary': 'Viele Schulen sind auf die Wiederöffnung schlecht vorbereitet. Jetzt rächt sich, dass Deutschland bei der Digitalisierung hinterherhinkt. Den Preis zahlen die Schüler, die am meisten Hilfe bräuchten. Hören Sie hier die SPIEGEL-Titelstory (39:18 Minuten).',\n",
       "   'summary_detail': {'type': 'text/html',\n",
       "    'language': None,\n",
       "    'base': 'https://www.spiegel.de/politik/index.rss',\n",
       "    'value': 'Viele Schulen sind auf die Wiederöffnung schlecht vorbereitet. Jetzt rächt sich, dass Deutschland bei der Digitalisierung hinterherhinkt. Den Preis zahlen die Schüler, die am meisten Hilfe bräuchten. Hören Sie hier die SPIEGEL-Titelstory (39:18 Minuten).'},\n",
       "   'id': 'https://www.spiegel.de/politik/bildung-in-deutschland-das-grosse-schul-versagen-audiostory-a-034f434e-f351-4c18-9a24-bd3312daad9d',\n",
       "   'guidislink': False,\n",
       "   'published': 'Fri, 24 Apr 2020 18:00:00 +0200',\n",
       "   'published_parsed': time.struct_time(tm_year=2020, tm_mon=4, tm_mday=24, tm_hour=16, tm_min=0, tm_sec=0, tm_wday=4, tm_yday=115, tm_isdst=0),\n",
       "   'content': [{'type': 'text/html',\n",
       "     'language': None,\n",
       "     'base': 'https://www.spiegel.de/politik/index.rss',\n",
       "     'value': 'Viele Schulen sind auf die Wiederöffnung schlecht vorbereitet. Jetzt rächt sich, dass Deutschland bei der Digitalisierung hinterherhinkt. Den Preis zahlen die Schüler, die am meisten Hilfe bräuchten. Hören Sie hier die SPIEGEL-Titelstory (39:18 Minuten).'}]},\n",
       "  {'title': 'Familien im Corona-Stress: Macht die Kitas auf! - Audiostory',\n",
       "   'title_detail': {'type': 'text/plain',\n",
       "    'language': None,\n",
       "    'base': 'https://www.spiegel.de/politik/index.rss',\n",
       "    'value': 'Familien im Corona-Stress: Macht die Kitas auf! - Audiostory'},\n",
       "   'links': [{'rel': 'alternate',\n",
       "     'type': 'text/html',\n",
       "     'href': 'https://www.spiegel.de/politik/deutschland/familien-im-corona-stress-macht-die-kitas-auf-audiostory-a-d25380a5-2e63-4203-9d8b-3dcacc4d54fe#ref=rss'},\n",
       "    {'type': 'image/jpeg',\n",
       "     'href': 'https://cdn.prod.www.spiegel.de/images/471f7df2-320b-4327-99c3-af250f1b1cb1_w520_r2.08_fpx44.16_fpy49.94.jpg',\n",
       "     'rel': 'enclosure'}],\n",
       "   'link': 'https://www.spiegel.de/politik/deutschland/familien-im-corona-stress-macht-die-kitas-auf-audiostory-a-d25380a5-2e63-4203-9d8b-3dcacc4d54fe#ref=rss',\n",
       "   'summary': 'Die Politik verlässt sich auf eine scheinbar unbegrenzte und kostenlose Ressource: die Aufopferungsbereitschaft von Eltern, vor allem von Müttern. Das ist falsch. Hören Sie hier die Geschichte (04:53 Minuten)',\n",
       "   'summary_detail': {'type': 'text/html',\n",
       "    'language': None,\n",
       "    'base': 'https://www.spiegel.de/politik/index.rss',\n",
       "    'value': 'Die Politik verlässt sich auf eine scheinbar unbegrenzte und kostenlose Ressource: die Aufopferungsbereitschaft von Eltern, vor allem von Müttern. Das ist falsch. Hören Sie hier die Geschichte (04:53 Minuten)'},\n",
       "   'id': 'https://www.spiegel.de/politik/deutschland/familien-im-corona-stress-macht-die-kitas-auf-audiostory-a-d25380a5-2e63-4203-9d8b-3dcacc4d54fe',\n",
       "   'guidislink': False,\n",
       "   'published': 'Fri, 24 Apr 2020 18:00:00 +0200',\n",
       "   'published_parsed': time.struct_time(tm_year=2020, tm_mon=4, tm_mday=24, tm_hour=16, tm_min=0, tm_sec=0, tm_wday=4, tm_yday=115, tm_isdst=0),\n",
       "   'content': [{'type': 'text/html',\n",
       "     'language': None,\n",
       "     'base': 'https://www.spiegel.de/politik/index.rss',\n",
       "     'value': 'Die Politik verlässt sich auf eine scheinbar unbegrenzte und kostenlose Ressource: die Aufopferungsbereitschaft von Eltern, vor allem von Müttern. Das ist falsch. Hören Sie hier die Geschichte (04:53 Minuten)'}]},\n",
       "  {'title': 'Corona in Italien: Die nächste Krise hat bereits begonnen - Audiostory',\n",
       "   'title_detail': {'type': 'text/plain',\n",
       "    'language': None,\n",
       "    'base': 'https://www.spiegel.de/politik/index.rss',\n",
       "    'value': 'Corona in Italien: Die nächste Krise hat bereits begonnen - Audiostory'},\n",
       "   'links': [{'rel': 'alternate',\n",
       "     'type': 'text/html',\n",
       "     'href': 'https://www.spiegel.de/politik/ausland/corona-in-italien-die-naechste-krise-hat-bereits-begonnen-audiostory-a-a35f43cc-0045-4ab5-be70-1ef24f76d8ae#ref=rss'},\n",
       "    {'type': 'image/jpeg',\n",
       "     'href': 'https://cdn.prod.www.spiegel.de/images/30245f00-140c-4d8b-85e1-6c6702bc2413_w520_r2.08_fpx62_fpy73.jpg',\n",
       "     'rel': 'enclosure'}],\n",
       "   'link': 'https://www.spiegel.de/politik/ausland/corona-in-italien-die-naechste-krise-hat-bereits-begonnen-audiostory-a-a35f43cc-0045-4ab5-be70-1ef24f76d8ae#ref=rss',\n",
       "   'summary': 'Die Zahl der italienischen Covid-19-Kranken sinkt langsam. Doch mit den wirtschaftlichen Folgen der Pandemie wird das Land lange zu kämpfen haben. Hören Sie hier die Geschichte (09:58 Minuten)',\n",
       "   'summary_detail': {'type': 'text/html',\n",
       "    'language': None,\n",
       "    'base': 'https://www.spiegel.de/politik/index.rss',\n",
       "    'value': 'Die Zahl der italienischen Covid-19-Kranken sinkt langsam. Doch mit den wirtschaftlichen Folgen der Pandemie wird das Land lange zu kämpfen haben. Hören Sie hier die Geschichte (09:58 Minuten)'},\n",
       "   'id': 'https://www.spiegel.de/politik/ausland/corona-in-italien-die-naechste-krise-hat-bereits-begonnen-audiostory-a-a35f43cc-0045-4ab5-be70-1ef24f76d8ae',\n",
       "   'guidislink': False,\n",
       "   'published': 'Fri, 24 Apr 2020 18:00:00 +0200',\n",
       "   'published_parsed': time.struct_time(tm_year=2020, tm_mon=4, tm_mday=24, tm_hour=16, tm_min=0, tm_sec=0, tm_wday=4, tm_yday=115, tm_isdst=0),\n",
       "   'content': [{'type': 'text/html',\n",
       "     'language': None,\n",
       "     'base': 'https://www.spiegel.de/politik/index.rss',\n",
       "     'value': 'Die Zahl der italienischen Covid-19-Kranken sinkt langsam. Doch mit den wirtschaftlichen Folgen der Pandemie wird das Land lange zu kämpfen haben. Hören Sie hier die Geschichte (09:58 Minuten)'}]},\n",
       "  {'title': 'Peter Altmaier im Corona-Modus: Die erstaunliche Wiederbelebung - Audiostory',\n",
       "   'title_detail': {'type': 'text/plain',\n",
       "    'language': None,\n",
       "    'base': 'https://www.spiegel.de/politik/index.rss',\n",
       "    'value': 'Peter Altmaier im Corona-Modus: Die erstaunliche Wiederbelebung - Audiostory'},\n",
       "   'links': [{'rel': 'alternate',\n",
       "     'type': 'text/html',\n",
       "     'href': 'https://www.spiegel.de/politik/deutschland/peter-altmaier-im-corona-modus-die-erstaunliche-wiederbelebung-audiostory-a-202188d5-cb05-49ad-b25e-0a33240a4529#ref=rss'},\n",
       "    {'type': 'image/jpeg',\n",
       "     'href': 'https://cdn.prod.www.spiegel.de/images/0aa97c9f-33c5-45fb-b525-c9c9481be054_w520_r2.08_fpx49_fpy39.jpg',\n",
       "     'rel': 'enclosure'}],\n",
       "   'link': 'https://www.spiegel.de/politik/deutschland/peter-altmaier-im-corona-modus-die-erstaunliche-wiederbelebung-audiostory-a-202188d5-cb05-49ad-b25e-0a33240a4529#ref=rss',\n",
       "   'summary': 'Er galt als Auslaufmodell und Witzfigur. Dann kam Corona. Und auf einmal ist Peter Altmaier einer der wichtigsten Politiker Deutschlands. Hören Sie hier die Geschichte (20:46 Minuten)',\n",
       "   'summary_detail': {'type': 'text/html',\n",
       "    'language': None,\n",
       "    'base': 'https://www.spiegel.de/politik/index.rss',\n",
       "    'value': 'Er galt als Auslaufmodell und Witzfigur. Dann kam Corona. Und auf einmal ist Peter Altmaier einer der wichtigsten Politiker Deutschlands. Hören Sie hier die Geschichte (20:46 Minuten)'},\n",
       "   'id': 'https://www.spiegel.de/politik/deutschland/peter-altmaier-im-corona-modus-die-erstaunliche-wiederbelebung-audiostory-a-202188d5-cb05-49ad-b25e-0a33240a4529',\n",
       "   'guidislink': False,\n",
       "   'published': 'Fri, 24 Apr 2020 18:00:00 +0200',\n",
       "   'published_parsed': time.struct_time(tm_year=2020, tm_mon=4, tm_mday=24, tm_hour=16, tm_min=0, tm_sec=0, tm_wday=4, tm_yday=115, tm_isdst=0),\n",
       "   'content': [{'type': 'text/html',\n",
       "     'language': None,\n",
       "     'base': 'https://www.spiegel.de/politik/index.rss',\n",
       "     'value': 'Er galt als Auslaufmodell und Witzfigur. Dann kam Corona. Und auf einmal ist Peter Altmaier einer der wichtigsten Politiker Deutschlands. Hören Sie hier die Geschichte (20:46 Minuten)'}]},\n",
       "  {'title': 'Brasilien: Nach Streit mit Jair Bolsonaro - Justizminister Sergio Moro legt Amt nieder',\n",
       "   'title_detail': {'type': 'text/plain',\n",
       "    'language': None,\n",
       "    'base': 'https://www.spiegel.de/politik/index.rss',\n",
       "    'value': 'Brasilien: Nach Streit mit Jair Bolsonaro - Justizminister Sergio Moro legt Amt nieder'},\n",
       "   'links': [{'rel': 'alternate',\n",
       "     'type': 'text/html',\n",
       "     'href': 'https://www.spiegel.de/politik/ausland/brasilien-nach-streit-mit-jair-bolsonaro-justizminister-sergio-moro-legt-amt-nieder-a-d4677677-3ced-49ce-8b1d-b5de37f928ff#ref=rss'},\n",
       "    {'type': 'image/jpeg',\n",
       "     'href': 'https://cdn.prod.www.spiegel.de/images/aeccad01-792e-47ea-9f52-ef1a1323c52e_w520_r2.08_fpx48_fpy46.jpg',\n",
       "     'rel': 'enclosure'}],\n",
       "   'link': 'https://www.spiegel.de/politik/ausland/brasilien-nach-streit-mit-jair-bolsonaro-justizminister-sergio-moro-legt-amt-nieder-a-d4677677-3ced-49ce-8b1d-b5de37f928ff#ref=rss',\n",
       "   'summary': 'Sergio Moro zieht die Konsequenzen aus einem Streit mit Präsident Bolsonaro. Der Antikorruptionskämpfer, der selbst in der Kritik steht, wirft dem Staatschef \"politische Einflussnahme\" vor.',\n",
       "   'summary_detail': {'type': 'text/html',\n",
       "    'language': None,\n",
       "    'base': 'https://www.spiegel.de/politik/index.rss',\n",
       "    'value': 'Sergio Moro zieht die Konsequenzen aus einem Streit mit Präsident Bolsonaro. Der Antikorruptionskämpfer, der selbst in der Kritik steht, wirft dem Staatschef \"politische Einflussnahme\" vor.'},\n",
       "   'id': 'https://www.spiegel.de/politik/ausland/brasilien-nach-streit-mit-jair-bolsonaro-justizminister-sergio-moro-legt-amt-nieder-a-d4677677-3ced-49ce-8b1d-b5de37f928ff',\n",
       "   'guidislink': False,\n",
       "   'published': 'Fri, 24 Apr 2020 17:46:41 +0200',\n",
       "   'published_parsed': time.struct_time(tm_year=2020, tm_mon=4, tm_mday=24, tm_hour=15, tm_min=46, tm_sec=41, tm_wday=4, tm_yday=115, tm_isdst=0),\n",
       "   'content': [{'type': 'text/html',\n",
       "     'language': None,\n",
       "     'base': 'https://www.spiegel.de/politik/index.rss',\n",
       "     'value': 'Sergio Moro zieht die Konsequenzen aus einem Streit mit Präsident Bolsonaro. Der Antikorruptionskämpfer, der selbst in der Kritik steht, wirft dem Staatschef \"politische Einflussnahme\" vor.'}]},\n",
       "  {'title': 'News des Tages: Das Ende des deutschen Jobwunders',\n",
       "   'title_detail': {'type': 'text/plain',\n",
       "    'language': None,\n",
       "    'base': 'https://www.spiegel.de/politik/index.rss',\n",
       "    'value': 'News des Tages: Das Ende des deutschen Jobwunders'},\n",
       "   'links': [{'rel': 'alternate',\n",
       "     'type': 'text/html',\n",
       "     'href': 'https://www.spiegel.de/politik/deutschland/news-des-tages-das-ende-des-deutschen-jobwunders-a-9c687cd0-a3df-4290-8797-7dd9abe9d363#ref=rss'},\n",
       "    {'type': 'image/jpeg',\n",
       "     'href': 'https://cdn.prod.www.spiegel.de/images/70b59745-2a6d-4267-a4da-8eaba3142dea_w520_r2.08_fpx54.54_fpy52.81.jpg',\n",
       "     'rel': 'enclosure'}],\n",
       "   'link': 'https://www.spiegel.de/politik/deutschland/news-des-tages-das-ende-des-deutschen-jobwunders-a-9c687cd0-a3df-4290-8797-7dd9abe9d363#ref=rss',\n",
       "   'summary': 'Noch vor Wochen schien fehlendes Personal das größte Problem am deutschen Arbeitsmarkt. Die Coronakrise bereitet dem ein jähes Ende: Experten erwarten für längere Zeit deutlich mehr Menschen ohne Job. Die Lage am Abend.',\n",
       "   'summary_detail': {'type': 'text/html',\n",
       "    'language': None,\n",
       "    'base': 'https://www.spiegel.de/politik/index.rss',\n",
       "    'value': 'Noch vor Wochen schien fehlendes Personal das größte Problem am deutschen Arbeitsmarkt. Die Coronakrise bereitet dem ein jähes Ende: Experten erwarten für längere Zeit deutlich mehr Menschen ohne Job. Die Lage am Abend.'},\n",
       "   'id': 'https://www.spiegel.de/politik/deutschland/news-des-tages-das-ende-des-deutschen-jobwunders-a-9c687cd0-a3df-4290-8797-7dd9abe9d363',\n",
       "   'guidislink': False,\n",
       "   'published': 'Fri, 24 Apr 2020 17:41:00 +0200',\n",
       "   'published_parsed': time.struct_time(tm_year=2020, tm_mon=4, tm_mday=24, tm_hour=15, tm_min=41, tm_sec=0, tm_wday=4, tm_yday=115, tm_isdst=0),\n",
       "   'content': [{'type': 'text/html',\n",
       "     'language': None,\n",
       "     'base': 'https://www.spiegel.de/politik/index.rss',\n",
       "     'value': 'Noch vor Wochen schien fehlendes Personal das größte Problem am deutschen Arbeitsmarkt. Die Coronakrise bereitet dem ein jähes Ende: Experten erwarten für längere Zeit deutlich mehr Menschen ohne Job. Die Lage am Abend.'}]},\n",
       "  {'title': 'Norbert Blüm - Erinnerungen an den CDU-Politiker im Video',\n",
       "   'title_detail': {'type': 'text/plain',\n",
       "    'language': None,\n",
       "    'base': 'https://www.spiegel.de/politik/index.rss',\n",
       "    'value': 'Norbert Blüm - Erinnerungen an den CDU-Politiker im Video'},\n",
       "   'links': [{'rel': 'alternate',\n",
       "     'type': 'text/html',\n",
       "     'href': 'https://www.spiegel.de/politik/deutschland/norbert-bluem-erinnerungen-an-den-cdu-politiker-im-video-a-272d8d30-064f-439c-9ccf-9046e9c70599#ref=rss'},\n",
       "    {'type': 'image/jpeg',\n",
       "     'href': 'https://cdn.prod.www.spiegel.de/images/5230f8ca-7714-4080-8771-ae149a1c9576_w520_r2.08_fpx62.4_fpy45.jpg',\n",
       "     'rel': 'enclosure'}],\n",
       "   'link': 'https://www.spiegel.de/politik/deutschland/norbert-bluem-erinnerungen-an-den-cdu-politiker-im-video-a-272d8d30-064f-439c-9ccf-9046e9c70599#ref=rss',\n",
       "   'summary': 'Norbert Blüm war 16 Jahre lang unter Bundeskanzler Helmut Kohl Minister für Arbeit und Soziales. Nach seinem Tod bleibt neben seinen politischen Verdiensten vor allem sein Humor in besonderer Erinnerung.',\n",
       "   'summary_detail': {'type': 'text/html',\n",
       "    'language': None,\n",
       "    'base': 'https://www.spiegel.de/politik/index.rss',\n",
       "    'value': 'Norbert Blüm war 16 Jahre lang unter Bundeskanzler Helmut Kohl Minister für Arbeit und Soziales. Nach seinem Tod bleibt neben seinen politischen Verdiensten vor allem sein Humor in besonderer Erinnerung.'},\n",
       "   'id': 'https://www.spiegel.de/politik/deutschland/norbert-bluem-erinnerungen-an-den-cdu-politiker-im-video-a-272d8d30-064f-439c-9ccf-9046e9c70599',\n",
       "   'guidislink': False,\n",
       "   'published': 'Fri, 24 Apr 2020 16:55:46 +0200',\n",
       "   'published_parsed': time.struct_time(tm_year=2020, tm_mon=4, tm_mday=24, tm_hour=14, tm_min=55, tm_sec=46, tm_wday=4, tm_yday=115, tm_isdst=0),\n",
       "   'content': [{'type': 'text/html',\n",
       "     'language': None,\n",
       "     'base': 'https://www.spiegel.de/politik/index.rss',\n",
       "     'value': 'Norbert Blüm war 16 Jahre lang unter Bundeskanzler Helmut Kohl Minister für Arbeit und Soziales. Nach seinem Tod bleibt neben seinen politischen Verdiensten vor allem sein Humor in besonderer Erinnerung.'}]},\n",
       "  {'title': 'Corona: Raus aus dem Lockdown - so schnell wie möglich',\n",
       "   'title_detail': {'type': 'text/plain',\n",
       "    'language': None,\n",
       "    'base': 'https://www.spiegel.de/politik/index.rss',\n",
       "    'value': 'Corona: Raus aus dem Lockdown - so schnell wie möglich'},\n",
       "   'links': [{'rel': 'alternate',\n",
       "     'type': 'text/html',\n",
       "     'href': 'https://www.spiegel.de/politik/corona-raus-aus-dem-lockdown-so-schnell-wie-moeglich-a-00000000-0002-0001-0000-000170604448#ref=rss'},\n",
       "    {'type': 'image/jpeg',\n",
       "     'href': 'https://cdn.prod.www.spiegel.de/images/76218e1b-a56d-4795-a57a-6d2e690d3c22_w520_r2.08_fpx61.83_fpy50.jpg',\n",
       "     'rel': 'enclosure'}],\n",
       "   'link': 'https://www.spiegel.de/politik/corona-raus-aus-dem-lockdown-so-schnell-wie-moeglich-a-00000000-0002-0001-0000-000170604448#ref=rss',\n",
       "   'summary': 'Covid-19 ist für die Bevölkerung nicht gefährlicher als die Grippe, sagen unsere sechs Gastautoren - wenn man Ältere und Risikogruppen schützt. Hier entwickeln sie einen Gegenentwurf zur aktuellen Strategie.',\n",
       "   'summary_detail': {'type': 'text/html',\n",
       "    'language': None,\n",
       "    'base': 'https://www.spiegel.de/politik/index.rss',\n",
       "    'value': 'Covid-19 ist für die Bevölkerung nicht gefährlicher als die Grippe, sagen unsere sechs Gastautoren - wenn man Ältere und Risikogruppen schützt. Hier entwickeln sie einen Gegenentwurf zur aktuellen Strategie.'},\n",
       "   'id': 'https://www.spiegel.de/politik/corona-raus-aus-dem-lockdown-so-schnell-wie-moeglich-a-00000000-0002-0001-0000-000170604448',\n",
       "   'guidislink': False,\n",
       "   'published': 'Fri, 24 Apr 2020 16:30:00 +0200',\n",
       "   'published_parsed': time.struct_time(tm_year=2020, tm_mon=4, tm_mday=24, tm_hour=14, tm_min=30, tm_sec=0, tm_wday=4, tm_yday=115, tm_isdst=0),\n",
       "   'content': [{'type': 'text/html',\n",
       "     'language': None,\n",
       "     'base': 'https://www.spiegel.de/politik/index.rss',\n",
       "     'value': 'Covid-19 ist für die Bevölkerung nicht gefährlicher als die Grippe, sagen unsere sechs Gastautoren - wenn man Ältere und Risikogruppen schützt. Hier entwickeln sie einen Gegenentwurf zur aktuellen Strategie.'}]},\n",
       "  {'title': 'Corona: Junge Union, Jusos, JuLis und Junge Grüne fordern Bafög-Öffnung',\n",
       "   'title_detail': {'type': 'text/plain',\n",
       "    'language': None,\n",
       "    'base': 'https://www.spiegel.de/politik/index.rss',\n",
       "    'value': 'Corona: Junge Union, Jusos, JuLis und Junge Grüne fordern Bafög-Öffnung'},\n",
       "   'links': [{'rel': 'alternate',\n",
       "     'type': 'text/html',\n",
       "     'href': 'https://www.spiegel.de/politik/deutschland/corona-junge-union-jusos-julis-und-junge-gruene-fordern-bafoeg-oeffnung-a-fc71bc71-d058-42f2-a73c-73e1a94c484d#ref=rss'},\n",
       "    {'type': 'image/jpeg',\n",
       "     'href': 'https://cdn.prod.www.spiegel.de/images/3b7e4801-aab1-45d4-ba5b-a1ed5d8088d9_w520_r2.08_fpx64.64_fpy44.97.jpg',\n",
       "     'rel': 'enclosure'}],\n",
       "   'link': 'https://www.spiegel.de/politik/deutschland/corona-junge-union-jusos-julis-und-junge-gruene-fordern-bafoeg-oeffnung-a-fc71bc71-d058-42f2-a73c-73e1a94c484d#ref=rss',\n",
       "   'summary': 'In der Coronakrise stehen die Jugendorganisationen von CDU, SPD, Grünen und FDP zusammen. In einem gemeinsamen Brief an die Bundesregierung verlangen sie nach SPIEGEL-Informationen\\neine Öffnung des Bafögs.',\n",
       "   'summary_detail': {'type': 'text/html',\n",
       "    'language': None,\n",
       "    'base': 'https://www.spiegel.de/politik/index.rss',\n",
       "    'value': 'In der Coronakrise stehen die Jugendorganisationen von CDU, SPD, Grünen und FDP zusammen. In einem gemeinsamen Brief an die Bundesregierung verlangen sie nach SPIEGEL-Informationen\\neine Öffnung des Bafögs.'},\n",
       "   'id': 'https://www.spiegel.de/politik/deutschland/corona-junge-union-jusos-julis-und-junge-gruene-fordern-bafoeg-oeffnung-a-fc71bc71-d058-42f2-a73c-73e1a94c484d',\n",
       "   'guidislink': False,\n",
       "   'published': 'Fri, 24 Apr 2020 15:41:15 +0200',\n",
       "   'published_parsed': time.struct_time(tm_year=2020, tm_mon=4, tm_mday=24, tm_hour=13, tm_min=41, tm_sec=15, tm_wday=4, tm_yday=115, tm_isdst=0),\n",
       "   'content': [{'type': 'text/html',\n",
       "     'language': None,\n",
       "     'base': 'https://www.spiegel.de/politik/index.rss',\n",
       "     'value': 'In der Coronakrise stehen die Jugendorganisationen von CDU, SPD, Grünen und FDP zusammen. In einem gemeinsamen Brief an die Bundesregierung verlangen sie nach SPIEGEL-Informationen\\neine Öffnung des Bafögs.'}]},\n",
       "  {'title': 'Corona-Krise in Japan: Osakas Bürgermeister empfiehlt, Frauen sollten nicht einkaufen',\n",
       "   'title_detail': {'type': 'text/plain',\n",
       "    'language': None,\n",
       "    'base': 'https://www.spiegel.de/politik/index.rss',\n",
       "    'value': 'Corona-Krise in Japan: Osakas Bürgermeister empfiehlt, Frauen sollten nicht einkaufen'},\n",
       "   'links': [{'rel': 'alternate',\n",
       "     'type': 'text/html',\n",
       "     'href': 'https://www.spiegel.de/politik/ausland/corona-krise-in-japan-osakas-buergermeister-empfiehlt-frauen-sollten-nicht-einkaufen-a-ee426440-60d6-433c-a743-1592a55087f4#ref=rss'},\n",
       "    {'type': 'image/jpeg',\n",
       "     'href': 'https://cdn.prod.www.spiegel.de/images/21c5aded-35ec-4886-b6e0-a3c58d298983_w520_r2.08_fpx33.34_fpy50.jpg',\n",
       "     'rel': 'enclosure'}],\n",
       "   'link': 'https://www.spiegel.de/politik/ausland/corona-krise-in-japan-osakas-buergermeister-empfiehlt-frauen-sollten-nicht-einkaufen-a-ee426440-60d6-433c-a743-1592a55087f4#ref=rss',\n",
       "   'summary': 'Der Rathauschef der japanischen Stadt Osaka hat mit sexistischen Kommentaren inmitten der Coronakrise Empörung ausgelöst. Frauen brauchen beim Einkaufen seiner Ansicht nach zu lange.',\n",
       "   'summary_detail': {'type': 'text/html',\n",
       "    'language': None,\n",
       "    'base': 'https://www.spiegel.de/politik/index.rss',\n",
       "    'value': 'Der Rathauschef der japanischen Stadt Osaka hat mit sexistischen Kommentaren inmitten der Coronakrise Empörung ausgelöst. Frauen brauchen beim Einkaufen seiner Ansicht nach zu lange.'},\n",
       "   'id': 'https://www.spiegel.de/politik/ausland/corona-krise-in-japan-osakas-buergermeister-empfiehlt-frauen-sollten-nicht-einkaufen-a-ee426440-60d6-433c-a743-1592a55087f4',\n",
       "   'guidislink': False,\n",
       "   'published': 'Fri, 24 Apr 2020 15:31:07 +0200',\n",
       "   'published_parsed': time.struct_time(tm_year=2020, tm_mon=4, tm_mday=24, tm_hour=13, tm_min=31, tm_sec=7, tm_wday=4, tm_yday=115, tm_isdst=0),\n",
       "   'content': [{'type': 'text/html',\n",
       "     'language': None,\n",
       "     'base': 'https://www.spiegel.de/politik/index.rss',\n",
       "     'value': 'Der Rathauschef der japanischen Stadt Osaka hat mit sexistischen Kommentaren inmitten der Coronakrise Empörung ausgelöst. Frauen brauchen beim Einkaufen seiner Ansicht nach zu lange.'}]},\n",
       "  {'title': 'Brexit: EU sieht kaum Fortschritte bei Verhandlungen mit London',\n",
       "   'title_detail': {'type': 'text/plain',\n",
       "    'language': None,\n",
       "    'base': 'https://www.spiegel.de/politik/index.rss',\n",
       "    'value': 'Brexit: EU sieht kaum Fortschritte bei Verhandlungen mit London'},\n",
       "   'links': [{'rel': 'alternate',\n",
       "     'type': 'text/html',\n",
       "     'href': 'https://www.spiegel.de/politik/ausland/brexit-eu-sieht-kaum-fortschritte-bei-verhandlungen-mit-london-a-51c97f98-55b2-48db-aac1-f4ed65e15448#ref=rss'},\n",
       "    {'type': 'image/jpeg',\n",
       "     'href': 'https://cdn.prod.www.spiegel.de/images/88a0d54e-861b-4815-adab-3e68ea8d3abe_w520_r2.08_fpx54_fpy59.jpg',\n",
       "     'rel': 'enclosure'}],\n",
       "   'link': 'https://www.spiegel.de/politik/ausland/brexit-eu-sieht-kaum-fortschritte-bei-verhandlungen-mit-london-a-51c97f98-55b2-48db-aac1-f4ed65e15448#ref=rss',\n",
       "   'summary': 'Die Zeit drängt, am Jahresende ist die Brexit-Übergangsfrist vorbei. Doch die Verhandlungen mit Großbritannien kommen nach Angaben von EU-Chefunterhändler Barnier kaum voran.',\n",
       "   'summary_detail': {'type': 'text/html',\n",
       "    'language': None,\n",
       "    'base': 'https://www.spiegel.de/politik/index.rss',\n",
       "    'value': 'Die Zeit drängt, am Jahresende ist die Brexit-Übergangsfrist vorbei. Doch die Verhandlungen mit Großbritannien kommen nach Angaben von EU-Chefunterhändler Barnier kaum voran.'},\n",
       "   'id': 'https://www.spiegel.de/politik/ausland/brexit-eu-sieht-kaum-fortschritte-bei-verhandlungen-mit-london-a-51c97f98-55b2-48db-aac1-f4ed65e15448',\n",
       "   'guidislink': False,\n",
       "   'published': 'Fri, 24 Apr 2020 15:02:18 +0200',\n",
       "   'published_parsed': time.struct_time(tm_year=2020, tm_mon=4, tm_mday=24, tm_hour=13, tm_min=2, tm_sec=18, tm_wday=4, tm_yday=115, tm_isdst=0),\n",
       "   'content': [{'type': 'text/html',\n",
       "     'language': None,\n",
       "     'base': 'https://www.spiegel.de/politik/index.rss',\n",
       "     'value': 'Die Zeit drängt, am Jahresende ist die Brexit-Übergangsfrist vorbei. Doch die Verhandlungen mit Großbritannien kommen nach Angaben von EU-Chefunterhändler Barnier kaum voran.'}]}],\n",
       " 'bozo': 0,\n",
       " 'headers': {'Accept-Ranges': 'bytes',\n",
       "  'Cache-Control': 'public,max-age=300,s-maxage=300',\n",
       "  'Content-Length': '21732',\n",
       "  'Content-Type': 'application/xml; charset=utf-8',\n",
       "  'Date': 'Sat, 25 Apr 2020 10:58:20 GMT',\n",
       "  'Vary': 'X-Forwarded-Proto',\n",
       "  'X-Cache': 'HIT',\n",
       "  'X-Cache-Grace': '3600.000',\n",
       "  'Via': '1.1 google',\n",
       "  'Alt-Svc': 'clear',\n",
       "  'Connection': 'close'},\n",
       " 'href': 'https://www.spiegel.de/politik/index.rss',\n",
       " 'status': 200,\n",
       " 'encoding': 'utf-8',\n",
       " 'version': 'rss20',\n",
       " 'namespaces': {'content': 'http://purl.org/rss/1.0/modules/content/'}}"
      ]
     },
     "execution_count": 72,
     "metadata": {},
     "output_type": "execute_result"
    }
   ],
   "source": [
    "spiegel\n"
   ]
  },
  {
   "cell_type": "code",
   "execution_count": null,
   "metadata": {},
   "outputs": [],
   "source": []
  }
 ],
 "metadata": {
  "kernelspec": {
   "display_name": "Python 3",
   "language": "python",
   "name": "python3"
  },
  "language_info": {
   "codemirror_mode": {
    "name": "ipython",
    "version": 3
   },
   "file_extension": ".py",
   "mimetype": "text/x-python",
   "name": "python",
   "nbconvert_exporter": "python",
   "pygments_lexer": "ipython3",
   "version": "3.7.4"
  }
 },
 "nbformat": 4,
 "nbformat_minor": 4
}
